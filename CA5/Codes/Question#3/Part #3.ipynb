{
 "cells": [
  {
   "cell_type": "markdown",
   "metadata": {
    "id": "0DyDmR_YzcNU"
   },
   "source": [
    "##  <font color=MediumSlateBlue>Importing Libraries</font> ##"
   ]
  },
  {
   "cell_type": "code",
   "execution_count": 236,
   "metadata": {
    "id": "JEjw5xth6UYe"
   },
   "outputs": [],
   "source": [
    "import random\n",
    "import pprint\n",
    "import io\n",
    "import numpy as np\n",
    "import sys\n",
    "from gym.envs.toy_text import discrete\n",
    "from colorama import Fore, Back, Style\n",
    "from IPython.display import clear_output\n",
    "from numpy import savetxt\n",
    "from numpy import loadtxt\n",
    "import matplotlib.pyplot as plt "
   ]
  },
  {
   "cell_type": "markdown",
   "metadata": {
    "id": "T0tArlRA6iUs"
   },
   "source": [
    "##  <font color=MediumSlateBlue>Directions</font> ##"
   ]
  },
  {
   "cell_type": "code",
   "execution_count": 237,
   "metadata": {
    "id": "0qVDxrpR6dGP"
   },
   "outputs": [],
   "source": [
    "UP = 0\n",
    "RIGHT = 1\n",
    "DOWN = 2\n",
    "LEFT = 3"
   ]
  },
  {
   "cell_type": "markdown",
   "metadata": {
    "id": "wzvRy5J86zZy"
   },
   "source": [
    "##  <font color=MediumSlateBlue>Environment</font> ##"
   ]
  },
  {
   "cell_type": "code",
   "execution_count": 238,
   "metadata": {
    "id": "PpNeLPdclEYF"
   },
   "outputs": [],
   "source": [
    "class GridworldEnv(discrete.DiscreteEnv):\n",
    "  metadata = {'render.modes': ['human', 'ansi']}\n",
    "\n",
    "  def __init__(self, shape=[10,10]):\n",
    "    if not isinstance(shape, (list, tuple)) or not len(shape) == 2:\n",
    "        raise ValueError('shape argument must be a list/tuple of length 2')\n",
    "        \n",
    "    self.shape = shape\n",
    "\n",
    "    nS = np.prod(shape)\n",
    "    nA = 4\n",
    "\n",
    "    MAX_Y = shape[0]\n",
    "    MAX_X = shape[1]\n",
    "\n",
    "    P = {}\n",
    "    grid = np.arange(nS).reshape(shape)\n",
    "    it = np.nditer(grid, flags=['multi_index'])\n",
    "\n",
    "    while not it.finished:\n",
    "      s = it.iterindex\n",
    "      y, x = it.multi_index\n",
    "\n",
    "      # P[s][a] = (prob, next_state, reward, is_done)\n",
    "      P[s] = {a : [] for a in range(nA)}\n",
    "\n",
    "      #Reaching target\n",
    "      is_done = lambda s: s == 0\n",
    "\n",
    "      #Due to existance of walls, these moves are not available\n",
    "      no_up = lambda s: s in [44,45,63,64]\n",
    "      no_down = lambda s: s in [23,24,25,44]\n",
    "      no_left = lambda s: s in [44,36,55]\n",
    "      no_right = lambda s: s in [32,42,52]\n",
    "\n",
    "      #Barries in the path\n",
    "      pit = lambda s: s in [13,62,41]\n",
    "      wall = lambda s: s in [43,33,53,34,35,54]\n",
    "\n",
    "      #Rewards of each state\n",
    "      reward = 1.0 if is_done(s) else 0.0\n",
    "      reward = -10.0 if pit(s) else reward\n",
    "      \n",
    "      ns_up = s if y == 0 else s - MAX_X\n",
    "      ns_right = s if x == (MAX_X - 1) else s + 1\n",
    "      ns_down = s if y == (MAX_Y - 1) else s + MAX_X\n",
    "      ns_left = s if x == 0 else s - 1\n",
    "      \n",
    "      P[s][UP] = [(1, ns_up, reward, is_done(ns_up))]\n",
    "      P[s][RIGHT] = [(1.0, ns_right, reward, is_done(ns_right))]\n",
    "      P[s][DOWN] = [(1, ns_down, reward, is_done(ns_down))]\n",
    "      P[s][LEFT] = [(1, ns_left, reward, is_done(ns_left))]\n",
    "\n",
    "      #Terminal state\n",
    "      if is_done(s):\n",
    "        P[s][UP] = [(1.0, s, reward, True)]\n",
    "        P[s][RIGHT] = [(1.0, s, reward, True)]\n",
    "        P[s][DOWN] = [(1.0, s, reward, True)]\n",
    "        P[s][LEFT] = [(1.0, s, reward, True)]\n",
    "\n",
    "      #Encountering walls\n",
    "      if no_up(s):\n",
    "        P[s][UP] = [(1.0, s, -3.0 , False)]                \n",
    "      if no_down(s):\n",
    "        P[s][DOWN] = [(1.0, s, -3.0 , False)]                \n",
    "      if no_right(s):\n",
    "        P[s][RIGHT] = [(1.0, s, -3.0 , False)]  \n",
    "      if no_left(s):\n",
    "        P[s][LEFT] = [(1.0, s, -3.0 , False)] \n",
    "\n",
    "      it.iternext() \n",
    "\n",
    "    # Initial state distribution is uniform\n",
    "    isd = np.zeros(100)\n",
    "    isd[44]=1\n",
    "    self.P = P\n",
    "\n",
    "    super(GridworldEnv, self).__init__(nS, nA, P, isd)\n",
    "\n",
    "  def _render(self, mode='human', close=False):\n",
    "    if close:\n",
    "      return\n",
    "\n",
    "    outfile = io.StringIO() if mode == 'ansi' else sys.stdout\n",
    "\n",
    "    grid = np.arange(self.nS).reshape(self.shape)\n",
    "    it = np.nditer(grid, flags=['multi_index'])\n",
    "\n",
    "    while not it.finished:\n",
    "      s = it.iterindex\n",
    "      y, x = it.multi_index\n",
    "\n",
    "      if self.s == s and not s==0:\n",
    "        output =  Back.CYAN + Style.BRIGHT + Fore.WHITE +  \"  웃 \" + Style.RESET_ALL if s not in [13,62,41] else Back.BLUE + Style.BRIGHT + Fore.WHITE + \"  웃 \" + Style.RESET_ALL\n",
    "      elif s == 0:\n",
    "          output = Back.GREEN + Style.BRIGHT + Fore.WHITE + \"     \" + Style.RESET_ALL if not self.s==0 else Back.GREEN + Style.BRIGHT + Fore.WHITE +  \"  웃 \" + Style.RESET_ALL\n",
    "      elif s in [13,62,41]:\n",
    "          output = Back.BLUE + \"     \" + Style.RESET_ALL\n",
    "      elif s in [43,33,53,34,35,54]:\n",
    "          output = Back.CYAN + Style.BRIGHT + Fore.BLACK +   \"  █  \"  + Style.RESET_ALL\n",
    "      else:\n",
    "          output = Back.CYAN + Style.BRIGHT + Fore.BLACK +  \"  .  \" + Style.RESET_ALL\n",
    "\n",
    "      if x == 0:\n",
    "          output = output.lstrip()\n",
    "      if x == self.shape[1] - 1:\n",
    "          output = output.rstrip()\n",
    "\n",
    "      outfile.write(output)\n",
    "\n",
    "      if x == self.shape[1] - 1:\n",
    "          outfile.write(\"\\n\")\n",
    "\n",
    "      it.iternext()"
   ]
  },
  {
   "cell_type": "markdown",
   "metadata": {},
   "source": [
    "##  <font color=MediumSlateBlue>Reseting Model</font> ##"
   ]
  },
  {
   "cell_type": "code",
   "execution_count": 239,
   "metadata": {},
   "outputs": [
    {
     "name": "stdout",
     "output_type": "stream",
     "text": [
      "\u001b[42m\u001b[1m\u001b[37m     \u001b[0m\u001b[46m\u001b[1m\u001b[30m  .  \u001b[0m\u001b[46m\u001b[1m\u001b[30m  .  \u001b[0m\u001b[46m\u001b[1m\u001b[30m  .  \u001b[0m\u001b[46m\u001b[1m\u001b[30m  .  \u001b[0m\u001b[46m\u001b[1m\u001b[30m  .  \u001b[0m\u001b[46m\u001b[1m\u001b[30m  .  \u001b[0m\u001b[46m\u001b[1m\u001b[30m  .  \u001b[0m\u001b[46m\u001b[1m\u001b[30m  .  \u001b[0m\u001b[46m\u001b[1m\u001b[30m  .  \u001b[0m\n",
      "\u001b[46m\u001b[1m\u001b[30m  .  \u001b[0m\u001b[46m\u001b[1m\u001b[30m  .  \u001b[0m\u001b[46m\u001b[1m\u001b[30m  .  \u001b[0m\u001b[44m     \u001b[0m\u001b[46m\u001b[1m\u001b[30m  .  \u001b[0m\u001b[46m\u001b[1m\u001b[30m  .  \u001b[0m\u001b[46m\u001b[1m\u001b[30m  .  \u001b[0m\u001b[46m\u001b[1m\u001b[30m  .  \u001b[0m\u001b[46m\u001b[1m\u001b[30m  .  \u001b[0m\u001b[46m\u001b[1m\u001b[30m  .  \u001b[0m\n",
      "\u001b[46m\u001b[1m\u001b[30m  .  \u001b[0m\u001b[46m\u001b[1m\u001b[30m  .  \u001b[0m\u001b[46m\u001b[1m\u001b[30m  .  \u001b[0m\u001b[46m\u001b[1m\u001b[30m  .  \u001b[0m\u001b[46m\u001b[1m\u001b[30m  .  \u001b[0m\u001b[46m\u001b[1m\u001b[30m  .  \u001b[0m\u001b[46m\u001b[1m\u001b[30m  .  \u001b[0m\u001b[46m\u001b[1m\u001b[30m  .  \u001b[0m\u001b[46m\u001b[1m\u001b[30m  .  \u001b[0m\u001b[46m\u001b[1m\u001b[30m  .  \u001b[0m\n",
      "\u001b[46m\u001b[1m\u001b[30m  .  \u001b[0m\u001b[46m\u001b[1m\u001b[30m  .  \u001b[0m\u001b[46m\u001b[1m\u001b[30m  .  \u001b[0m\u001b[46m\u001b[1m\u001b[30m  █  \u001b[0m\u001b[46m\u001b[1m\u001b[30m  █  \u001b[0m\u001b[46m\u001b[1m\u001b[30m  █  \u001b[0m\u001b[46m\u001b[1m\u001b[30m  .  \u001b[0m\u001b[46m\u001b[1m\u001b[30m  .  \u001b[0m\u001b[46m\u001b[1m\u001b[30m  .  \u001b[0m\u001b[46m\u001b[1m\u001b[30m  .  \u001b[0m\n",
      "\u001b[46m\u001b[1m\u001b[30m  .  \u001b[0m\u001b[44m     \u001b[0m\u001b[46m\u001b[1m\u001b[30m  .  \u001b[0m\u001b[46m\u001b[1m\u001b[30m  █  \u001b[0m\u001b[46m\u001b[1m\u001b[37m  웃 \u001b[0m\u001b[46m\u001b[1m\u001b[30m  .  \u001b[0m\u001b[46m\u001b[1m\u001b[30m  .  \u001b[0m\u001b[46m\u001b[1m\u001b[30m  .  \u001b[0m\u001b[46m\u001b[1m\u001b[30m  .  \u001b[0m\u001b[46m\u001b[1m\u001b[30m  .  \u001b[0m\n",
      "\u001b[46m\u001b[1m\u001b[30m  .  \u001b[0m\u001b[46m\u001b[1m\u001b[30m  .  \u001b[0m\u001b[46m\u001b[1m\u001b[30m  .  \u001b[0m\u001b[46m\u001b[1m\u001b[30m  █  \u001b[0m\u001b[46m\u001b[1m\u001b[30m  █  \u001b[0m\u001b[46m\u001b[1m\u001b[30m  .  \u001b[0m\u001b[46m\u001b[1m\u001b[30m  .  \u001b[0m\u001b[46m\u001b[1m\u001b[30m  .  \u001b[0m\u001b[46m\u001b[1m\u001b[30m  .  \u001b[0m\u001b[46m\u001b[1m\u001b[30m  .  \u001b[0m\n",
      "\u001b[46m\u001b[1m\u001b[30m  .  \u001b[0m\u001b[46m\u001b[1m\u001b[30m  .  \u001b[0m\u001b[44m     \u001b[0m\u001b[46m\u001b[1m\u001b[30m  .  \u001b[0m\u001b[46m\u001b[1m\u001b[30m  .  \u001b[0m\u001b[46m\u001b[1m\u001b[30m  .  \u001b[0m\u001b[46m\u001b[1m\u001b[30m  .  \u001b[0m\u001b[46m\u001b[1m\u001b[30m  .  \u001b[0m\u001b[46m\u001b[1m\u001b[30m  .  \u001b[0m\u001b[46m\u001b[1m\u001b[30m  .  \u001b[0m\n",
      "\u001b[46m\u001b[1m\u001b[30m  .  \u001b[0m\u001b[46m\u001b[1m\u001b[30m  .  \u001b[0m\u001b[46m\u001b[1m\u001b[30m  .  \u001b[0m\u001b[46m\u001b[1m\u001b[30m  .  \u001b[0m\u001b[46m\u001b[1m\u001b[30m  .  \u001b[0m\u001b[46m\u001b[1m\u001b[30m  .  \u001b[0m\u001b[46m\u001b[1m\u001b[30m  .  \u001b[0m\u001b[46m\u001b[1m\u001b[30m  .  \u001b[0m\u001b[46m\u001b[1m\u001b[30m  .  \u001b[0m\u001b[46m\u001b[1m\u001b[30m  .  \u001b[0m\n",
      "\u001b[46m\u001b[1m\u001b[30m  .  \u001b[0m\u001b[46m\u001b[1m\u001b[30m  .  \u001b[0m\u001b[46m\u001b[1m\u001b[30m  .  \u001b[0m\u001b[46m\u001b[1m\u001b[30m  .  \u001b[0m\u001b[46m\u001b[1m\u001b[30m  .  \u001b[0m\u001b[46m\u001b[1m\u001b[30m  .  \u001b[0m\u001b[46m\u001b[1m\u001b[30m  .  \u001b[0m\u001b[46m\u001b[1m\u001b[30m  .  \u001b[0m\u001b[46m\u001b[1m\u001b[30m  .  \u001b[0m\u001b[46m\u001b[1m\u001b[30m  .  \u001b[0m\n",
      "\u001b[46m\u001b[1m\u001b[30m  .  \u001b[0m\u001b[46m\u001b[1m\u001b[30m  .  \u001b[0m\u001b[46m\u001b[1m\u001b[30m  .  \u001b[0m\u001b[46m\u001b[1m\u001b[30m  .  \u001b[0m\u001b[46m\u001b[1m\u001b[30m  .  \u001b[0m\u001b[46m\u001b[1m\u001b[30m  .  \u001b[0m\u001b[46m\u001b[1m\u001b[30m  .  \u001b[0m\u001b[46m\u001b[1m\u001b[30m  .  \u001b[0m\u001b[46m\u001b[1m\u001b[30m  .  \u001b[0m\u001b[46m\u001b[1m\u001b[30m  .  \u001b[0m\n"
     ]
    }
   ],
   "source": [
    "env=GridworldEnv()\n",
    "env.reset() \n",
    "env._render()"
   ]
  },
  {
   "cell_type": "markdown",
   "metadata": {},
   "source": [
    "##  <font color=MediumSlateBlue>Training Model</font> ## "
   ]
  },
  {
   "cell_type": "code",
   "execution_count": 240,
   "metadata": {},
   "outputs": [],
   "source": [
    "def training_model(gamma,Learning_rate,exploration_probability,episode):\n",
    "    Numer_of_states=10*10*1\n",
    "    Number_of_action=4\n",
    "    Q_Matrix = loadtxt('Q_func_init.csv', delimiter=',')\n",
    "    path_length_episode = []\n",
    "    rewards_per_episode = []\n",
    "    for i in range(episode):\n",
    "        state = env.reset()\n",
    "        move=0\n",
    "        reward=0\n",
    "        done = False\n",
    "        total_episode_reward = 0\n",
    "        while not done:\n",
    "            if random.uniform(0, 1) < exploration_probability:\n",
    "                action = env.action_space.sample() \n",
    "            else:\n",
    "                action = np.argmax(Q_Matrix[state]) \n",
    "            \n",
    "            next_state, reward, done, info = env.step(action)\n",
    "            if reward == -10 :\n",
    "                next_state=44    \n",
    "            previous_value = Q_Matrix[state, action]\n",
    "            next_max = np.max(Q_Matrix[next_state])\n",
    "            #reward=reward-1\n",
    "            new_value = (1 - Learning_rate) * previous_value + Learning_rate * (reward + gamma * next_max)\n",
    "            Q_Matrix[state, action] = new_value  \n",
    "            total_episode_reward = total_episode_reward + reward\n",
    "            state = next_state\n",
    "            move += 1\n",
    "        rewards_per_episode.append(total_episode_reward)\n",
    "        path_length_episode.append(move)  \n",
    "        if i % 100 == 0:\n",
    "            clear_output(wait=True)\n",
    "            print(f\"Episode: {i}\")    \n",
    "    print(\"Training succesfully finished.\\n\")\n",
    "    savetxt('Q_func.csv',Q_Matrix, delimiter=',')\n",
    "    \n",
    "    return path_length_episode,rewards_per_episode,Q_Matrix"
   ]
  },
  {
   "cell_type": "code",
   "execution_count": 241,
   "metadata": {},
   "outputs": [
    {
     "name": "stdout",
     "output_type": "stream",
     "text": [
      "Episode: 19900\n",
      "Training succesfully finished.\n",
      "\n",
      "Wall time: 7.35 s\n"
     ]
    }
   ],
   "source": [
    "%%time\n",
    "Learning_rate = 0.1\n",
    "gamma = 0.99\n",
    "exploration_probability = 0.1\n",
    "\n",
    "path_length_episode,rewards_per_episode,Q_Matrix=training_model(gamma,Learning_rate,exploration_probability,20000)"
   ]
  },
  {
   "cell_type": "code",
   "execution_count": 242,
   "metadata": {},
   "outputs": [
    {
     "data": {
      "text/plain": [
       "Text(0.5, 0, 'iteration')"
      ]
     },
     "execution_count": 242,
     "metadata": {},
     "output_type": "execute_result"
    },
    {
     "data": {
      "image/png": "[encoded data removed]",
      "text/plain": [
       "<Figure size 432x288 with 1 Axes>"
      ]
     },
     "metadata": {
      "needs_background": "light"
     },
     "output_type": "display_data"
    }
   ],
   "source": [
    "plt.plot(rewards_per_episode)\n",
    "plt.title('reward per episode')\n",
    "plt.ylabel('reward')\n",
    "plt.xlabel('iteration')"
   ]
  },
  {
   "cell_type": "code",
   "execution_count": 243,
   "metadata": {},
   "outputs": [
    {
     "data": {
      "text/plain": [
       "Text(0.5, 0, 'iteration')"
      ]
     },
     "execution_count": 243,
     "metadata": {},
     "output_type": "execute_result"
    },
    {
     "data": {
      "image/png": "[encoded data removed]",
      "text/plain": [
       "<Figure size 432x288 with 1 Axes>"
      ]
     },
     "metadata": {
      "needs_background": "light"
     },
     "output_type": "display_data"
    }
   ],
   "source": [
    "plt.plot(path_length_episode)\n",
    "plt.title('Length of Path per Episode')\n",
    "plt.ylabel('Path Length')\n",
    "plt.xlabel('iteration')"
   ]
  },
  {
   "cell_type": "markdown",
   "metadata": {},
   "source": [
    "##  <font color=MediumSlateBlue>Testing Model After Q-Learning</font> ##"
   ]
  },
  {
   "cell_type": "code",
   "execution_count": 244,
   "metadata": {},
   "outputs": [
    {
     "name": "stdout",
     "output_type": "stream",
     "text": [
      "\u001b[42m\u001b[1m\u001b[37m  웃 \u001b[0m\u001b[46m\u001b[1m\u001b[30m  .  \u001b[0m\u001b[46m\u001b[1m\u001b[30m  .  \u001b[0m\u001b[46m\u001b[1m\u001b[30m  .  \u001b[0m\u001b[46m\u001b[1m\u001b[30m  .  \u001b[0m\u001b[46m\u001b[1m\u001b[30m  .  \u001b[0m\u001b[46m\u001b[1m\u001b[30m  .  \u001b[0m\u001b[46m\u001b[1m\u001b[30m  .  \u001b[0m\u001b[46m\u001b[1m\u001b[30m  .  \u001b[0m\u001b[46m\u001b[1m\u001b[30m  .  \u001b[0m\n",
      "\u001b[46m\u001b[1m\u001b[30m  .  \u001b[0m\u001b[46m\u001b[1m\u001b[30m  .  \u001b[0m\u001b[46m\u001b[1m\u001b[30m  .  \u001b[0m\u001b[44m     \u001b[0m\u001b[46m\u001b[1m\u001b[30m  .  \u001b[0m\u001b[46m\u001b[1m\u001b[30m  .  \u001b[0m\u001b[46m\u001b[1m\u001b[30m  .  \u001b[0m\u001b[46m\u001b[1m\u001b[30m  .  \u001b[0m\u001b[46m\u001b[1m\u001b[30m  .  \u001b[0m\u001b[46m\u001b[1m\u001b[30m  .  \u001b[0m\n",
      "\u001b[46m\u001b[1m\u001b[30m  .  \u001b[0m\u001b[46m\u001b[1m\u001b[30m  .  \u001b[0m\u001b[46m\u001b[1m\u001b[30m  .  \u001b[0m\u001b[46m\u001b[1m\u001b[30m  .  \u001b[0m\u001b[46m\u001b[1m\u001b[30m  .  \u001b[0m\u001b[46m\u001b[1m\u001b[30m  .  \u001b[0m\u001b[46m\u001b[1m\u001b[30m  .  \u001b[0m\u001b[46m\u001b[1m\u001b[30m  .  \u001b[0m\u001b[46m\u001b[1m\u001b[30m  .  \u001b[0m\u001b[46m\u001b[1m\u001b[30m  .  \u001b[0m\n",
      "\u001b[46m\u001b[1m\u001b[30m  .  \u001b[0m\u001b[46m\u001b[1m\u001b[30m  .  \u001b[0m\u001b[46m\u001b[1m\u001b[30m  .  \u001b[0m\u001b[46m\u001b[1m\u001b[30m  █  \u001b[0m\u001b[46m\u001b[1m\u001b[30m  █  \u001b[0m\u001b[46m\u001b[1m\u001b[30m  █  \u001b[0m\u001b[46m\u001b[1m\u001b[30m  .  \u001b[0m\u001b[46m\u001b[1m\u001b[30m  .  \u001b[0m\u001b[46m\u001b[1m\u001b[30m  .  \u001b[0m\u001b[46m\u001b[1m\u001b[30m  .  \u001b[0m\n",
      "\u001b[46m\u001b[1m\u001b[30m  .  \u001b[0m\u001b[44m     \u001b[0m\u001b[46m\u001b[1m\u001b[30m  .  \u001b[0m\u001b[46m\u001b[1m\u001b[30m  █  \u001b[0m\u001b[46m\u001b[1m\u001b[30m  .  \u001b[0m\u001b[46m\u001b[1m\u001b[30m  .  \u001b[0m\u001b[46m\u001b[1m\u001b[30m  .  \u001b[0m\u001b[46m\u001b[1m\u001b[30m  .  \u001b[0m\u001b[46m\u001b[1m\u001b[30m  .  \u001b[0m\u001b[46m\u001b[1m\u001b[30m  .  \u001b[0m\n",
      "\u001b[46m\u001b[1m\u001b[30m  .  \u001b[0m\u001b[46m\u001b[1m\u001b[30m  .  \u001b[0m\u001b[46m\u001b[1m\u001b[30m  .  \u001b[0m\u001b[46m\u001b[1m\u001b[30m  █  \u001b[0m\u001b[46m\u001b[1m\u001b[30m  █  \u001b[0m\u001b[46m\u001b[1m\u001b[30m  .  \u001b[0m\u001b[46m\u001b[1m\u001b[30m  .  \u001b[0m\u001b[46m\u001b[1m\u001b[30m  .  \u001b[0m\u001b[46m\u001b[1m\u001b[30m  .  \u001b[0m\u001b[46m\u001b[1m\u001b[30m  .  \u001b[0m\n",
      "\u001b[46m\u001b[1m\u001b[30m  .  \u001b[0m\u001b[46m\u001b[1m\u001b[30m  .  \u001b[0m\u001b[44m     \u001b[0m\u001b[46m\u001b[1m\u001b[30m  .  \u001b[0m\u001b[46m\u001b[1m\u001b[30m  .  \u001b[0m\u001b[46m\u001b[1m\u001b[30m  .  \u001b[0m\u001b[46m\u001b[1m\u001b[30m  .  \u001b[0m\u001b[46m\u001b[1m\u001b[30m  .  \u001b[0m\u001b[46m\u001b[1m\u001b[30m  .  \u001b[0m\u001b[46m\u001b[1m\u001b[30m  .  \u001b[0m\n",
      "\u001b[46m\u001b[1m\u001b[30m  .  \u001b[0m\u001b[46m\u001b[1m\u001b[30m  .  \u001b[0m\u001b[46m\u001b[1m\u001b[30m  .  \u001b[0m\u001b[46m\u001b[1m\u001b[30m  .  \u001b[0m\u001b[46m\u001b[1m\u001b[30m  .  \u001b[0m\u001b[46m\u001b[1m\u001b[30m  .  \u001b[0m\u001b[46m\u001b[1m\u001b[30m  .  \u001b[0m\u001b[46m\u001b[1m\u001b[30m  .  \u001b[0m\u001b[46m\u001b[1m\u001b[30m  .  \u001b[0m\u001b[46m\u001b[1m\u001b[30m  .  \u001b[0m\n",
      "\u001b[46m\u001b[1m\u001b[30m  .  \u001b[0m\u001b[46m\u001b[1m\u001b[30m  .  \u001b[0m\u001b[46m\u001b[1m\u001b[30m  .  \u001b[0m\u001b[46m\u001b[1m\u001b[30m  .  \u001b[0m\u001b[46m\u001b[1m\u001b[30m  .  \u001b[0m\u001b[46m\u001b[1m\u001b[30m  .  \u001b[0m\u001b[46m\u001b[1m\u001b[30m  .  \u001b[0m\u001b[46m\u001b[1m\u001b[30m  .  \u001b[0m\u001b[46m\u001b[1m\u001b[30m  .  \u001b[0m\u001b[46m\u001b[1m\u001b[30m  .  \u001b[0m\n",
      "\u001b[46m\u001b[1m\u001b[30m  .  \u001b[0m\u001b[46m\u001b[1m\u001b[30m  .  \u001b[0m\u001b[46m\u001b[1m\u001b[30m  .  \u001b[0m\u001b[46m\u001b[1m\u001b[30m  .  \u001b[0m\u001b[46m\u001b[1m\u001b[30m  .  \u001b[0m\u001b[46m\u001b[1m\u001b[30m  .  \u001b[0m\u001b[46m\u001b[1m\u001b[30m  .  \u001b[0m\u001b[46m\u001b[1m\u001b[30m  .  \u001b[0m\u001b[46m\u001b[1m\u001b[30m  .  \u001b[0m\u001b[46m\u001b[1m\u001b[30m  .  \u001b[0m\n",
      "Results after 5 episodes:\n",
      "Path Length: 12\n",
      "Number of Penalty: 0\n",
      "\u001b[42m\u001b[1m\u001b[37m  웃 \u001b[0m\u001b[46m\u001b[1m\u001b[30m  .  \u001b[0m\u001b[46m\u001b[1m\u001b[30m  .  \u001b[0m\u001b[46m\u001b[1m\u001b[30m  .  \u001b[0m\u001b[46m\u001b[1m\u001b[30m  .  \u001b[0m\u001b[46m\u001b[1m\u001b[30m  .  \u001b[0m\u001b[46m\u001b[1m\u001b[30m  .  \u001b[0m\u001b[46m\u001b[1m\u001b[30m  .  \u001b[0m\u001b[46m\u001b[1m\u001b[30m  .  \u001b[0m\u001b[46m\u001b[1m\u001b[30m  .  \u001b[0m\n",
      "\u001b[46m\u001b[1m\u001b[30m  .  \u001b[0m\u001b[46m\u001b[1m\u001b[30m  .  \u001b[0m\u001b[46m\u001b[1m\u001b[30m  .  \u001b[0m\u001b[44m     \u001b[0m\u001b[46m\u001b[1m\u001b[30m  .  \u001b[0m\u001b[46m\u001b[1m\u001b[30m  .  \u001b[0m\u001b[46m\u001b[1m\u001b[30m  .  \u001b[0m\u001b[46m\u001b[1m\u001b[30m  .  \u001b[0m\u001b[46m\u001b[1m\u001b[30m  .  \u001b[0m\u001b[46m\u001b[1m\u001b[30m  .  \u001b[0m\n",
      "\u001b[46m\u001b[1m\u001b[30m  .  \u001b[0m\u001b[46m\u001b[1m\u001b[30m  .  \u001b[0m\u001b[46m\u001b[1m\u001b[30m  .  \u001b[0m\u001b[46m\u001b[1m\u001b[30m  .  \u001b[0m\u001b[46m\u001b[1m\u001b[30m  .  \u001b[0m\u001b[46m\u001b[1m\u001b[30m  .  \u001b[0m\u001b[46m\u001b[1m\u001b[30m  .  \u001b[0m\u001b[46m\u001b[1m\u001b[30m  .  \u001b[0m\u001b[46m\u001b[1m\u001b[30m  .  \u001b[0m\u001b[46m\u001b[1m\u001b[30m  .  \u001b[0m\n",
      "\u001b[46m\u001b[1m\u001b[30m  .  \u001b[0m\u001b[46m\u001b[1m\u001b[30m  .  \u001b[0m\u001b[46m\u001b[1m\u001b[30m  .  \u001b[0m\u001b[46m\u001b[1m\u001b[30m  █  \u001b[0m\u001b[46m\u001b[1m\u001b[30m  █  \u001b[0m\u001b[46m\u001b[1m\u001b[30m  █  \u001b[0m\u001b[46m\u001b[1m\u001b[30m  .  \u001b[0m\u001b[46m\u001b[1m\u001b[30m  .  \u001b[0m\u001b[46m\u001b[1m\u001b[30m  .  \u001b[0m\u001b[46m\u001b[1m\u001b[30m  .  \u001b[0m\n",
      "\u001b[46m\u001b[1m\u001b[30m  .  \u001b[0m\u001b[44m     \u001b[0m\u001b[46m\u001b[1m\u001b[30m  .  \u001b[0m\u001b[46m\u001b[1m\u001b[30m  █  \u001b[0m\u001b[46m\u001b[1m\u001b[30m  .  \u001b[0m\u001b[46m\u001b[1m\u001b[30m  .  \u001b[0m\u001b[46m\u001b[1m\u001b[30m  .  \u001b[0m\u001b[46m\u001b[1m\u001b[30m  .  \u001b[0m\u001b[46m\u001b[1m\u001b[30m  .  \u001b[0m\u001b[46m\u001b[1m\u001b[30m  .  \u001b[0m\n",
      "\u001b[46m\u001b[1m\u001b[30m  .  \u001b[0m\u001b[46m\u001b[1m\u001b[30m  .  \u001b[0m\u001b[46m\u001b[1m\u001b[30m  .  \u001b[0m\u001b[46m\u001b[1m\u001b[30m  █  \u001b[0m\u001b[46m\u001b[1m\u001b[30m  █  \u001b[0m\u001b[46m\u001b[1m\u001b[30m  .  \u001b[0m\u001b[46m\u001b[1m\u001b[30m  .  \u001b[0m\u001b[46m\u001b[1m\u001b[30m  .  \u001b[0m\u001b[46m\u001b[1m\u001b[30m  .  \u001b[0m\u001b[46m\u001b[1m\u001b[30m  .  \u001b[0m\n",
      "\u001b[46m\u001b[1m\u001b[30m  .  \u001b[0m\u001b[46m\u001b[1m\u001b[30m  .  \u001b[0m\u001b[44m     \u001b[0m\u001b[46m\u001b[1m\u001b[30m  .  \u001b[0m\u001b[46m\u001b[1m\u001b[30m  .  \u001b[0m\u001b[46m\u001b[1m\u001b[30m  .  \u001b[0m\u001b[46m\u001b[1m\u001b[30m  .  \u001b[0m\u001b[46m\u001b[1m\u001b[30m  .  \u001b[0m\u001b[46m\u001b[1m\u001b[30m  .  \u001b[0m\u001b[46m\u001b[1m\u001b[30m  .  \u001b[0m\n",
      "\u001b[46m\u001b[1m\u001b[30m  .  \u001b[0m\u001b[46m\u001b[1m\u001b[30m  .  \u001b[0m\u001b[46m\u001b[1m\u001b[30m  .  \u001b[0m\u001b[46m\u001b[1m\u001b[30m  .  \u001b[0m\u001b[46m\u001b[1m\u001b[30m  .  \u001b[0m\u001b[46m\u001b[1m\u001b[30m  .  \u001b[0m\u001b[46m\u001b[1m\u001b[30m  .  \u001b[0m\u001b[46m\u001b[1m\u001b[30m  .  \u001b[0m\u001b[46m\u001b[1m\u001b[30m  .  \u001b[0m\u001b[46m\u001b[1m\u001b[30m  .  \u001b[0m\n",
      "\u001b[46m\u001b[1m\u001b[30m  .  \u001b[0m\u001b[46m\u001b[1m\u001b[30m  .  \u001b[0m\u001b[46m\u001b[1m\u001b[30m  .  \u001b[0m\u001b[46m\u001b[1m\u001b[30m  .  \u001b[0m\u001b[46m\u001b[1m\u001b[30m  .  \u001b[0m\u001b[46m\u001b[1m\u001b[30m  .  \u001b[0m\u001b[46m\u001b[1m\u001b[30m  .  \u001b[0m\u001b[46m\u001b[1m\u001b[30m  .  \u001b[0m\u001b[46m\u001b[1m\u001b[30m  .  \u001b[0m\u001b[46m\u001b[1m\u001b[30m  .  \u001b[0m\n",
      "\u001b[46m\u001b[1m\u001b[30m  .  \u001b[0m\u001b[46m\u001b[1m\u001b[30m  .  \u001b[0m\u001b[46m\u001b[1m\u001b[30m  .  \u001b[0m\u001b[46m\u001b[1m\u001b[30m  .  \u001b[0m\u001b[46m\u001b[1m\u001b[30m  .  \u001b[0m\u001b[46m\u001b[1m\u001b[30m  .  \u001b[0m\u001b[46m\u001b[1m\u001b[30m  .  \u001b[0m\u001b[46m\u001b[1m\u001b[30m  .  \u001b[0m\u001b[46m\u001b[1m\u001b[30m  .  \u001b[0m\u001b[46m\u001b[1m\u001b[30m  .  \u001b[0m\n",
      "Results after 5 episodes:\n",
      "Path Length: 12\n",
      "Number of Penalty: 0\n",
      "\u001b[42m\u001b[1m\u001b[37m  웃 \u001b[0m\u001b[46m\u001b[1m\u001b[30m  .  \u001b[0m\u001b[46m\u001b[1m\u001b[30m  .  \u001b[0m\u001b[46m\u001b[1m\u001b[30m  .  \u001b[0m\u001b[46m\u001b[1m\u001b[30m  .  \u001b[0m\u001b[46m\u001b[1m\u001b[30m  .  \u001b[0m\u001b[46m\u001b[1m\u001b[30m  .  \u001b[0m\u001b[46m\u001b[1m\u001b[30m  .  \u001b[0m\u001b[46m\u001b[1m\u001b[30m  .  \u001b[0m\u001b[46m\u001b[1m\u001b[30m  .  \u001b[0m\n",
      "\u001b[46m\u001b[1m\u001b[30m  .  \u001b[0m\u001b[46m\u001b[1m\u001b[30m  .  \u001b[0m\u001b[46m\u001b[1m\u001b[30m  .  \u001b[0m\u001b[44m     \u001b[0m\u001b[46m\u001b[1m\u001b[30m  .  \u001b[0m\u001b[46m\u001b[1m\u001b[30m  .  \u001b[0m\u001b[46m\u001b[1m\u001b[30m  .  \u001b[0m\u001b[46m\u001b[1m\u001b[30m  .  \u001b[0m\u001b[46m\u001b[1m\u001b[30m  .  \u001b[0m\u001b[46m\u001b[1m\u001b[30m  .  \u001b[0m\n",
      "\u001b[46m\u001b[1m\u001b[30m  .  \u001b[0m\u001b[46m\u001b[1m\u001b[30m  .  \u001b[0m\u001b[46m\u001b[1m\u001b[30m  .  \u001b[0m\u001b[46m\u001b[1m\u001b[30m  .  \u001b[0m\u001b[46m\u001b[1m\u001b[30m  .  \u001b[0m\u001b[46m\u001b[1m\u001b[30m  .  \u001b[0m\u001b[46m\u001b[1m\u001b[30m  .  \u001b[0m\u001b[46m\u001b[1m\u001b[30m  .  \u001b[0m\u001b[46m\u001b[1m\u001b[30m  .  \u001b[0m\u001b[46m\u001b[1m\u001b[30m  .  \u001b[0m\n",
      "\u001b[46m\u001b[1m\u001b[30m  .  \u001b[0m\u001b[46m\u001b[1m\u001b[30m  .  \u001b[0m\u001b[46m\u001b[1m\u001b[30m  .  \u001b[0m\u001b[46m\u001b[1m\u001b[30m  █  \u001b[0m\u001b[46m\u001b[1m\u001b[30m  █  \u001b[0m\u001b[46m\u001b[1m\u001b[30m  █  \u001b[0m\u001b[46m\u001b[1m\u001b[30m  .  \u001b[0m\u001b[46m\u001b[1m\u001b[30m  .  \u001b[0m\u001b[46m\u001b[1m\u001b[30m  .  \u001b[0m\u001b[46m\u001b[1m\u001b[30m  .  \u001b[0m\n",
      "\u001b[46m\u001b[1m\u001b[30m  .  \u001b[0m\u001b[44m     \u001b[0m\u001b[46m\u001b[1m\u001b[30m  .  \u001b[0m\u001b[46m\u001b[1m\u001b[30m  █  \u001b[0m\u001b[46m\u001b[1m\u001b[30m  .  \u001b[0m\u001b[46m\u001b[1m\u001b[30m  .  \u001b[0m\u001b[46m\u001b[1m\u001b[30m  .  \u001b[0m\u001b[46m\u001b[1m\u001b[30m  .  \u001b[0m\u001b[46m\u001b[1m\u001b[30m  .  \u001b[0m\u001b[46m\u001b[1m\u001b[30m  .  \u001b[0m\n",
      "\u001b[46m\u001b[1m\u001b[30m  .  \u001b[0m\u001b[46m\u001b[1m\u001b[30m  .  \u001b[0m\u001b[46m\u001b[1m\u001b[30m  .  \u001b[0m\u001b[46m\u001b[1m\u001b[30m  █  \u001b[0m\u001b[46m\u001b[1m\u001b[30m  █  \u001b[0m\u001b[46m\u001b[1m\u001b[30m  .  \u001b[0m\u001b[46m\u001b[1m\u001b[30m  .  \u001b[0m\u001b[46m\u001b[1m\u001b[30m  .  \u001b[0m\u001b[46m\u001b[1m\u001b[30m  .  \u001b[0m\u001b[46m\u001b[1m\u001b[30m  .  \u001b[0m\n",
      "\u001b[46m\u001b[1m\u001b[30m  .  \u001b[0m\u001b[46m\u001b[1m\u001b[30m  .  \u001b[0m\u001b[44m     \u001b[0m\u001b[46m\u001b[1m\u001b[30m  .  \u001b[0m\u001b[46m\u001b[1m\u001b[30m  .  \u001b[0m\u001b[46m\u001b[1m\u001b[30m  .  \u001b[0m\u001b[46m\u001b[1m\u001b[30m  .  \u001b[0m\u001b[46m\u001b[1m\u001b[30m  .  \u001b[0m\u001b[46m\u001b[1m\u001b[30m  .  \u001b[0m\u001b[46m\u001b[1m\u001b[30m  .  \u001b[0m\n",
      "\u001b[46m\u001b[1m\u001b[30m  .  \u001b[0m\u001b[46m\u001b[1m\u001b[30m  .  \u001b[0m\u001b[46m\u001b[1m\u001b[30m  .  \u001b[0m\u001b[46m\u001b[1m\u001b[30m  .  \u001b[0m\u001b[46m\u001b[1m\u001b[30m  .  \u001b[0m\u001b[46m\u001b[1m\u001b[30m  .  \u001b[0m\u001b[46m\u001b[1m\u001b[30m  .  \u001b[0m\u001b[46m\u001b[1m\u001b[30m  .  \u001b[0m\u001b[46m\u001b[1m\u001b[30m  .  \u001b[0m\u001b[46m\u001b[1m\u001b[30m  .  \u001b[0m\n",
      "\u001b[46m\u001b[1m\u001b[30m  .  \u001b[0m\u001b[46m\u001b[1m\u001b[30m  .  \u001b[0m\u001b[46m\u001b[1m\u001b[30m  .  \u001b[0m\u001b[46m\u001b[1m\u001b[30m  .  \u001b[0m\u001b[46m\u001b[1m\u001b[30m  .  \u001b[0m\u001b[46m\u001b[1m\u001b[30m  .  \u001b[0m\u001b[46m\u001b[1m\u001b[30m  .  \u001b[0m\u001b[46m\u001b[1m\u001b[30m  .  \u001b[0m\u001b[46m\u001b[1m\u001b[30m  .  \u001b[0m\u001b[46m\u001b[1m\u001b[30m  .  \u001b[0m\n",
      "\u001b[46m\u001b[1m\u001b[30m  .  \u001b[0m\u001b[46m\u001b[1m\u001b[30m  .  \u001b[0m\u001b[46m\u001b[1m\u001b[30m  .  \u001b[0m\u001b[46m\u001b[1m\u001b[30m  .  \u001b[0m\u001b[46m\u001b[1m\u001b[30m  .  \u001b[0m\u001b[46m\u001b[1m\u001b[30m  .  \u001b[0m\u001b[46m\u001b[1m\u001b[30m  .  \u001b[0m\u001b[46m\u001b[1m\u001b[30m  .  \u001b[0m\u001b[46m\u001b[1m\u001b[30m  .  \u001b[0m\u001b[46m\u001b[1m\u001b[30m  .  \u001b[0m\n",
      "Results after 5 episodes:\n",
      "Path Length: 12\n",
      "Number of Penalty: 0\n",
      "\u001b[42m\u001b[1m\u001b[37m  웃 \u001b[0m\u001b[46m\u001b[1m\u001b[30m  .  \u001b[0m\u001b[46m\u001b[1m\u001b[30m  .  \u001b[0m\u001b[46m\u001b[1m\u001b[30m  .  \u001b[0m\u001b[46m\u001b[1m\u001b[30m  .  \u001b[0m\u001b[46m\u001b[1m\u001b[30m  .  \u001b[0m\u001b[46m\u001b[1m\u001b[30m  .  \u001b[0m\u001b[46m\u001b[1m\u001b[30m  .  \u001b[0m\u001b[46m\u001b[1m\u001b[30m  .  \u001b[0m\u001b[46m\u001b[1m\u001b[30m  .  \u001b[0m\n",
      "\u001b[46m\u001b[1m\u001b[30m  .  \u001b[0m\u001b[46m\u001b[1m\u001b[30m  .  \u001b[0m\u001b[46m\u001b[1m\u001b[30m  .  \u001b[0m\u001b[44m     \u001b[0m\u001b[46m\u001b[1m\u001b[30m  .  \u001b[0m\u001b[46m\u001b[1m\u001b[30m  .  \u001b[0m\u001b[46m\u001b[1m\u001b[30m  .  \u001b[0m\u001b[46m\u001b[1m\u001b[30m  .  \u001b[0m\u001b[46m\u001b[1m\u001b[30m  .  \u001b[0m\u001b[46m\u001b[1m\u001b[30m  .  \u001b[0m\n",
      "\u001b[46m\u001b[1m\u001b[30m  .  \u001b[0m\u001b[46m\u001b[1m\u001b[30m  .  \u001b[0m\u001b[46m\u001b[1m\u001b[30m  .  \u001b[0m\u001b[46m\u001b[1m\u001b[30m  .  \u001b[0m\u001b[46m\u001b[1m\u001b[30m  .  \u001b[0m\u001b[46m\u001b[1m\u001b[30m  .  \u001b[0m\u001b[46m\u001b[1m\u001b[30m  .  \u001b[0m\u001b[46m\u001b[1m\u001b[30m  .  \u001b[0m\u001b[46m\u001b[1m\u001b[30m  .  \u001b[0m\u001b[46m\u001b[1m\u001b[30m  .  \u001b[0m\n",
      "\u001b[46m\u001b[1m\u001b[30m  .  \u001b[0m\u001b[46m\u001b[1m\u001b[30m  .  \u001b[0m\u001b[46m\u001b[1m\u001b[30m  .  \u001b[0m\u001b[46m\u001b[1m\u001b[30m  █  \u001b[0m\u001b[46m\u001b[1m\u001b[30m  █  \u001b[0m\u001b[46m\u001b[1m\u001b[30m  █  \u001b[0m\u001b[46m\u001b[1m\u001b[30m  .  \u001b[0m\u001b[46m\u001b[1m\u001b[30m  .  \u001b[0m\u001b[46m\u001b[1m\u001b[30m  .  \u001b[0m\u001b[46m\u001b[1m\u001b[30m  .  \u001b[0m\n",
      "\u001b[46m\u001b[1m\u001b[30m  .  \u001b[0m\u001b[44m     \u001b[0m\u001b[46m\u001b[1m\u001b[30m  .  \u001b[0m\u001b[46m\u001b[1m\u001b[30m  █  \u001b[0m\u001b[46m\u001b[1m\u001b[30m  .  \u001b[0m\u001b[46m\u001b[1m\u001b[30m  .  \u001b[0m\u001b[46m\u001b[1m\u001b[30m  .  \u001b[0m\u001b[46m\u001b[1m\u001b[30m  .  \u001b[0m\u001b[46m\u001b[1m\u001b[30m  .  \u001b[0m\u001b[46m\u001b[1m\u001b[30m  .  \u001b[0m\n",
      "\u001b[46m\u001b[1m\u001b[30m  .  \u001b[0m\u001b[46m\u001b[1m\u001b[30m  .  \u001b[0m\u001b[46m\u001b[1m\u001b[30m  .  \u001b[0m\u001b[46m\u001b[1m\u001b[30m  █  \u001b[0m\u001b[46m\u001b[1m\u001b[30m  █  \u001b[0m\u001b[46m\u001b[1m\u001b[30m  .  \u001b[0m\u001b[46m\u001b[1m\u001b[30m  .  \u001b[0m\u001b[46m\u001b[1m\u001b[30m  .  \u001b[0m\u001b[46m\u001b[1m\u001b[30m  .  \u001b[0m\u001b[46m\u001b[1m\u001b[30m  .  \u001b[0m\n",
      "\u001b[46m\u001b[1m\u001b[30m  .  \u001b[0m\u001b[46m\u001b[1m\u001b[30m  .  \u001b[0m\u001b[44m     \u001b[0m\u001b[46m\u001b[1m\u001b[30m  .  \u001b[0m\u001b[46m\u001b[1m\u001b[30m  .  \u001b[0m\u001b[46m\u001b[1m\u001b[30m  .  \u001b[0m\u001b[46m\u001b[1m\u001b[30m  .  \u001b[0m\u001b[46m\u001b[1m\u001b[30m  .  \u001b[0m\u001b[46m\u001b[1m\u001b[30m  .  \u001b[0m\u001b[46m\u001b[1m\u001b[30m  .  \u001b[0m\n",
      "\u001b[46m\u001b[1m\u001b[30m  .  \u001b[0m\u001b[46m\u001b[1m\u001b[30m  .  \u001b[0m\u001b[46m\u001b[1m\u001b[30m  .  \u001b[0m\u001b[46m\u001b[1m\u001b[30m  .  \u001b[0m\u001b[46m\u001b[1m\u001b[30m  .  \u001b[0m\u001b[46m\u001b[1m\u001b[30m  .  \u001b[0m\u001b[46m\u001b[1m\u001b[30m  .  \u001b[0m\u001b[46m\u001b[1m\u001b[30m  .  \u001b[0m\u001b[46m\u001b[1m\u001b[30m  .  \u001b[0m\u001b[46m\u001b[1m\u001b[30m  .  \u001b[0m\n",
      "\u001b[46m\u001b[1m\u001b[30m  .  \u001b[0m\u001b[46m\u001b[1m\u001b[30m  .  \u001b[0m\u001b[46m\u001b[1m\u001b[30m  .  \u001b[0m\u001b[46m\u001b[1m\u001b[30m  .  \u001b[0m\u001b[46m\u001b[1m\u001b[30m  .  \u001b[0m\u001b[46m\u001b[1m\u001b[30m  .  \u001b[0m\u001b[46m\u001b[1m\u001b[30m  .  \u001b[0m\u001b[46m\u001b[1m\u001b[30m  .  \u001b[0m\u001b[46m\u001b[1m\u001b[30m  .  \u001b[0m\u001b[46m\u001b[1m\u001b[30m  .  \u001b[0m\n",
      "\u001b[46m\u001b[1m\u001b[30m  .  \u001b[0m\u001b[46m\u001b[1m\u001b[30m  .  \u001b[0m\u001b[46m\u001b[1m\u001b[30m  .  \u001b[0m\u001b[46m\u001b[1m\u001b[30m  .  \u001b[0m\u001b[46m\u001b[1m\u001b[30m  .  \u001b[0m\u001b[46m\u001b[1m\u001b[30m  .  \u001b[0m\u001b[46m\u001b[1m\u001b[30m  .  \u001b[0m\u001b[46m\u001b[1m\u001b[30m  .  \u001b[0m\u001b[46m\u001b[1m\u001b[30m  .  \u001b[0m\u001b[46m\u001b[1m\u001b[30m  .  \u001b[0m\n",
      "Results after 5 episodes:\n",
      "Path Length: 12\n",
      "Number of Penalty: 0\n",
      "\u001b[42m\u001b[1m\u001b[37m  웃 \u001b[0m\u001b[46m\u001b[1m\u001b[30m  .  \u001b[0m\u001b[46m\u001b[1m\u001b[30m  .  \u001b[0m\u001b[46m\u001b[1m\u001b[30m  .  \u001b[0m\u001b[46m\u001b[1m\u001b[30m  .  \u001b[0m\u001b[46m\u001b[1m\u001b[30m  .  \u001b[0m\u001b[46m\u001b[1m\u001b[30m  .  \u001b[0m\u001b[46m\u001b[1m\u001b[30m  .  \u001b[0m\u001b[46m\u001b[1m\u001b[30m  .  \u001b[0m\u001b[46m\u001b[1m\u001b[30m  .  \u001b[0m\n",
      "\u001b[46m\u001b[1m\u001b[30m  .  \u001b[0m\u001b[46m\u001b[1m\u001b[30m  .  \u001b[0m\u001b[46m\u001b[1m\u001b[30m  .  \u001b[0m\u001b[44m     \u001b[0m\u001b[46m\u001b[1m\u001b[30m  .  \u001b[0m\u001b[46m\u001b[1m\u001b[30m  .  \u001b[0m\u001b[46m\u001b[1m\u001b[30m  .  \u001b[0m\u001b[46m\u001b[1m\u001b[30m  .  \u001b[0m\u001b[46m\u001b[1m\u001b[30m  .  \u001b[0m\u001b[46m\u001b[1m\u001b[30m  .  \u001b[0m\n",
      "\u001b[46m\u001b[1m\u001b[30m  .  \u001b[0m\u001b[46m\u001b[1m\u001b[30m  .  \u001b[0m\u001b[46m\u001b[1m\u001b[30m  .  \u001b[0m\u001b[46m\u001b[1m\u001b[30m  .  \u001b[0m\u001b[46m\u001b[1m\u001b[30m  .  \u001b[0m\u001b[46m\u001b[1m\u001b[30m  .  \u001b[0m\u001b[46m\u001b[1m\u001b[30m  .  \u001b[0m\u001b[46m\u001b[1m\u001b[30m  .  \u001b[0m\u001b[46m\u001b[1m\u001b[30m  .  \u001b[0m\u001b[46m\u001b[1m\u001b[30m  .  \u001b[0m\n",
      "\u001b[46m\u001b[1m\u001b[30m  .  \u001b[0m\u001b[46m\u001b[1m\u001b[30m  .  \u001b[0m\u001b[46m\u001b[1m\u001b[30m  .  \u001b[0m\u001b[46m\u001b[1m\u001b[30m  █  \u001b[0m\u001b[46m\u001b[1m\u001b[30m  █  \u001b[0m\u001b[46m\u001b[1m\u001b[30m  █  \u001b[0m\u001b[46m\u001b[1m\u001b[30m  .  \u001b[0m\u001b[46m\u001b[1m\u001b[30m  .  \u001b[0m\u001b[46m\u001b[1m\u001b[30m  .  \u001b[0m\u001b[46m\u001b[1m\u001b[30m  .  \u001b[0m\n",
      "\u001b[46m\u001b[1m\u001b[30m  .  \u001b[0m\u001b[44m     \u001b[0m\u001b[46m\u001b[1m\u001b[30m  .  \u001b[0m\u001b[46m\u001b[1m\u001b[30m  █  \u001b[0m\u001b[46m\u001b[1m\u001b[30m  .  \u001b[0m\u001b[46m\u001b[1m\u001b[30m  .  \u001b[0m\u001b[46m\u001b[1m\u001b[30m  .  \u001b[0m\u001b[46m\u001b[1m\u001b[30m  .  \u001b[0m\u001b[46m\u001b[1m\u001b[30m  .  \u001b[0m\u001b[46m\u001b[1m\u001b[30m  .  \u001b[0m\n",
      "\u001b[46m\u001b[1m\u001b[30m  .  \u001b[0m\u001b[46m\u001b[1m\u001b[30m  .  \u001b[0m\u001b[46m\u001b[1m\u001b[30m  .  \u001b[0m\u001b[46m\u001b[1m\u001b[30m  █  \u001b[0m\u001b[46m\u001b[1m\u001b[30m  █  \u001b[0m\u001b[46m\u001b[1m\u001b[30m  .  \u001b[0m\u001b[46m\u001b[1m\u001b[30m  .  \u001b[0m\u001b[46m\u001b[1m\u001b[30m  .  \u001b[0m\u001b[46m\u001b[1m\u001b[30m  .  \u001b[0m\u001b[46m\u001b[1m\u001b[30m  .  \u001b[0m\n",
      "\u001b[46m\u001b[1m\u001b[30m  .  \u001b[0m\u001b[46m\u001b[1m\u001b[30m  .  \u001b[0m\u001b[44m     \u001b[0m\u001b[46m\u001b[1m\u001b[30m  .  \u001b[0m\u001b[46m\u001b[1m\u001b[30m  .  \u001b[0m\u001b[46m\u001b[1m\u001b[30m  .  \u001b[0m\u001b[46m\u001b[1m\u001b[30m  .  \u001b[0m\u001b[46m\u001b[1m\u001b[30m  .  \u001b[0m\u001b[46m\u001b[1m\u001b[30m  .  \u001b[0m\u001b[46m\u001b[1m\u001b[30m  .  \u001b[0m\n",
      "\u001b[46m\u001b[1m\u001b[30m  .  \u001b[0m\u001b[46m\u001b[1m\u001b[30m  .  \u001b[0m\u001b[46m\u001b[1m\u001b[30m  .  \u001b[0m\u001b[46m\u001b[1m\u001b[30m  .  \u001b[0m\u001b[46m\u001b[1m\u001b[30m  .  \u001b[0m\u001b[46m\u001b[1m\u001b[30m  .  \u001b[0m\u001b[46m\u001b[1m\u001b[30m  .  \u001b[0m\u001b[46m\u001b[1m\u001b[30m  .  \u001b[0m\u001b[46m\u001b[1m\u001b[30m  .  \u001b[0m\u001b[46m\u001b[1m\u001b[30m  .  \u001b[0m\n",
      "\u001b[46m\u001b[1m\u001b[30m  .  \u001b[0m\u001b[46m\u001b[1m\u001b[30m  .  \u001b[0m\u001b[46m\u001b[1m\u001b[30m  .  \u001b[0m\u001b[46m\u001b[1m\u001b[30m  .  \u001b[0m\u001b[46m\u001b[1m\u001b[30m  .  \u001b[0m\u001b[46m\u001b[1m\u001b[30m  .  \u001b[0m\u001b[46m\u001b[1m\u001b[30m  .  \u001b[0m\u001b[46m\u001b[1m\u001b[30m  .  \u001b[0m\u001b[46m\u001b[1m\u001b[30m  .  \u001b[0m\u001b[46m\u001b[1m\u001b[30m  .  \u001b[0m\n",
      "\u001b[46m\u001b[1m\u001b[30m  .  \u001b[0m\u001b[46m\u001b[1m\u001b[30m  .  \u001b[0m\u001b[46m\u001b[1m\u001b[30m  .  \u001b[0m\u001b[46m\u001b[1m\u001b[30m  .  \u001b[0m\u001b[46m\u001b[1m\u001b[30m  .  \u001b[0m\u001b[46m\u001b[1m\u001b[30m  .  \u001b[0m\u001b[46m\u001b[1m\u001b[30m  .  \u001b[0m\u001b[46m\u001b[1m\u001b[30m  .  \u001b[0m\u001b[46m\u001b[1m\u001b[30m  .  \u001b[0m\u001b[46m\u001b[1m\u001b[30m  .  \u001b[0m\n",
      "Results after 5 episodes:\n",
      "Path Length: 12\n",
      "Number of Penalty: 0\n"
     ]
    }
   ],
   "source": [
    "episodes = 5\n",
    "for _ in range(episodes):    \n",
    "    state = env.reset()\n",
    "    move=0\n",
    "    penalties=0\n",
    "    reward = 0\n",
    "    done = False\n",
    "    while not done:\n",
    "        action = np.argmax(Q_Matrix[state])\n",
    "        state, reward, done, info = env.step(action)\n",
    "        if reward == -10:\n",
    "            penalties += 1\n",
    "        if reward == -3:\n",
    "            penalties += 1\n",
    "        move += 1\n",
    "    env._render()    \n",
    "    print(f\"Results after {episodes} episodes:\")\n",
    "    print(f\"Path Length: {move}\")\n",
    "    print(f\"Number of Penalty: {penalties}\")"
   ]
  },
  {
   "cell_type": "markdown",
   "metadata": {},
   "source": [
    "# Bonus"
   ]
  },
  {
   "cell_type": "markdown",
   "metadata": {},
   "source": [
    "## First Idea"
   ]
  },
  {
   "cell_type": "code",
   "execution_count": 245,
   "metadata": {},
   "outputs": [],
   "source": [
    "def training_model(gamma,Learning_rate,exploration_probability,episode):\n",
    "    Numer_of_states=10*10*1\n",
    "    Number_of_action=4\n",
    "    Q_Matrix = loadtxt('Q_func_init.csv', delimiter=',')\n",
    "    path_length_episode = []\n",
    "    rewards_per_episode = []\n",
    "    for i in range(episode):\n",
    "        state = env.reset()\n",
    "        move=0\n",
    "        reward=0\n",
    "        done = False\n",
    "        total_episode_reward = 0\n",
    "        while not done:\n",
    "            if random.uniform(0, 1) < exploration_probability:\n",
    "                action = env.action_space.sample() \n",
    "            else:\n",
    "                action = np.argmax(Q_Matrix[state]) \n",
    "            \n",
    "            next_state, reward, done, info = env.step(action)\n",
    "            if reward == -10 :\n",
    "                next_state=44    \n",
    "            previous_value = Q_Matrix[state, action]\n",
    "            next_max = np.max(Q_Matrix[next_state])\n",
    "            reward=reward-1\n",
    "            new_value = (1 - Learning_rate) * previous_value + Learning_rate * (reward + gamma * next_max)\n",
    "            Q_Matrix[state, action] = new_value  \n",
    "            total_episode_reward = total_episode_reward + reward\n",
    "            state = next_state\n",
    "            move += 1\n",
    "        rewards_per_episode.append(total_episode_reward)\n",
    "        path_length_episode.append(move)  \n",
    "        if i % 100 == 0:\n",
    "            clear_output(wait=True)\n",
    "            print(f\"Episode: {i}\")    \n",
    "    print(\"Training succesfully finished.\\n\")\n",
    "    savetxt('Q_func.csv',Q_Matrix, delimiter=',')\n",
    "    \n",
    "    return path_length_episode,rewards_per_episode,Q_Matrix"
   ]
  },
  {
   "cell_type": "code",
   "execution_count": 246,
   "metadata": {},
   "outputs": [
    {
     "name": "stdout",
     "output_type": "stream",
     "text": [
      "Episode: 900\n",
      "Training succesfully finished.\n",
      "\n",
      "\u001b[42m\u001b[1m\u001b[37m  웃 \u001b[0m\u001b[46m\u001b[1m\u001b[30m  .  \u001b[0m\u001b[46m\u001b[1m\u001b[30m  .  \u001b[0m\u001b[46m\u001b[1m\u001b[30m  .  \u001b[0m\u001b[46m\u001b[1m\u001b[30m  .  \u001b[0m\u001b[46m\u001b[1m\u001b[30m  .  \u001b[0m\u001b[46m\u001b[1m\u001b[30m  .  \u001b[0m\u001b[46m\u001b[1m\u001b[30m  .  \u001b[0m\u001b[46m\u001b[1m\u001b[30m  .  \u001b[0m\u001b[46m\u001b[1m\u001b[30m  .  \u001b[0m\n",
      "\u001b[46m\u001b[1m\u001b[30m  .  \u001b[0m\u001b[46m\u001b[1m\u001b[30m  .  \u001b[0m\u001b[46m\u001b[1m\u001b[30m  .  \u001b[0m\u001b[44m     \u001b[0m\u001b[46m\u001b[1m\u001b[30m  .  \u001b[0m\u001b[46m\u001b[1m\u001b[30m  .  \u001b[0m\u001b[46m\u001b[1m\u001b[30m  .  \u001b[0m\u001b[46m\u001b[1m\u001b[30m  .  \u001b[0m\u001b[46m\u001b[1m\u001b[30m  .  \u001b[0m\u001b[46m\u001b[1m\u001b[30m  .  \u001b[0m\n",
      "\u001b[46m\u001b[1m\u001b[30m  .  \u001b[0m\u001b[46m\u001b[1m\u001b[30m  .  \u001b[0m\u001b[46m\u001b[1m\u001b[30m  .  \u001b[0m\u001b[46m\u001b[1m\u001b[30m  .  \u001b[0m\u001b[46m\u001b[1m\u001b[30m  .  \u001b[0m\u001b[46m\u001b[1m\u001b[30m  .  \u001b[0m\u001b[46m\u001b[1m\u001b[30m  .  \u001b[0m\u001b[46m\u001b[1m\u001b[30m  .  \u001b[0m\u001b[46m\u001b[1m\u001b[30m  .  \u001b[0m\u001b[46m\u001b[1m\u001b[30m  .  \u001b[0m\n",
      "\u001b[46m\u001b[1m\u001b[30m  .  \u001b[0m\u001b[46m\u001b[1m\u001b[30m  .  \u001b[0m\u001b[46m\u001b[1m\u001b[30m  .  \u001b[0m\u001b[46m\u001b[1m\u001b[30m  █  \u001b[0m\u001b[46m\u001b[1m\u001b[30m  █  \u001b[0m\u001b[46m\u001b[1m\u001b[30m  █  \u001b[0m\u001b[46m\u001b[1m\u001b[30m  .  \u001b[0m\u001b[46m\u001b[1m\u001b[30m  .  \u001b[0m\u001b[46m\u001b[1m\u001b[30m  .  \u001b[0m\u001b[46m\u001b[1m\u001b[30m  .  \u001b[0m\n",
      "\u001b[46m\u001b[1m\u001b[30m  .  \u001b[0m\u001b[44m     \u001b[0m\u001b[46m\u001b[1m\u001b[30m  .  \u001b[0m\u001b[46m\u001b[1m\u001b[30m  █  \u001b[0m\u001b[46m\u001b[1m\u001b[30m  .  \u001b[0m\u001b[46m\u001b[1m\u001b[30m  .  \u001b[0m\u001b[46m\u001b[1m\u001b[30m  .  \u001b[0m\u001b[46m\u001b[1m\u001b[30m  .  \u001b[0m\u001b[46m\u001b[1m\u001b[30m  .  \u001b[0m\u001b[46m\u001b[1m\u001b[30m  .  \u001b[0m\n",
      "\u001b[46m\u001b[1m\u001b[30m  .  \u001b[0m\u001b[46m\u001b[1m\u001b[30m  .  \u001b[0m\u001b[46m\u001b[1m\u001b[30m  .  \u001b[0m\u001b[46m\u001b[1m\u001b[30m  █  \u001b[0m\u001b[46m\u001b[1m\u001b[30m  █  \u001b[0m\u001b[46m\u001b[1m\u001b[30m  .  \u001b[0m\u001b[46m\u001b[1m\u001b[30m  .  \u001b[0m\u001b[46m\u001b[1m\u001b[30m  .  \u001b[0m\u001b[46m\u001b[1m\u001b[30m  .  \u001b[0m\u001b[46m\u001b[1m\u001b[30m  .  \u001b[0m\n",
      "\u001b[46m\u001b[1m\u001b[30m  .  \u001b[0m\u001b[46m\u001b[1m\u001b[30m  .  \u001b[0m\u001b[44m     \u001b[0m\u001b[46m\u001b[1m\u001b[30m  .  \u001b[0m\u001b[46m\u001b[1m\u001b[30m  .  \u001b[0m\u001b[46m\u001b[1m\u001b[30m  .  \u001b[0m\u001b[46m\u001b[1m\u001b[30m  .  \u001b[0m\u001b[46m\u001b[1m\u001b[30m  .  \u001b[0m\u001b[46m\u001b[1m\u001b[30m  .  \u001b[0m\u001b[46m\u001b[1m\u001b[30m  .  \u001b[0m\n",
      "\u001b[46m\u001b[1m\u001b[30m  .  \u001b[0m\u001b[46m\u001b[1m\u001b[30m  .  \u001b[0m\u001b[46m\u001b[1m\u001b[30m  .  \u001b[0m\u001b[46m\u001b[1m\u001b[30m  .  \u001b[0m\u001b[46m\u001b[1m\u001b[30m  .  \u001b[0m\u001b[46m\u001b[1m\u001b[30m  .  \u001b[0m\u001b[46m\u001b[1m\u001b[30m  .  \u001b[0m\u001b[46m\u001b[1m\u001b[30m  .  \u001b[0m\u001b[46m\u001b[1m\u001b[30m  .  \u001b[0m\u001b[46m\u001b[1m\u001b[30m  .  \u001b[0m\n",
      "\u001b[46m\u001b[1m\u001b[30m  .  \u001b[0m\u001b[46m\u001b[1m\u001b[30m  .  \u001b[0m\u001b[46m\u001b[1m\u001b[30m  .  \u001b[0m\u001b[46m\u001b[1m\u001b[30m  .  \u001b[0m\u001b[46m\u001b[1m\u001b[30m  .  \u001b[0m\u001b[46m\u001b[1m\u001b[30m  .  \u001b[0m\u001b[46m\u001b[1m\u001b[30m  .  \u001b[0m\u001b[46m\u001b[1m\u001b[30m  .  \u001b[0m\u001b[46m\u001b[1m\u001b[30m  .  \u001b[0m\u001b[46m\u001b[1m\u001b[30m  .  \u001b[0m\n",
      "\u001b[46m\u001b[1m\u001b[30m  .  \u001b[0m\u001b[46m\u001b[1m\u001b[30m  .  \u001b[0m\u001b[46m\u001b[1m\u001b[30m  .  \u001b[0m\u001b[46m\u001b[1m\u001b[30m  .  \u001b[0m\u001b[46m\u001b[1m\u001b[30m  .  \u001b[0m\u001b[46m\u001b[1m\u001b[30m  .  \u001b[0m\u001b[46m\u001b[1m\u001b[30m  .  \u001b[0m\u001b[46m\u001b[1m\u001b[30m  .  \u001b[0m\u001b[46m\u001b[1m\u001b[30m  .  \u001b[0m\u001b[46m\u001b[1m\u001b[30m  .  \u001b[0m\n",
      "Results after 5 episodes:\n",
      "Path Length: 12\n",
      "Number of Penalty: 0\n",
      "\u001b[42m\u001b[1m\u001b[37m  웃 \u001b[0m\u001b[46m\u001b[1m\u001b[30m  .  \u001b[0m\u001b[46m\u001b[1m\u001b[30m  .  \u001b[0m\u001b[46m\u001b[1m\u001b[30m  .  \u001b[0m\u001b[46m\u001b[1m\u001b[30m  .  \u001b[0m\u001b[46m\u001b[1m\u001b[30m  .  \u001b[0m\u001b[46m\u001b[1m\u001b[30m  .  \u001b[0m\u001b[46m\u001b[1m\u001b[30m  .  \u001b[0m\u001b[46m\u001b[1m\u001b[30m  .  \u001b[0m\u001b[46m\u001b[1m\u001b[30m  .  \u001b[0m\n",
      "\u001b[46m\u001b[1m\u001b[30m  .  \u001b[0m\u001b[46m\u001b[1m\u001b[30m  .  \u001b[0m\u001b[46m\u001b[1m\u001b[30m  .  \u001b[0m\u001b[44m     \u001b[0m\u001b[46m\u001b[1m\u001b[30m  .  \u001b[0m\u001b[46m\u001b[1m\u001b[30m  .  \u001b[0m\u001b[46m\u001b[1m\u001b[30m  .  \u001b[0m\u001b[46m\u001b[1m\u001b[30m  .  \u001b[0m\u001b[46m\u001b[1m\u001b[30m  .  \u001b[0m\u001b[46m\u001b[1m\u001b[30m  .  \u001b[0m\n",
      "\u001b[46m\u001b[1m\u001b[30m  .  \u001b[0m\u001b[46m\u001b[1m\u001b[30m  .  \u001b[0m\u001b[46m\u001b[1m\u001b[30m  .  \u001b[0m\u001b[46m\u001b[1m\u001b[30m  .  \u001b[0m\u001b[46m\u001b[1m\u001b[30m  .  \u001b[0m\u001b[46m\u001b[1m\u001b[30m  .  \u001b[0m\u001b[46m\u001b[1m\u001b[30m  .  \u001b[0m\u001b[46m\u001b[1m\u001b[30m  .  \u001b[0m\u001b[46m\u001b[1m\u001b[30m  .  \u001b[0m\u001b[46m\u001b[1m\u001b[30m  .  \u001b[0m\n",
      "\u001b[46m\u001b[1m\u001b[30m  .  \u001b[0m\u001b[46m\u001b[1m\u001b[30m  .  \u001b[0m\u001b[46m\u001b[1m\u001b[30m  .  \u001b[0m\u001b[46m\u001b[1m\u001b[30m  █  \u001b[0m\u001b[46m\u001b[1m\u001b[30m  █  \u001b[0m\u001b[46m\u001b[1m\u001b[30m  █  \u001b[0m\u001b[46m\u001b[1m\u001b[30m  .  \u001b[0m\u001b[46m\u001b[1m\u001b[30m  .  \u001b[0m\u001b[46m\u001b[1m\u001b[30m  .  \u001b[0m\u001b[46m\u001b[1m\u001b[30m  .  \u001b[0m\n",
      "\u001b[46m\u001b[1m\u001b[30m  .  \u001b[0m\u001b[44m     \u001b[0m\u001b[46m\u001b[1m\u001b[30m  .  \u001b[0m\u001b[46m\u001b[1m\u001b[30m  █  \u001b[0m\u001b[46m\u001b[1m\u001b[30m  .  \u001b[0m\u001b[46m\u001b[1m\u001b[30m  .  \u001b[0m\u001b[46m\u001b[1m\u001b[30m  .  \u001b[0m\u001b[46m\u001b[1m\u001b[30m  .  \u001b[0m\u001b[46m\u001b[1m\u001b[30m  .  \u001b[0m\u001b[46m\u001b[1m\u001b[30m  .  \u001b[0m\n",
      "\u001b[46m\u001b[1m\u001b[30m  .  \u001b[0m\u001b[46m\u001b[1m\u001b[30m  .  \u001b[0m\u001b[46m\u001b[1m\u001b[30m  .  \u001b[0m\u001b[46m\u001b[1m\u001b[30m  █  \u001b[0m\u001b[46m\u001b[1m\u001b[30m  █  \u001b[0m\u001b[46m\u001b[1m\u001b[30m  .  \u001b[0m\u001b[46m\u001b[1m\u001b[30m  .  \u001b[0m\u001b[46m\u001b[1m\u001b[30m  .  \u001b[0m\u001b[46m\u001b[1m\u001b[30m  .  \u001b[0m\u001b[46m\u001b[1m\u001b[30m  .  \u001b[0m\n",
      "\u001b[46m\u001b[1m\u001b[30m  .  \u001b[0m\u001b[46m\u001b[1m\u001b[30m  .  \u001b[0m\u001b[44m     \u001b[0m\u001b[46m\u001b[1m\u001b[30m  .  \u001b[0m\u001b[46m\u001b[1m\u001b[30m  .  \u001b[0m\u001b[46m\u001b[1m\u001b[30m  .  \u001b[0m\u001b[46m\u001b[1m\u001b[30m  .  \u001b[0m\u001b[46m\u001b[1m\u001b[30m  .  \u001b[0m\u001b[46m\u001b[1m\u001b[30m  .  \u001b[0m\u001b[46m\u001b[1m\u001b[30m  .  \u001b[0m\n",
      "\u001b[46m\u001b[1m\u001b[30m  .  \u001b[0m\u001b[46m\u001b[1m\u001b[30m  .  \u001b[0m\u001b[46m\u001b[1m\u001b[30m  .  \u001b[0m\u001b[46m\u001b[1m\u001b[30m  .  \u001b[0m\u001b[46m\u001b[1m\u001b[30m  .  \u001b[0m\u001b[46m\u001b[1m\u001b[30m  .  \u001b[0m\u001b[46m\u001b[1m\u001b[30m  .  \u001b[0m\u001b[46m\u001b[1m\u001b[30m  .  \u001b[0m\u001b[46m\u001b[1m\u001b[30m  .  \u001b[0m\u001b[46m\u001b[1m\u001b[30m  .  \u001b[0m\n",
      "\u001b[46m\u001b[1m\u001b[30m  .  \u001b[0m\u001b[46m\u001b[1m\u001b[30m  .  \u001b[0m\u001b[46m\u001b[1m\u001b[30m  .  \u001b[0m\u001b[46m\u001b[1m\u001b[30m  .  \u001b[0m\u001b[46m\u001b[1m\u001b[30m  .  \u001b[0m\u001b[46m\u001b[1m\u001b[30m  .  \u001b[0m\u001b[46m\u001b[1m\u001b[30m  .  \u001b[0m\u001b[46m\u001b[1m\u001b[30m  .  \u001b[0m\u001b[46m\u001b[1m\u001b[30m  .  \u001b[0m\u001b[46m\u001b[1m\u001b[30m  .  \u001b[0m\n",
      "\u001b[46m\u001b[1m\u001b[30m  .  \u001b[0m\u001b[46m\u001b[1m\u001b[30m  .  \u001b[0m\u001b[46m\u001b[1m\u001b[30m  .  \u001b[0m\u001b[46m\u001b[1m\u001b[30m  .  \u001b[0m\u001b[46m\u001b[1m\u001b[30m  .  \u001b[0m\u001b[46m\u001b[1m\u001b[30m  .  \u001b[0m\u001b[46m\u001b[1m\u001b[30m  .  \u001b[0m\u001b[46m\u001b[1m\u001b[30m  .  \u001b[0m\u001b[46m\u001b[1m\u001b[30m  .  \u001b[0m\u001b[46m\u001b[1m\u001b[30m  .  \u001b[0m\n",
      "Results after 5 episodes:\n",
      "Path Length: 12\n",
      "Number of Penalty: 0\n",
      "\u001b[42m\u001b[1m\u001b[37m  웃 \u001b[0m\u001b[46m\u001b[1m\u001b[30m  .  \u001b[0m\u001b[46m\u001b[1m\u001b[30m  .  \u001b[0m\u001b[46m\u001b[1m\u001b[30m  .  \u001b[0m\u001b[46m\u001b[1m\u001b[30m  .  \u001b[0m\u001b[46m\u001b[1m\u001b[30m  .  \u001b[0m\u001b[46m\u001b[1m\u001b[30m  .  \u001b[0m\u001b[46m\u001b[1m\u001b[30m  .  \u001b[0m\u001b[46m\u001b[1m\u001b[30m  .  \u001b[0m\u001b[46m\u001b[1m\u001b[30m  .  \u001b[0m\n",
      "\u001b[46m\u001b[1m\u001b[30m  .  \u001b[0m\u001b[46m\u001b[1m\u001b[30m  .  \u001b[0m\u001b[46m\u001b[1m\u001b[30m  .  \u001b[0m\u001b[44m     \u001b[0m\u001b[46m\u001b[1m\u001b[30m  .  \u001b[0m\u001b[46m\u001b[1m\u001b[30m  .  \u001b[0m\u001b[46m\u001b[1m\u001b[30m  .  \u001b[0m\u001b[46m\u001b[1m\u001b[30m  .  \u001b[0m\u001b[46m\u001b[1m\u001b[30m  .  \u001b[0m\u001b[46m\u001b[1m\u001b[30m  .  \u001b[0m\n",
      "\u001b[46m\u001b[1m\u001b[30m  .  \u001b[0m\u001b[46m\u001b[1m\u001b[30m  .  \u001b[0m\u001b[46m\u001b[1m\u001b[30m  .  \u001b[0m\u001b[46m\u001b[1m\u001b[30m  .  \u001b[0m\u001b[46m\u001b[1m\u001b[30m  .  \u001b[0m\u001b[46m\u001b[1m\u001b[30m  .  \u001b[0m\u001b[46m\u001b[1m\u001b[30m  .  \u001b[0m\u001b[46m\u001b[1m\u001b[30m  .  \u001b[0m\u001b[46m\u001b[1m\u001b[30m  .  \u001b[0m\u001b[46m\u001b[1m\u001b[30m  .  \u001b[0m\n",
      "\u001b[46m\u001b[1m\u001b[30m  .  \u001b[0m\u001b[46m\u001b[1m\u001b[30m  .  \u001b[0m\u001b[46m\u001b[1m\u001b[30m  .  \u001b[0m\u001b[46m\u001b[1m\u001b[30m  █  \u001b[0m\u001b[46m\u001b[1m\u001b[30m  █  \u001b[0m\u001b[46m\u001b[1m\u001b[30m  █  \u001b[0m\u001b[46m\u001b[1m\u001b[30m  .  \u001b[0m\u001b[46m\u001b[1m\u001b[30m  .  \u001b[0m\u001b[46m\u001b[1m\u001b[30m  .  \u001b[0m\u001b[46m\u001b[1m\u001b[30m  .  \u001b[0m\n",
      "\u001b[46m\u001b[1m\u001b[30m  .  \u001b[0m\u001b[44m     \u001b[0m\u001b[46m\u001b[1m\u001b[30m  .  \u001b[0m\u001b[46m\u001b[1m\u001b[30m  █  \u001b[0m\u001b[46m\u001b[1m\u001b[30m  .  \u001b[0m\u001b[46m\u001b[1m\u001b[30m  .  \u001b[0m\u001b[46m\u001b[1m\u001b[30m  .  \u001b[0m\u001b[46m\u001b[1m\u001b[30m  .  \u001b[0m\u001b[46m\u001b[1m\u001b[30m  .  \u001b[0m\u001b[46m\u001b[1m\u001b[30m  .  \u001b[0m\n",
      "\u001b[46m\u001b[1m\u001b[30m  .  \u001b[0m\u001b[46m\u001b[1m\u001b[30m  .  \u001b[0m\u001b[46m\u001b[1m\u001b[30m  .  \u001b[0m\u001b[46m\u001b[1m\u001b[30m  █  \u001b[0m\u001b[46m\u001b[1m\u001b[30m  █  \u001b[0m\u001b[46m\u001b[1m\u001b[30m  .  \u001b[0m\u001b[46m\u001b[1m\u001b[30m  .  \u001b[0m\u001b[46m\u001b[1m\u001b[30m  .  \u001b[0m\u001b[46m\u001b[1m\u001b[30m  .  \u001b[0m\u001b[46m\u001b[1m\u001b[30m  .  \u001b[0m\n",
      "\u001b[46m\u001b[1m\u001b[30m  .  \u001b[0m\u001b[46m\u001b[1m\u001b[30m  .  \u001b[0m\u001b[44m     \u001b[0m\u001b[46m\u001b[1m\u001b[30m  .  \u001b[0m\u001b[46m\u001b[1m\u001b[30m  .  \u001b[0m\u001b[46m\u001b[1m\u001b[30m  .  \u001b[0m\u001b[46m\u001b[1m\u001b[30m  .  \u001b[0m\u001b[46m\u001b[1m\u001b[30m  .  \u001b[0m\u001b[46m\u001b[1m\u001b[30m  .  \u001b[0m\u001b[46m\u001b[1m\u001b[30m  .  \u001b[0m\n",
      "\u001b[46m\u001b[1m\u001b[30m  .  \u001b[0m\u001b[46m\u001b[1m\u001b[30m  .  \u001b[0m\u001b[46m\u001b[1m\u001b[30m  .  \u001b[0m\u001b[46m\u001b[1m\u001b[30m  .  \u001b[0m\u001b[46m\u001b[1m\u001b[30m  .  \u001b[0m\u001b[46m\u001b[1m\u001b[30m  .  \u001b[0m\u001b[46m\u001b[1m\u001b[30m  .  \u001b[0m\u001b[46m\u001b[1m\u001b[30m  .  \u001b[0m\u001b[46m\u001b[1m\u001b[30m  .  \u001b[0m\u001b[46m\u001b[1m\u001b[30m  .  \u001b[0m\n",
      "\u001b[46m\u001b[1m\u001b[30m  .  \u001b[0m\u001b[46m\u001b[1m\u001b[30m  .  \u001b[0m\u001b[46m\u001b[1m\u001b[30m  .  \u001b[0m\u001b[46m\u001b[1m\u001b[30m  .  \u001b[0m\u001b[46m\u001b[1m\u001b[30m  .  \u001b[0m\u001b[46m\u001b[1m\u001b[30m  .  \u001b[0m\u001b[46m\u001b[1m\u001b[30m  .  \u001b[0m\u001b[46m\u001b[1m\u001b[30m  .  \u001b[0m\u001b[46m\u001b[1m\u001b[30m  .  \u001b[0m\u001b[46m\u001b[1m\u001b[30m  .  \u001b[0m\n",
      "\u001b[46m\u001b[1m\u001b[30m  .  \u001b[0m\u001b[46m\u001b[1m\u001b[30m  .  \u001b[0m\u001b[46m\u001b[1m\u001b[30m  .  \u001b[0m\u001b[46m\u001b[1m\u001b[30m  .  \u001b[0m\u001b[46m\u001b[1m\u001b[30m  .  \u001b[0m\u001b[46m\u001b[1m\u001b[30m  .  \u001b[0m\u001b[46m\u001b[1m\u001b[30m  .  \u001b[0m\u001b[46m\u001b[1m\u001b[30m  .  \u001b[0m\u001b[46m\u001b[1m\u001b[30m  .  \u001b[0m\u001b[46m\u001b[1m\u001b[30m  .  \u001b[0m\n",
      "Results after 5 episodes:\n",
      "Path Length: 12\n",
      "Number of Penalty: 0\n",
      "\u001b[42m\u001b[1m\u001b[37m  웃 \u001b[0m\u001b[46m\u001b[1m\u001b[30m  .  \u001b[0m\u001b[46m\u001b[1m\u001b[30m  .  \u001b[0m\u001b[46m\u001b[1m\u001b[30m  .  \u001b[0m\u001b[46m\u001b[1m\u001b[30m  .  \u001b[0m\u001b[46m\u001b[1m\u001b[30m  .  \u001b[0m\u001b[46m\u001b[1m\u001b[30m  .  \u001b[0m\u001b[46m\u001b[1m\u001b[30m  .  \u001b[0m\u001b[46m\u001b[1m\u001b[30m  .  \u001b[0m\u001b[46m\u001b[1m\u001b[30m  .  \u001b[0m\n",
      "\u001b[46m\u001b[1m\u001b[30m  .  \u001b[0m\u001b[46m\u001b[1m\u001b[30m  .  \u001b[0m\u001b[46m\u001b[1m\u001b[30m  .  \u001b[0m\u001b[44m     \u001b[0m\u001b[46m\u001b[1m\u001b[30m  .  \u001b[0m\u001b[46m\u001b[1m\u001b[30m  .  \u001b[0m\u001b[46m\u001b[1m\u001b[30m  .  \u001b[0m\u001b[46m\u001b[1m\u001b[30m  .  \u001b[0m\u001b[46m\u001b[1m\u001b[30m  .  \u001b[0m\u001b[46m\u001b[1m\u001b[30m  .  \u001b[0m\n",
      "\u001b[46m\u001b[1m\u001b[30m  .  \u001b[0m\u001b[46m\u001b[1m\u001b[30m  .  \u001b[0m\u001b[46m\u001b[1m\u001b[30m  .  \u001b[0m\u001b[46m\u001b[1m\u001b[30m  .  \u001b[0m\u001b[46m\u001b[1m\u001b[30m  .  \u001b[0m\u001b[46m\u001b[1m\u001b[30m  .  \u001b[0m\u001b[46m\u001b[1m\u001b[30m  .  \u001b[0m\u001b[46m\u001b[1m\u001b[30m  .  \u001b[0m\u001b[46m\u001b[1m\u001b[30m  .  \u001b[0m\u001b[46m\u001b[1m\u001b[30m  .  \u001b[0m\n",
      "\u001b[46m\u001b[1m\u001b[30m  .  \u001b[0m\u001b[46m\u001b[1m\u001b[30m  .  \u001b[0m\u001b[46m\u001b[1m\u001b[30m  .  \u001b[0m\u001b[46m\u001b[1m\u001b[30m  █  \u001b[0m\u001b[46m\u001b[1m\u001b[30m  █  \u001b[0m\u001b[46m\u001b[1m\u001b[30m  █  \u001b[0m\u001b[46m\u001b[1m\u001b[30m  .  \u001b[0m\u001b[46m\u001b[1m\u001b[30m  .  \u001b[0m\u001b[46m\u001b[1m\u001b[30m  .  \u001b[0m\u001b[46m\u001b[1m\u001b[30m  .  \u001b[0m\n",
      "\u001b[46m\u001b[1m\u001b[30m  .  \u001b[0m\u001b[44m     \u001b[0m\u001b[46m\u001b[1m\u001b[30m  .  \u001b[0m\u001b[46m\u001b[1m\u001b[30m  █  \u001b[0m\u001b[46m\u001b[1m\u001b[30m  .  \u001b[0m\u001b[46m\u001b[1m\u001b[30m  .  \u001b[0m\u001b[46m\u001b[1m\u001b[30m  .  \u001b[0m\u001b[46m\u001b[1m\u001b[30m  .  \u001b[0m\u001b[46m\u001b[1m\u001b[30m  .  \u001b[0m\u001b[46m\u001b[1m\u001b[30m  .  \u001b[0m\n",
      "\u001b[46m\u001b[1m\u001b[30m  .  \u001b[0m\u001b[46m\u001b[1m\u001b[30m  .  \u001b[0m\u001b[46m\u001b[1m\u001b[30m  .  \u001b[0m\u001b[46m\u001b[1m\u001b[30m  █  \u001b[0m\u001b[46m\u001b[1m\u001b[30m  █  \u001b[0m\u001b[46m\u001b[1m\u001b[30m  .  \u001b[0m\u001b[46m\u001b[1m\u001b[30m  .  \u001b[0m\u001b[46m\u001b[1m\u001b[30m  .  \u001b[0m\u001b[46m\u001b[1m\u001b[30m  .  \u001b[0m\u001b[46m\u001b[1m\u001b[30m  .  \u001b[0m\n",
      "\u001b[46m\u001b[1m\u001b[30m  .  \u001b[0m\u001b[46m\u001b[1m\u001b[30m  .  \u001b[0m\u001b[44m     \u001b[0m\u001b[46m\u001b[1m\u001b[30m  .  \u001b[0m\u001b[46m\u001b[1m\u001b[30m  .  \u001b[0m\u001b[46m\u001b[1m\u001b[30m  .  \u001b[0m\u001b[46m\u001b[1m\u001b[30m  .  \u001b[0m\u001b[46m\u001b[1m\u001b[30m  .  \u001b[0m\u001b[46m\u001b[1m\u001b[30m  .  \u001b[0m\u001b[46m\u001b[1m\u001b[30m  .  \u001b[0m\n",
      "\u001b[46m\u001b[1m\u001b[30m  .  \u001b[0m\u001b[46m\u001b[1m\u001b[30m  .  \u001b[0m\u001b[46m\u001b[1m\u001b[30m  .  \u001b[0m\u001b[46m\u001b[1m\u001b[30m  .  \u001b[0m\u001b[46m\u001b[1m\u001b[30m  .  \u001b[0m\u001b[46m\u001b[1m\u001b[30m  .  \u001b[0m\u001b[46m\u001b[1m\u001b[30m  .  \u001b[0m\u001b[46m\u001b[1m\u001b[30m  .  \u001b[0m\u001b[46m\u001b[1m\u001b[30m  .  \u001b[0m\u001b[46m\u001b[1m\u001b[30m  .  \u001b[0m\n",
      "\u001b[46m\u001b[1m\u001b[30m  .  \u001b[0m\u001b[46m\u001b[1m\u001b[30m  .  \u001b[0m\u001b[46m\u001b[1m\u001b[30m  .  \u001b[0m\u001b[46m\u001b[1m\u001b[30m  .  \u001b[0m\u001b[46m\u001b[1m\u001b[30m  .  \u001b[0m\u001b[46m\u001b[1m\u001b[30m  .  \u001b[0m\u001b[46m\u001b[1m\u001b[30m  .  \u001b[0m\u001b[46m\u001b[1m\u001b[30m  .  \u001b[0m\u001b[46m\u001b[1m\u001b[30m  .  \u001b[0m\u001b[46m\u001b[1m\u001b[30m  .  \u001b[0m\n",
      "\u001b[46m\u001b[1m\u001b[30m  .  \u001b[0m\u001b[46m\u001b[1m\u001b[30m  .  \u001b[0m\u001b[46m\u001b[1m\u001b[30m  .  \u001b[0m\u001b[46m\u001b[1m\u001b[30m  .  \u001b[0m\u001b[46m\u001b[1m\u001b[30m  .  \u001b[0m\u001b[46m\u001b[1m\u001b[30m  .  \u001b[0m\u001b[46m\u001b[1m\u001b[30m  .  \u001b[0m\u001b[46m\u001b[1m\u001b[30m  .  \u001b[0m\u001b[46m\u001b[1m\u001b[30m  .  \u001b[0m\u001b[46m\u001b[1m\u001b[30m  .  \u001b[0m\n",
      "Results after 5 episodes:\n",
      "Path Length: 12\n",
      "Number of Penalty: 0\n",
      "\u001b[42m\u001b[1m\u001b[37m  웃 \u001b[0m\u001b[46m\u001b[1m\u001b[30m  .  \u001b[0m\u001b[46m\u001b[1m\u001b[30m  .  \u001b[0m\u001b[46m\u001b[1m\u001b[30m  .  \u001b[0m\u001b[46m\u001b[1m\u001b[30m  .  \u001b[0m\u001b[46m\u001b[1m\u001b[30m  .  \u001b[0m\u001b[46m\u001b[1m\u001b[30m  .  \u001b[0m\u001b[46m\u001b[1m\u001b[30m  .  \u001b[0m\u001b[46m\u001b[1m\u001b[30m  .  \u001b[0m\u001b[46m\u001b[1m\u001b[30m  .  \u001b[0m\n",
      "\u001b[46m\u001b[1m\u001b[30m  .  \u001b[0m\u001b[46m\u001b[1m\u001b[30m  .  \u001b[0m\u001b[46m\u001b[1m\u001b[30m  .  \u001b[0m\u001b[44m     \u001b[0m\u001b[46m\u001b[1m\u001b[30m  .  \u001b[0m\u001b[46m\u001b[1m\u001b[30m  .  \u001b[0m\u001b[46m\u001b[1m\u001b[30m  .  \u001b[0m\u001b[46m\u001b[1m\u001b[30m  .  \u001b[0m\u001b[46m\u001b[1m\u001b[30m  .  \u001b[0m\u001b[46m\u001b[1m\u001b[30m  .  \u001b[0m\n",
      "\u001b[46m\u001b[1m\u001b[30m  .  \u001b[0m\u001b[46m\u001b[1m\u001b[30m  .  \u001b[0m\u001b[46m\u001b[1m\u001b[30m  .  \u001b[0m\u001b[46m\u001b[1m\u001b[30m  .  \u001b[0m\u001b[46m\u001b[1m\u001b[30m  .  \u001b[0m\u001b[46m\u001b[1m\u001b[30m  .  \u001b[0m\u001b[46m\u001b[1m\u001b[30m  .  \u001b[0m\u001b[46m\u001b[1m\u001b[30m  .  \u001b[0m\u001b[46m\u001b[1m\u001b[30m  .  \u001b[0m\u001b[46m\u001b[1m\u001b[30m  .  \u001b[0m\n",
      "\u001b[46m\u001b[1m\u001b[30m  .  \u001b[0m\u001b[46m\u001b[1m\u001b[30m  .  \u001b[0m\u001b[46m\u001b[1m\u001b[30m  .  \u001b[0m\u001b[46m\u001b[1m\u001b[30m  █  \u001b[0m\u001b[46m\u001b[1m\u001b[30m  █  \u001b[0m\u001b[46m\u001b[1m\u001b[30m  █  \u001b[0m\u001b[46m\u001b[1m\u001b[30m  .  \u001b[0m\u001b[46m\u001b[1m\u001b[30m  .  \u001b[0m\u001b[46m\u001b[1m\u001b[30m  .  \u001b[0m\u001b[46m\u001b[1m\u001b[30m  .  \u001b[0m\n",
      "\u001b[46m\u001b[1m\u001b[30m  .  \u001b[0m\u001b[44m     \u001b[0m\u001b[46m\u001b[1m\u001b[30m  .  \u001b[0m\u001b[46m\u001b[1m\u001b[30m  █  \u001b[0m\u001b[46m\u001b[1m\u001b[30m  .  \u001b[0m\u001b[46m\u001b[1m\u001b[30m  .  \u001b[0m\u001b[46m\u001b[1m\u001b[30m  .  \u001b[0m\u001b[46m\u001b[1m\u001b[30m  .  \u001b[0m\u001b[46m\u001b[1m\u001b[30m  .  \u001b[0m\u001b[46m\u001b[1m\u001b[30m  .  \u001b[0m\n",
      "\u001b[46m\u001b[1m\u001b[30m  .  \u001b[0m\u001b[46m\u001b[1m\u001b[30m  .  \u001b[0m\u001b[46m\u001b[1m\u001b[30m  .  \u001b[0m\u001b[46m\u001b[1m\u001b[30m  █  \u001b[0m\u001b[46m\u001b[1m\u001b[30m  █  \u001b[0m\u001b[46m\u001b[1m\u001b[30m  .  \u001b[0m\u001b[46m\u001b[1m\u001b[30m  .  \u001b[0m\u001b[46m\u001b[1m\u001b[30m  .  \u001b[0m\u001b[46m\u001b[1m\u001b[30m  .  \u001b[0m\u001b[46m\u001b[1m\u001b[30m  .  \u001b[0m\n",
      "\u001b[46m\u001b[1m\u001b[30m  .  \u001b[0m\u001b[46m\u001b[1m\u001b[30m  .  \u001b[0m\u001b[44m     \u001b[0m\u001b[46m\u001b[1m\u001b[30m  .  \u001b[0m\u001b[46m\u001b[1m\u001b[30m  .  \u001b[0m\u001b[46m\u001b[1m\u001b[30m  .  \u001b[0m\u001b[46m\u001b[1m\u001b[30m  .  \u001b[0m\u001b[46m\u001b[1m\u001b[30m  .  \u001b[0m\u001b[46m\u001b[1m\u001b[30m  .  \u001b[0m\u001b[46m\u001b[1m\u001b[30m  .  \u001b[0m\n",
      "\u001b[46m\u001b[1m\u001b[30m  .  \u001b[0m\u001b[46m\u001b[1m\u001b[30m  .  \u001b[0m\u001b[46m\u001b[1m\u001b[30m  .  \u001b[0m\u001b[46m\u001b[1m\u001b[30m  .  \u001b[0m\u001b[46m\u001b[1m\u001b[30m  .  \u001b[0m\u001b[46m\u001b[1m\u001b[30m  .  \u001b[0m\u001b[46m\u001b[1m\u001b[30m  .  \u001b[0m\u001b[46m\u001b[1m\u001b[30m  .  \u001b[0m\u001b[46m\u001b[1m\u001b[30m  .  \u001b[0m\u001b[46m\u001b[1m\u001b[30m  .  \u001b[0m\n",
      "\u001b[46m\u001b[1m\u001b[30m  .  \u001b[0m\u001b[46m\u001b[1m\u001b[30m  .  \u001b[0m\u001b[46m\u001b[1m\u001b[30m  .  \u001b[0m\u001b[46m\u001b[1m\u001b[30m  .  \u001b[0m\u001b[46m\u001b[1m\u001b[30m  .  \u001b[0m\u001b[46m\u001b[1m\u001b[30m  .  \u001b[0m\u001b[46m\u001b[1m\u001b[30m  .  \u001b[0m\u001b[46m\u001b[1m\u001b[30m  .  \u001b[0m\u001b[46m\u001b[1m\u001b[30m  .  \u001b[0m\u001b[46m\u001b[1m\u001b[30m  .  \u001b[0m\n",
      "\u001b[46m\u001b[1m\u001b[30m  .  \u001b[0m\u001b[46m\u001b[1m\u001b[30m  .  \u001b[0m\u001b[46m\u001b[1m\u001b[30m  .  \u001b[0m\u001b[46m\u001b[1m\u001b[30m  .  \u001b[0m\u001b[46m\u001b[1m\u001b[30m  .  \u001b[0m\u001b[46m\u001b[1m\u001b[30m  .  \u001b[0m\u001b[46m\u001b[1m\u001b[30m  .  \u001b[0m\u001b[46m\u001b[1m\u001b[30m  .  \u001b[0m\u001b[46m\u001b[1m\u001b[30m  .  \u001b[0m\u001b[46m\u001b[1m\u001b[30m  .  \u001b[0m\n",
      "Results after 5 episodes:\n",
      "Path Length: 12\n",
      "Number of Penalty: 0\n"
     ]
    }
   ],
   "source": [
    "path_length_episode,rewards_per_episode,Q_Matrix=training_model(gamma,Learning_rate,exploration_probability,1000)\n",
    "episodes = 5\n",
    "for _ in range(episodes):    \n",
    "    state = env.reset()\n",
    "    move=0\n",
    "    penalties=0\n",
    "    reward = 0\n",
    "    done = False\n",
    "    while not done:\n",
    "        action = np.argmax(Q_Matrix[state])\n",
    "        state, reward, done, info = env.step(action)\n",
    "        if reward == -10:\n",
    "            penalties += 1\n",
    "        if reward == -3:\n",
    "            penalties += 1\n",
    "        move += 1\n",
    "    env._render()    \n",
    "    print(f\"Results after {episodes} episodes:\")\n",
    "    print(f\"Path Length: {move}\")\n",
    "    print(f\"Number of Penalty: {penalties}\")"
   ]
  },
  {
   "cell_type": "code",
   "execution_count": 247,
   "metadata": {},
   "outputs": [
    {
     "data": {
      "text/plain": [
       "Text(0.5, 0, 'iteration')"
      ]
     },
     "execution_count": 247,
     "metadata": {},
     "output_type": "execute_result"
    },
    {
     "data": {
      "image/png": "[encoded data removed]",
      "text/plain": [
       "<Figure size 432x288 with 1 Axes>"
      ]
     },
     "metadata": {
      "needs_background": "light"
     },
     "output_type": "display_data"
    }
   ],
   "source": [
    "plt.plot(rewards_per_episode)\n",
    "plt.title('reward per episode')\n",
    "plt.ylabel('reward')\n",
    "plt.xlabel('iteration')"
   ]
  },
  {
   "cell_type": "code",
   "execution_count": 248,
   "metadata": {},
   "outputs": [
    {
     "data": {
      "text/plain": [
       "Text(0.5, 0, 'iteration')"
      ]
     },
     "execution_count": 248,
     "metadata": {},
     "output_type": "execute_result"
    },
    {
     "data": {
      "image/png": "[encoded data removed]",
      "text/plain": [
       "<Figure size 432x288 with 1 Axes>"
      ]
     },
     "metadata": {
      "needs_background": "light"
     },
     "output_type": "display_data"
    }
   ],
   "source": [
    "plt.plot(path_length_episode)\n",
    "plt.title('Length of Path per Episode')\n",
    "plt.ylabel('Path Length')\n",
    "plt.xlabel('iteration')"
   ]
  },
  {
   "cell_type": "markdown",
   "metadata": {},
   "source": [
    "## Second Idea"
   ]
  },
  {
   "cell_type": "code",
   "execution_count": 249,
   "metadata": {},
   "outputs": [],
   "source": [
    "def training_model(gamma,Learning_rate,exploration_probability,episode):\n",
    "    Numer_of_states=10*10*1\n",
    "    Number_of_action=4\n",
    "    Q_Matrix = loadtxt('Q_func_init.csv', delimiter=',')\n",
    "    path_length_episode = []\n",
    "    rewards_per_episode = []\n",
    "    for i in range(episode):\n",
    "        state = env.reset()\n",
    "        move=0\n",
    "        reward=0\n",
    "        done = False\n",
    "        total_episode_reward = 0\n",
    "        while not done:\n",
    "            if random.uniform(0, 1) < exploration_probability:\n",
    "                action = env.action_space.sample() \n",
    "            else:\n",
    "                action = np.argmax(Q_Matrix[state]) \n",
    "            \n",
    "            next_state, reward, done, info = env.step(action)\n",
    "            \n",
    "            if state == 45:\n",
    "                  reward=0.8\n",
    "            if state == 46:\n",
    "                  reward=0.8\n",
    "            if state == 36:\n",
    "                  reward=0.8\n",
    "            if state == 26:\n",
    "                  reward=0.8\n",
    "            if state == 16:\n",
    "                  reward=0.8\n",
    "            if state == 6:\n",
    "                  reward=0.8\n",
    "            if state == 5:\n",
    "                  reward=0.8\n",
    "            if state == 4:\n",
    "                  reward=0.8\n",
    "            if state == 3:\n",
    "                  reward=0.8\n",
    "            if state == 1:\n",
    "                  reward=0.8\n",
    "            if state == 1:\n",
    "                  reward=0.8\n",
    "                    \n",
    "            if reward == -10 :\n",
    "                next_state=44    \n",
    "            previous_value = Q_Matrix[state, action]\n",
    "            next_max = np.max(Q_Matrix[next_state])\n",
    "            reward=reward-1\n",
    "            new_value = (1 - Learning_rate) * previous_value + Learning_rate * (reward + gamma * next_max)\n",
    "            Q_Matrix[state, action] = new_value  \n",
    "            total_episode_reward = total_episode_reward + reward\n",
    "            state = next_state\n",
    "            move += 1\n",
    "        rewards_per_episode.append(total_episode_reward)\n",
    "        path_length_episode.append(move)  \n",
    "        if i % 100 == 0:\n",
    "            clear_output(wait=True)\n",
    "            print(f\"Episode: {i}\")    \n",
    "    print(\"Training succesfully finished.\\n\")\n",
    "    savetxt('Q_func.csv',Q_Matrix, delimiter=',')\n",
    "    \n",
    "    return path_length_episode,rewards_per_episode,Q_Matrix"
   ]
  },
  {
   "cell_type": "code",
   "execution_count": 250,
   "metadata": {},
   "outputs": [
    {
     "name": "stdout",
     "output_type": "stream",
     "text": [
      "Episode: 900\n",
      "Training succesfully finished.\n",
      "\n",
      "\u001b[42m\u001b[1m\u001b[37m  웃 \u001b[0m\u001b[46m\u001b[1m\u001b[30m  .  \u001b[0m\u001b[46m\u001b[1m\u001b[30m  .  \u001b[0m\u001b[46m\u001b[1m\u001b[30m  .  \u001b[0m\u001b[46m\u001b[1m\u001b[30m  .  \u001b[0m\u001b[46m\u001b[1m\u001b[30m  .  \u001b[0m\u001b[46m\u001b[1m\u001b[30m  .  \u001b[0m\u001b[46m\u001b[1m\u001b[30m  .  \u001b[0m\u001b[46m\u001b[1m\u001b[30m  .  \u001b[0m\u001b[46m\u001b[1m\u001b[30m  .  \u001b[0m\n",
      "\u001b[46m\u001b[1m\u001b[30m  .  \u001b[0m\u001b[46m\u001b[1m\u001b[30m  .  \u001b[0m\u001b[46m\u001b[1m\u001b[30m  .  \u001b[0m\u001b[44m     \u001b[0m\u001b[46m\u001b[1m\u001b[30m  .  \u001b[0m\u001b[46m\u001b[1m\u001b[30m  .  \u001b[0m\u001b[46m\u001b[1m\u001b[30m  .  \u001b[0m\u001b[46m\u001b[1m\u001b[30m  .  \u001b[0m\u001b[46m\u001b[1m\u001b[30m  .  \u001b[0m\u001b[46m\u001b[1m\u001b[30m  .  \u001b[0m\n",
      "\u001b[46m\u001b[1m\u001b[30m  .  \u001b[0m\u001b[46m\u001b[1m\u001b[30m  .  \u001b[0m\u001b[46m\u001b[1m\u001b[30m  .  \u001b[0m\u001b[46m\u001b[1m\u001b[30m  .  \u001b[0m\u001b[46m\u001b[1m\u001b[30m  .  \u001b[0m\u001b[46m\u001b[1m\u001b[30m  .  \u001b[0m\u001b[46m\u001b[1m\u001b[30m  .  \u001b[0m\u001b[46m\u001b[1m\u001b[30m  .  \u001b[0m\u001b[46m\u001b[1m\u001b[30m  .  \u001b[0m\u001b[46m\u001b[1m\u001b[30m  .  \u001b[0m\n",
      "\u001b[46m\u001b[1m\u001b[30m  .  \u001b[0m\u001b[46m\u001b[1m\u001b[30m  .  \u001b[0m\u001b[46m\u001b[1m\u001b[30m  .  \u001b[0m\u001b[46m\u001b[1m\u001b[30m  █  \u001b[0m\u001b[46m\u001b[1m\u001b[30m  █  \u001b[0m\u001b[46m\u001b[1m\u001b[30m  █  \u001b[0m\u001b[46m\u001b[1m\u001b[30m  .  \u001b[0m\u001b[46m\u001b[1m\u001b[30m  .  \u001b[0m\u001b[46m\u001b[1m\u001b[30m  .  \u001b[0m\u001b[46m\u001b[1m\u001b[30m  .  \u001b[0m\n",
      "\u001b[46m\u001b[1m\u001b[30m  .  \u001b[0m\u001b[44m     \u001b[0m\u001b[46m\u001b[1m\u001b[30m  .  \u001b[0m\u001b[46m\u001b[1m\u001b[30m  █  \u001b[0m\u001b[46m\u001b[1m\u001b[30m  .  \u001b[0m\u001b[46m\u001b[1m\u001b[30m  .  \u001b[0m\u001b[46m\u001b[1m\u001b[30m  .  \u001b[0m\u001b[46m\u001b[1m\u001b[30m  .  \u001b[0m\u001b[46m\u001b[1m\u001b[30m  .  \u001b[0m\u001b[46m\u001b[1m\u001b[30m  .  \u001b[0m\n",
      "\u001b[46m\u001b[1m\u001b[30m  .  \u001b[0m\u001b[46m\u001b[1m\u001b[30m  .  \u001b[0m\u001b[46m\u001b[1m\u001b[30m  .  \u001b[0m\u001b[46m\u001b[1m\u001b[30m  █  \u001b[0m\u001b[46m\u001b[1m\u001b[30m  █  \u001b[0m\u001b[46m\u001b[1m\u001b[30m  .  \u001b[0m\u001b[46m\u001b[1m\u001b[30m  .  \u001b[0m\u001b[46m\u001b[1m\u001b[30m  .  \u001b[0m\u001b[46m\u001b[1m\u001b[30m  .  \u001b[0m\u001b[46m\u001b[1m\u001b[30m  .  \u001b[0m\n",
      "\u001b[46m\u001b[1m\u001b[30m  .  \u001b[0m\u001b[46m\u001b[1m\u001b[30m  .  \u001b[0m\u001b[44m     \u001b[0m\u001b[46m\u001b[1m\u001b[30m  .  \u001b[0m\u001b[46m\u001b[1m\u001b[30m  .  \u001b[0m\u001b[46m\u001b[1m\u001b[30m  .  \u001b[0m\u001b[46m\u001b[1m\u001b[30m  .  \u001b[0m\u001b[46m\u001b[1m\u001b[30m  .  \u001b[0m\u001b[46m\u001b[1m\u001b[30m  .  \u001b[0m\u001b[46m\u001b[1m\u001b[30m  .  \u001b[0m\n",
      "\u001b[46m\u001b[1m\u001b[30m  .  \u001b[0m\u001b[46m\u001b[1m\u001b[30m  .  \u001b[0m\u001b[46m\u001b[1m\u001b[30m  .  \u001b[0m\u001b[46m\u001b[1m\u001b[30m  .  \u001b[0m\u001b[46m\u001b[1m\u001b[30m  .  \u001b[0m\u001b[46m\u001b[1m\u001b[30m  .  \u001b[0m\u001b[46m\u001b[1m\u001b[30m  .  \u001b[0m\u001b[46m\u001b[1m\u001b[30m  .  \u001b[0m\u001b[46m\u001b[1m\u001b[30m  .  \u001b[0m\u001b[46m\u001b[1m\u001b[30m  .  \u001b[0m\n",
      "\u001b[46m\u001b[1m\u001b[30m  .  \u001b[0m\u001b[46m\u001b[1m\u001b[30m  .  \u001b[0m\u001b[46m\u001b[1m\u001b[30m  .  \u001b[0m\u001b[46m\u001b[1m\u001b[30m  .  \u001b[0m\u001b[46m\u001b[1m\u001b[30m  .  \u001b[0m\u001b[46m\u001b[1m\u001b[30m  .  \u001b[0m\u001b[46m\u001b[1m\u001b[30m  .  \u001b[0m\u001b[46m\u001b[1m\u001b[30m  .  \u001b[0m\u001b[46m\u001b[1m\u001b[30m  .  \u001b[0m\u001b[46m\u001b[1m\u001b[30m  .  \u001b[0m\n",
      "\u001b[46m\u001b[1m\u001b[30m  .  \u001b[0m\u001b[46m\u001b[1m\u001b[30m  .  \u001b[0m\u001b[46m\u001b[1m\u001b[30m  .  \u001b[0m\u001b[46m\u001b[1m\u001b[30m  .  \u001b[0m\u001b[46m\u001b[1m\u001b[30m  .  \u001b[0m\u001b[46m\u001b[1m\u001b[30m  .  \u001b[0m\u001b[46m\u001b[1m\u001b[30m  .  \u001b[0m\u001b[46m\u001b[1m\u001b[30m  .  \u001b[0m\u001b[46m\u001b[1m\u001b[30m  .  \u001b[0m\u001b[46m\u001b[1m\u001b[30m  .  \u001b[0m\n",
      "Results after 5 episodes:\n",
      "Path Length: 12\n",
      "Number of Penalty: 0\n",
      "\u001b[42m\u001b[1m\u001b[37m  웃 \u001b[0m\u001b[46m\u001b[1m\u001b[30m  .  \u001b[0m\u001b[46m\u001b[1m\u001b[30m  .  \u001b[0m\u001b[46m\u001b[1m\u001b[30m  .  \u001b[0m\u001b[46m\u001b[1m\u001b[30m  .  \u001b[0m\u001b[46m\u001b[1m\u001b[30m  .  \u001b[0m\u001b[46m\u001b[1m\u001b[30m  .  \u001b[0m\u001b[46m\u001b[1m\u001b[30m  .  \u001b[0m\u001b[46m\u001b[1m\u001b[30m  .  \u001b[0m\u001b[46m\u001b[1m\u001b[30m  .  \u001b[0m\n",
      "\u001b[46m\u001b[1m\u001b[30m  .  \u001b[0m\u001b[46m\u001b[1m\u001b[30m  .  \u001b[0m\u001b[46m\u001b[1m\u001b[30m  .  \u001b[0m\u001b[44m     \u001b[0m\u001b[46m\u001b[1m\u001b[30m  .  \u001b[0m\u001b[46m\u001b[1m\u001b[30m  .  \u001b[0m\u001b[46m\u001b[1m\u001b[30m  .  \u001b[0m\u001b[46m\u001b[1m\u001b[30m  .  \u001b[0m\u001b[46m\u001b[1m\u001b[30m  .  \u001b[0m\u001b[46m\u001b[1m\u001b[30m  .  \u001b[0m\n",
      "\u001b[46m\u001b[1m\u001b[30m  .  \u001b[0m\u001b[46m\u001b[1m\u001b[30m  .  \u001b[0m\u001b[46m\u001b[1m\u001b[30m  .  \u001b[0m\u001b[46m\u001b[1m\u001b[30m  .  \u001b[0m\u001b[46m\u001b[1m\u001b[30m  .  \u001b[0m\u001b[46m\u001b[1m\u001b[30m  .  \u001b[0m\u001b[46m\u001b[1m\u001b[30m  .  \u001b[0m\u001b[46m\u001b[1m\u001b[30m  .  \u001b[0m\u001b[46m\u001b[1m\u001b[30m  .  \u001b[0m\u001b[46m\u001b[1m\u001b[30m  .  \u001b[0m\n",
      "\u001b[46m\u001b[1m\u001b[30m  .  \u001b[0m\u001b[46m\u001b[1m\u001b[30m  .  \u001b[0m\u001b[46m\u001b[1m\u001b[30m  .  \u001b[0m\u001b[46m\u001b[1m\u001b[30m  █  \u001b[0m\u001b[46m\u001b[1m\u001b[30m  █  \u001b[0m\u001b[46m\u001b[1m\u001b[30m  █  \u001b[0m\u001b[46m\u001b[1m\u001b[30m  .  \u001b[0m\u001b[46m\u001b[1m\u001b[30m  .  \u001b[0m\u001b[46m\u001b[1m\u001b[30m  .  \u001b[0m\u001b[46m\u001b[1m\u001b[30m  .  \u001b[0m\n",
      "\u001b[46m\u001b[1m\u001b[30m  .  \u001b[0m\u001b[44m     \u001b[0m\u001b[46m\u001b[1m\u001b[30m  .  \u001b[0m\u001b[46m\u001b[1m\u001b[30m  █  \u001b[0m\u001b[46m\u001b[1m\u001b[30m  .  \u001b[0m\u001b[46m\u001b[1m\u001b[30m  .  \u001b[0m\u001b[46m\u001b[1m\u001b[30m  .  \u001b[0m\u001b[46m\u001b[1m\u001b[30m  .  \u001b[0m\u001b[46m\u001b[1m\u001b[30m  .  \u001b[0m\u001b[46m\u001b[1m\u001b[30m  .  \u001b[0m\n",
      "\u001b[46m\u001b[1m\u001b[30m  .  \u001b[0m\u001b[46m\u001b[1m\u001b[30m  .  \u001b[0m\u001b[46m\u001b[1m\u001b[30m  .  \u001b[0m\u001b[46m\u001b[1m\u001b[30m  █  \u001b[0m\u001b[46m\u001b[1m\u001b[30m  █  \u001b[0m\u001b[46m\u001b[1m\u001b[30m  .  \u001b[0m\u001b[46m\u001b[1m\u001b[30m  .  \u001b[0m\u001b[46m\u001b[1m\u001b[30m  .  \u001b[0m\u001b[46m\u001b[1m\u001b[30m  .  \u001b[0m\u001b[46m\u001b[1m\u001b[30m  .  \u001b[0m\n",
      "\u001b[46m\u001b[1m\u001b[30m  .  \u001b[0m\u001b[46m\u001b[1m\u001b[30m  .  \u001b[0m\u001b[44m     \u001b[0m\u001b[46m\u001b[1m\u001b[30m  .  \u001b[0m\u001b[46m\u001b[1m\u001b[30m  .  \u001b[0m\u001b[46m\u001b[1m\u001b[30m  .  \u001b[0m\u001b[46m\u001b[1m\u001b[30m  .  \u001b[0m\u001b[46m\u001b[1m\u001b[30m  .  \u001b[0m\u001b[46m\u001b[1m\u001b[30m  .  \u001b[0m\u001b[46m\u001b[1m\u001b[30m  .  \u001b[0m\n",
      "\u001b[46m\u001b[1m\u001b[30m  .  \u001b[0m\u001b[46m\u001b[1m\u001b[30m  .  \u001b[0m\u001b[46m\u001b[1m\u001b[30m  .  \u001b[0m\u001b[46m\u001b[1m\u001b[30m  .  \u001b[0m\u001b[46m\u001b[1m\u001b[30m  .  \u001b[0m\u001b[46m\u001b[1m\u001b[30m  .  \u001b[0m\u001b[46m\u001b[1m\u001b[30m  .  \u001b[0m\u001b[46m\u001b[1m\u001b[30m  .  \u001b[0m\u001b[46m\u001b[1m\u001b[30m  .  \u001b[0m\u001b[46m\u001b[1m\u001b[30m  .  \u001b[0m\n",
      "\u001b[46m\u001b[1m\u001b[30m  .  \u001b[0m\u001b[46m\u001b[1m\u001b[30m  .  \u001b[0m\u001b[46m\u001b[1m\u001b[30m  .  \u001b[0m\u001b[46m\u001b[1m\u001b[30m  .  \u001b[0m\u001b[46m\u001b[1m\u001b[30m  .  \u001b[0m\u001b[46m\u001b[1m\u001b[30m  .  \u001b[0m\u001b[46m\u001b[1m\u001b[30m  .  \u001b[0m\u001b[46m\u001b[1m\u001b[30m  .  \u001b[0m\u001b[46m\u001b[1m\u001b[30m  .  \u001b[0m\u001b[46m\u001b[1m\u001b[30m  .  \u001b[0m\n",
      "\u001b[46m\u001b[1m\u001b[30m  .  \u001b[0m\u001b[46m\u001b[1m\u001b[30m  .  \u001b[0m\u001b[46m\u001b[1m\u001b[30m  .  \u001b[0m\u001b[46m\u001b[1m\u001b[30m  .  \u001b[0m\u001b[46m\u001b[1m\u001b[30m  .  \u001b[0m\u001b[46m\u001b[1m\u001b[30m  .  \u001b[0m\u001b[46m\u001b[1m\u001b[30m  .  \u001b[0m\u001b[46m\u001b[1m\u001b[30m  .  \u001b[0m\u001b[46m\u001b[1m\u001b[30m  .  \u001b[0m\u001b[46m\u001b[1m\u001b[30m  .  \u001b[0m\n",
      "Results after 5 episodes:\n",
      "Path Length: 12\n",
      "Number of Penalty: 0\n",
      "\u001b[42m\u001b[1m\u001b[37m  웃 \u001b[0m\u001b[46m\u001b[1m\u001b[30m  .  \u001b[0m\u001b[46m\u001b[1m\u001b[30m  .  \u001b[0m\u001b[46m\u001b[1m\u001b[30m  .  \u001b[0m\u001b[46m\u001b[1m\u001b[30m  .  \u001b[0m\u001b[46m\u001b[1m\u001b[30m  .  \u001b[0m\u001b[46m\u001b[1m\u001b[30m  .  \u001b[0m\u001b[46m\u001b[1m\u001b[30m  .  \u001b[0m\u001b[46m\u001b[1m\u001b[30m  .  \u001b[0m\u001b[46m\u001b[1m\u001b[30m  .  \u001b[0m\n",
      "\u001b[46m\u001b[1m\u001b[30m  .  \u001b[0m\u001b[46m\u001b[1m\u001b[30m  .  \u001b[0m\u001b[46m\u001b[1m\u001b[30m  .  \u001b[0m\u001b[44m     \u001b[0m\u001b[46m\u001b[1m\u001b[30m  .  \u001b[0m\u001b[46m\u001b[1m\u001b[30m  .  \u001b[0m\u001b[46m\u001b[1m\u001b[30m  .  \u001b[0m\u001b[46m\u001b[1m\u001b[30m  .  \u001b[0m\u001b[46m\u001b[1m\u001b[30m  .  \u001b[0m\u001b[46m\u001b[1m\u001b[30m  .  \u001b[0m\n",
      "\u001b[46m\u001b[1m\u001b[30m  .  \u001b[0m\u001b[46m\u001b[1m\u001b[30m  .  \u001b[0m\u001b[46m\u001b[1m\u001b[30m  .  \u001b[0m\u001b[46m\u001b[1m\u001b[30m  .  \u001b[0m\u001b[46m\u001b[1m\u001b[30m  .  \u001b[0m\u001b[46m\u001b[1m\u001b[30m  .  \u001b[0m\u001b[46m\u001b[1m\u001b[30m  .  \u001b[0m\u001b[46m\u001b[1m\u001b[30m  .  \u001b[0m\u001b[46m\u001b[1m\u001b[30m  .  \u001b[0m\u001b[46m\u001b[1m\u001b[30m  .  \u001b[0m\n",
      "\u001b[46m\u001b[1m\u001b[30m  .  \u001b[0m\u001b[46m\u001b[1m\u001b[30m  .  \u001b[0m\u001b[46m\u001b[1m\u001b[30m  .  \u001b[0m\u001b[46m\u001b[1m\u001b[30m  █  \u001b[0m\u001b[46m\u001b[1m\u001b[30m  █  \u001b[0m\u001b[46m\u001b[1m\u001b[30m  █  \u001b[0m\u001b[46m\u001b[1m\u001b[30m  .  \u001b[0m\u001b[46m\u001b[1m\u001b[30m  .  \u001b[0m\u001b[46m\u001b[1m\u001b[30m  .  \u001b[0m\u001b[46m\u001b[1m\u001b[30m  .  \u001b[0m\n",
      "\u001b[46m\u001b[1m\u001b[30m  .  \u001b[0m\u001b[44m     \u001b[0m\u001b[46m\u001b[1m\u001b[30m  .  \u001b[0m\u001b[46m\u001b[1m\u001b[30m  █  \u001b[0m\u001b[46m\u001b[1m\u001b[30m  .  \u001b[0m\u001b[46m\u001b[1m\u001b[30m  .  \u001b[0m\u001b[46m\u001b[1m\u001b[30m  .  \u001b[0m\u001b[46m\u001b[1m\u001b[30m  .  \u001b[0m\u001b[46m\u001b[1m\u001b[30m  .  \u001b[0m\u001b[46m\u001b[1m\u001b[30m  .  \u001b[0m\n",
      "\u001b[46m\u001b[1m\u001b[30m  .  \u001b[0m\u001b[46m\u001b[1m\u001b[30m  .  \u001b[0m\u001b[46m\u001b[1m\u001b[30m  .  \u001b[0m\u001b[46m\u001b[1m\u001b[30m  █  \u001b[0m\u001b[46m\u001b[1m\u001b[30m  █  \u001b[0m\u001b[46m\u001b[1m\u001b[30m  .  \u001b[0m\u001b[46m\u001b[1m\u001b[30m  .  \u001b[0m\u001b[46m\u001b[1m\u001b[30m  .  \u001b[0m\u001b[46m\u001b[1m\u001b[30m  .  \u001b[0m\u001b[46m\u001b[1m\u001b[30m  .  \u001b[0m\n",
      "\u001b[46m\u001b[1m\u001b[30m  .  \u001b[0m\u001b[46m\u001b[1m\u001b[30m  .  \u001b[0m\u001b[44m     \u001b[0m\u001b[46m\u001b[1m\u001b[30m  .  \u001b[0m\u001b[46m\u001b[1m\u001b[30m  .  \u001b[0m\u001b[46m\u001b[1m\u001b[30m  .  \u001b[0m\u001b[46m\u001b[1m\u001b[30m  .  \u001b[0m\u001b[46m\u001b[1m\u001b[30m  .  \u001b[0m\u001b[46m\u001b[1m\u001b[30m  .  \u001b[0m\u001b[46m\u001b[1m\u001b[30m  .  \u001b[0m\n",
      "\u001b[46m\u001b[1m\u001b[30m  .  \u001b[0m\u001b[46m\u001b[1m\u001b[30m  .  \u001b[0m\u001b[46m\u001b[1m\u001b[30m  .  \u001b[0m\u001b[46m\u001b[1m\u001b[30m  .  \u001b[0m\u001b[46m\u001b[1m\u001b[30m  .  \u001b[0m\u001b[46m\u001b[1m\u001b[30m  .  \u001b[0m\u001b[46m\u001b[1m\u001b[30m  .  \u001b[0m\u001b[46m\u001b[1m\u001b[30m  .  \u001b[0m\u001b[46m\u001b[1m\u001b[30m  .  \u001b[0m\u001b[46m\u001b[1m\u001b[30m  .  \u001b[0m\n",
      "\u001b[46m\u001b[1m\u001b[30m  .  \u001b[0m\u001b[46m\u001b[1m\u001b[30m  .  \u001b[0m\u001b[46m\u001b[1m\u001b[30m  .  \u001b[0m\u001b[46m\u001b[1m\u001b[30m  .  \u001b[0m\u001b[46m\u001b[1m\u001b[30m  .  \u001b[0m\u001b[46m\u001b[1m\u001b[30m  .  \u001b[0m\u001b[46m\u001b[1m\u001b[30m  .  \u001b[0m\u001b[46m\u001b[1m\u001b[30m  .  \u001b[0m\u001b[46m\u001b[1m\u001b[30m  .  \u001b[0m\u001b[46m\u001b[1m\u001b[30m  .  \u001b[0m\n",
      "\u001b[46m\u001b[1m\u001b[30m  .  \u001b[0m\u001b[46m\u001b[1m\u001b[30m  .  \u001b[0m\u001b[46m\u001b[1m\u001b[30m  .  \u001b[0m\u001b[46m\u001b[1m\u001b[30m  .  \u001b[0m\u001b[46m\u001b[1m\u001b[30m  .  \u001b[0m\u001b[46m\u001b[1m\u001b[30m  .  \u001b[0m\u001b[46m\u001b[1m\u001b[30m  .  \u001b[0m\u001b[46m\u001b[1m\u001b[30m  .  \u001b[0m\u001b[46m\u001b[1m\u001b[30m  .  \u001b[0m\u001b[46m\u001b[1m\u001b[30m  .  \u001b[0m\n",
      "Results after 5 episodes:\n",
      "Path Length: 12\n",
      "Number of Penalty: 0\n",
      "\u001b[42m\u001b[1m\u001b[37m  웃 \u001b[0m\u001b[46m\u001b[1m\u001b[30m  .  \u001b[0m\u001b[46m\u001b[1m\u001b[30m  .  \u001b[0m\u001b[46m\u001b[1m\u001b[30m  .  \u001b[0m\u001b[46m\u001b[1m\u001b[30m  .  \u001b[0m\u001b[46m\u001b[1m\u001b[30m  .  \u001b[0m\u001b[46m\u001b[1m\u001b[30m  .  \u001b[0m\u001b[46m\u001b[1m\u001b[30m  .  \u001b[0m\u001b[46m\u001b[1m\u001b[30m  .  \u001b[0m\u001b[46m\u001b[1m\u001b[30m  .  \u001b[0m\n",
      "\u001b[46m\u001b[1m\u001b[30m  .  \u001b[0m\u001b[46m\u001b[1m\u001b[30m  .  \u001b[0m\u001b[46m\u001b[1m\u001b[30m  .  \u001b[0m\u001b[44m     \u001b[0m\u001b[46m\u001b[1m\u001b[30m  .  \u001b[0m\u001b[46m\u001b[1m\u001b[30m  .  \u001b[0m\u001b[46m\u001b[1m\u001b[30m  .  \u001b[0m\u001b[46m\u001b[1m\u001b[30m  .  \u001b[0m\u001b[46m\u001b[1m\u001b[30m  .  \u001b[0m\u001b[46m\u001b[1m\u001b[30m  .  \u001b[0m\n",
      "\u001b[46m\u001b[1m\u001b[30m  .  \u001b[0m\u001b[46m\u001b[1m\u001b[30m  .  \u001b[0m\u001b[46m\u001b[1m\u001b[30m  .  \u001b[0m\u001b[46m\u001b[1m\u001b[30m  .  \u001b[0m\u001b[46m\u001b[1m\u001b[30m  .  \u001b[0m\u001b[46m\u001b[1m\u001b[30m  .  \u001b[0m\u001b[46m\u001b[1m\u001b[30m  .  \u001b[0m\u001b[46m\u001b[1m\u001b[30m  .  \u001b[0m\u001b[46m\u001b[1m\u001b[30m  .  \u001b[0m\u001b[46m\u001b[1m\u001b[30m  .  \u001b[0m\n",
      "\u001b[46m\u001b[1m\u001b[30m  .  \u001b[0m\u001b[46m\u001b[1m\u001b[30m  .  \u001b[0m\u001b[46m\u001b[1m\u001b[30m  .  \u001b[0m\u001b[46m\u001b[1m\u001b[30m  █  \u001b[0m\u001b[46m\u001b[1m\u001b[30m  █  \u001b[0m\u001b[46m\u001b[1m\u001b[30m  █  \u001b[0m\u001b[46m\u001b[1m\u001b[30m  .  \u001b[0m\u001b[46m\u001b[1m\u001b[30m  .  \u001b[0m\u001b[46m\u001b[1m\u001b[30m  .  \u001b[0m\u001b[46m\u001b[1m\u001b[30m  .  \u001b[0m\n",
      "\u001b[46m\u001b[1m\u001b[30m  .  \u001b[0m\u001b[44m     \u001b[0m\u001b[46m\u001b[1m\u001b[30m  .  \u001b[0m\u001b[46m\u001b[1m\u001b[30m  █  \u001b[0m\u001b[46m\u001b[1m\u001b[30m  .  \u001b[0m\u001b[46m\u001b[1m\u001b[30m  .  \u001b[0m\u001b[46m\u001b[1m\u001b[30m  .  \u001b[0m\u001b[46m\u001b[1m\u001b[30m  .  \u001b[0m\u001b[46m\u001b[1m\u001b[30m  .  \u001b[0m\u001b[46m\u001b[1m\u001b[30m  .  \u001b[0m\n",
      "\u001b[46m\u001b[1m\u001b[30m  .  \u001b[0m\u001b[46m\u001b[1m\u001b[30m  .  \u001b[0m\u001b[46m\u001b[1m\u001b[30m  .  \u001b[0m\u001b[46m\u001b[1m\u001b[30m  █  \u001b[0m\u001b[46m\u001b[1m\u001b[30m  █  \u001b[0m\u001b[46m\u001b[1m\u001b[30m  .  \u001b[0m\u001b[46m\u001b[1m\u001b[30m  .  \u001b[0m\u001b[46m\u001b[1m\u001b[30m  .  \u001b[0m\u001b[46m\u001b[1m\u001b[30m  .  \u001b[0m\u001b[46m\u001b[1m\u001b[30m  .  \u001b[0m\n",
      "\u001b[46m\u001b[1m\u001b[30m  .  \u001b[0m\u001b[46m\u001b[1m\u001b[30m  .  \u001b[0m\u001b[44m     \u001b[0m\u001b[46m\u001b[1m\u001b[30m  .  \u001b[0m\u001b[46m\u001b[1m\u001b[30m  .  \u001b[0m\u001b[46m\u001b[1m\u001b[30m  .  \u001b[0m\u001b[46m\u001b[1m\u001b[30m  .  \u001b[0m\u001b[46m\u001b[1m\u001b[30m  .  \u001b[0m\u001b[46m\u001b[1m\u001b[30m  .  \u001b[0m\u001b[46m\u001b[1m\u001b[30m  .  \u001b[0m\n",
      "\u001b[46m\u001b[1m\u001b[30m  .  \u001b[0m\u001b[46m\u001b[1m\u001b[30m  .  \u001b[0m\u001b[46m\u001b[1m\u001b[30m  .  \u001b[0m\u001b[46m\u001b[1m\u001b[30m  .  \u001b[0m\u001b[46m\u001b[1m\u001b[30m  .  \u001b[0m\u001b[46m\u001b[1m\u001b[30m  .  \u001b[0m\u001b[46m\u001b[1m\u001b[30m  .  \u001b[0m\u001b[46m\u001b[1m\u001b[30m  .  \u001b[0m\u001b[46m\u001b[1m\u001b[30m  .  \u001b[0m\u001b[46m\u001b[1m\u001b[30m  .  \u001b[0m\n",
      "\u001b[46m\u001b[1m\u001b[30m  .  \u001b[0m\u001b[46m\u001b[1m\u001b[30m  .  \u001b[0m\u001b[46m\u001b[1m\u001b[30m  .  \u001b[0m\u001b[46m\u001b[1m\u001b[30m  .  \u001b[0m\u001b[46m\u001b[1m\u001b[30m  .  \u001b[0m\u001b[46m\u001b[1m\u001b[30m  .  \u001b[0m\u001b[46m\u001b[1m\u001b[30m  .  \u001b[0m\u001b[46m\u001b[1m\u001b[30m  .  \u001b[0m\u001b[46m\u001b[1m\u001b[30m  .  \u001b[0m\u001b[46m\u001b[1m\u001b[30m  .  \u001b[0m\n",
      "\u001b[46m\u001b[1m\u001b[30m  .  \u001b[0m\u001b[46m\u001b[1m\u001b[30m  .  \u001b[0m\u001b[46m\u001b[1m\u001b[30m  .  \u001b[0m\u001b[46m\u001b[1m\u001b[30m  .  \u001b[0m\u001b[46m\u001b[1m\u001b[30m  .  \u001b[0m\u001b[46m\u001b[1m\u001b[30m  .  \u001b[0m\u001b[46m\u001b[1m\u001b[30m  .  \u001b[0m\u001b[46m\u001b[1m\u001b[30m  .  \u001b[0m\u001b[46m\u001b[1m\u001b[30m  .  \u001b[0m\u001b[46m\u001b[1m\u001b[30m  .  \u001b[0m\n",
      "Results after 5 episodes:\n",
      "Path Length: 12\n",
      "Number of Penalty: 0\n"
     ]
    },
    {
     "name": "stdout",
     "output_type": "stream",
     "text": [
      "\u001b[42m\u001b[1m\u001b[37m  웃 \u001b[0m\u001b[46m\u001b[1m\u001b[30m  .  \u001b[0m\u001b[46m\u001b[1m\u001b[30m  .  \u001b[0m\u001b[46m\u001b[1m\u001b[30m  .  \u001b[0m\u001b[46m\u001b[1m\u001b[30m  .  \u001b[0m\u001b[46m\u001b[1m\u001b[30m  .  \u001b[0m\u001b[46m\u001b[1m\u001b[30m  .  \u001b[0m\u001b[46m\u001b[1m\u001b[30m  .  \u001b[0m\u001b[46m\u001b[1m\u001b[30m  .  \u001b[0m\u001b[46m\u001b[1m\u001b[30m  .  \u001b[0m\n",
      "\u001b[46m\u001b[1m\u001b[30m  .  \u001b[0m\u001b[46m\u001b[1m\u001b[30m  .  \u001b[0m\u001b[46m\u001b[1m\u001b[30m  .  \u001b[0m\u001b[44m     \u001b[0m\u001b[46m\u001b[1m\u001b[30m  .  \u001b[0m\u001b[46m\u001b[1m\u001b[30m  .  \u001b[0m\u001b[46m\u001b[1m\u001b[30m  .  \u001b[0m\u001b[46m\u001b[1m\u001b[30m  .  \u001b[0m\u001b[46m\u001b[1m\u001b[30m  .  \u001b[0m\u001b[46m\u001b[1m\u001b[30m  .  \u001b[0m\n",
      "\u001b[46m\u001b[1m\u001b[30m  .  \u001b[0m\u001b[46m\u001b[1m\u001b[30m  .  \u001b[0m\u001b[46m\u001b[1m\u001b[30m  .  \u001b[0m\u001b[46m\u001b[1m\u001b[30m  .  \u001b[0m\u001b[46m\u001b[1m\u001b[30m  .  \u001b[0m\u001b[46m\u001b[1m\u001b[30m  .  \u001b[0m\u001b[46m\u001b[1m\u001b[30m  .  \u001b[0m\u001b[46m\u001b[1m\u001b[30m  .  \u001b[0m\u001b[46m\u001b[1m\u001b[30m  .  \u001b[0m\u001b[46m\u001b[1m\u001b[30m  .  \u001b[0m\n",
      "\u001b[46m\u001b[1m\u001b[30m  .  \u001b[0m\u001b[46m\u001b[1m\u001b[30m  .  \u001b[0m\u001b[46m\u001b[1m\u001b[30m  .  \u001b[0m\u001b[46m\u001b[1m\u001b[30m  █  \u001b[0m\u001b[46m\u001b[1m\u001b[30m  █  \u001b[0m\u001b[46m\u001b[1m\u001b[30m  █  \u001b[0m\u001b[46m\u001b[1m\u001b[30m  .  \u001b[0m\u001b[46m\u001b[1m\u001b[30m  .  \u001b[0m\u001b[46m\u001b[1m\u001b[30m  .  \u001b[0m\u001b[46m\u001b[1m\u001b[30m  .  \u001b[0m\n",
      "\u001b[46m\u001b[1m\u001b[30m  .  \u001b[0m\u001b[44m     \u001b[0m\u001b[46m\u001b[1m\u001b[30m  .  \u001b[0m\u001b[46m\u001b[1m\u001b[30m  █  \u001b[0m\u001b[46m\u001b[1m\u001b[30m  .  \u001b[0m\u001b[46m\u001b[1m\u001b[30m  .  \u001b[0m\u001b[46m\u001b[1m\u001b[30m  .  \u001b[0m\u001b[46m\u001b[1m\u001b[30m  .  \u001b[0m\u001b[46m\u001b[1m\u001b[30m  .  \u001b[0m\u001b[46m\u001b[1m\u001b[30m  .  \u001b[0m\n",
      "\u001b[46m\u001b[1m\u001b[30m  .  \u001b[0m\u001b[46m\u001b[1m\u001b[30m  .  \u001b[0m\u001b[46m\u001b[1m\u001b[30m  .  \u001b[0m\u001b[46m\u001b[1m\u001b[30m  █  \u001b[0m\u001b[46m\u001b[1m\u001b[30m  █  \u001b[0m\u001b[46m\u001b[1m\u001b[30m  .  \u001b[0m\u001b[46m\u001b[1m\u001b[30m  .  \u001b[0m\u001b[46m\u001b[1m\u001b[30m  .  \u001b[0m\u001b[46m\u001b[1m\u001b[30m  .  \u001b[0m\u001b[46m\u001b[1m\u001b[30m  .  \u001b[0m\n",
      "\u001b[46m\u001b[1m\u001b[30m  .  \u001b[0m\u001b[46m\u001b[1m\u001b[30m  .  \u001b[0m\u001b[44m     \u001b[0m\u001b[46m\u001b[1m\u001b[30m  .  \u001b[0m\u001b[46m\u001b[1m\u001b[30m  .  \u001b[0m\u001b[46m\u001b[1m\u001b[30m  .  \u001b[0m\u001b[46m\u001b[1m\u001b[30m  .  \u001b[0m\u001b[46m\u001b[1m\u001b[30m  .  \u001b[0m\u001b[46m\u001b[1m\u001b[30m  .  \u001b[0m\u001b[46m\u001b[1m\u001b[30m  .  \u001b[0m\n",
      "\u001b[46m\u001b[1m\u001b[30m  .  \u001b[0m\u001b[46m\u001b[1m\u001b[30m  .  \u001b[0m\u001b[46m\u001b[1m\u001b[30m  .  \u001b[0m\u001b[46m\u001b[1m\u001b[30m  .  \u001b[0m\u001b[46m\u001b[1m\u001b[30m  .  \u001b[0m\u001b[46m\u001b[1m\u001b[30m  .  \u001b[0m\u001b[46m\u001b[1m\u001b[30m  .  \u001b[0m\u001b[46m\u001b[1m\u001b[30m  .  \u001b[0m\u001b[46m\u001b[1m\u001b[30m  .  \u001b[0m\u001b[46m\u001b[1m\u001b[30m  .  \u001b[0m\n",
      "\u001b[46m\u001b[1m\u001b[30m  .  \u001b[0m\u001b[46m\u001b[1m\u001b[30m  .  \u001b[0m\u001b[46m\u001b[1m\u001b[30m  .  \u001b[0m\u001b[46m\u001b[1m\u001b[30m  .  \u001b[0m\u001b[46m\u001b[1m\u001b[30m  .  \u001b[0m\u001b[46m\u001b[1m\u001b[30m  .  \u001b[0m\u001b[46m\u001b[1m\u001b[30m  .  \u001b[0m\u001b[46m\u001b[1m\u001b[30m  .  \u001b[0m\u001b[46m\u001b[1m\u001b[30m  .  \u001b[0m\u001b[46m\u001b[1m\u001b[30m  .  \u001b[0m\n",
      "\u001b[46m\u001b[1m\u001b[30m  .  \u001b[0m\u001b[46m\u001b[1m\u001b[30m  .  \u001b[0m\u001b[46m\u001b[1m\u001b[30m  .  \u001b[0m\u001b[46m\u001b[1m\u001b[30m  .  \u001b[0m\u001b[46m\u001b[1m\u001b[30m  .  \u001b[0m\u001b[46m\u001b[1m\u001b[30m  .  \u001b[0m\u001b[46m\u001b[1m\u001b[30m  .  \u001b[0m\u001b[46m\u001b[1m\u001b[30m  .  \u001b[0m\u001b[46m\u001b[1m\u001b[30m  .  \u001b[0m\u001b[46m\u001b[1m\u001b[30m  .  \u001b[0m\n",
      "Results after 5 episodes:\n",
      "Path Length: 12\n",
      "Number of Penalty: 0\n"
     ]
    }
   ],
   "source": [
    "path_length_episode,rewards_per_episode,Q_Matrix=training_model(gamma,Learning_rate,exploration_probability,1000)\n",
    "episodes = 5\n",
    "for _ in range(episodes):    \n",
    "    state = env.reset()\n",
    "    move=0\n",
    "    penalties=0\n",
    "    reward = 0\n",
    "    done = False\n",
    "    while not done:\n",
    "        action = np.argmax(Q_Matrix[state])\n",
    "        state, reward, done, info = env.step(action)\n",
    "        if reward == -10:\n",
    "            penalties += 1\n",
    "        if reward == -3:\n",
    "            penalties += 1\n",
    "        move += 1\n",
    "    env._render()    \n",
    "    print(f\"Results after {episodes} episodes:\")\n",
    "    print(f\"Path Length: {move}\")\n",
    "    print(f\"Number of Penalty: {penalties}\")"
   ]
  },
  {
   "cell_type": "code",
   "execution_count": 251,
   "metadata": {},
   "outputs": [
    {
     "data": {
      "text/plain": [
       "Text(0.5, 0, 'iteration')"
      ]
     },
     "execution_count": 251,
     "metadata": {},
     "output_type": "execute_result"
    },
    {
     "data": {
      "image/png": "[encoded data removed]",
      "text/plain": [
       "<Figure size 432x288 with 1 Axes>"
      ]
     },
     "metadata": {
      "needs_background": "light"
     },
     "output_type": "display_data"
    }
   ],
   "source": [
    "plt.plot(rewards_per_episode)\n",
    "plt.title('reward per episode')\n",
    "plt.ylabel('reward')\n",
    "plt.xlabel('iteration')"
   ]
  },
  {
   "cell_type": "code",
   "execution_count": 252,
   "metadata": {},
   "outputs": [
    {
     "data": {
      "text/plain": [
       "Text(0.5, 0, 'iteration')"
      ]
     },
     "execution_count": 252,
     "metadata": {},
     "output_type": "execute_result"
    },
    {
     "data": {
      "image/png": "[encoded data removed]",
      "text/plain": [
       "<Figure size 432x288 with 1 Axes>"
      ]
     },
     "metadata": {
      "needs_background": "light"
     },
     "output_type": "display_data"
    }
   ],
   "source": [
    "plt.plot(path_length_episode)\n",
    "plt.title('Length of Path per Episode')\n",
    "plt.ylabel('Path Length')\n",
    "plt.xlabel('iteration')"
   ]
  }
 ],
 "metadata": {
  "colab": {
   "collapsed_sections": [],
   "name": "Environment.ipynb",
   "provenance": []
  },
  "kernelspec": {
   "display_name": "Python 3",
   "language": "python",
   "name": "python3"
  },
  "language_info": {
   "codemirror_mode": {
    "name": "ipython",
    "version": 3
   },
   "file_extension": ".py",
   "mimetype": "text/x-python",
   "name": "python",
   "nbconvert_exporter": "python",
   "pygments_lexer": "ipython3",
   "version": "3.8.5"
  }
 },
 "nbformat": 4,
 "nbformat_minor": 1
}
