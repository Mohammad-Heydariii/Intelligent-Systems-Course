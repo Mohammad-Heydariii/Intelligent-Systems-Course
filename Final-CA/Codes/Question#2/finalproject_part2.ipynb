{
  "cells": [
    {
      "cell_type": "markdown",
      "metadata": {
        "id": "3tcsn-pkqymC"
      },
      "source": [
        "# **Imports**"
      ]
    },
    {
      "cell_type": "code",
      "execution_count": 1,
      "metadata": {
        "id": "w35QFIyMoIiq"
      },
      "outputs": [],
      "source": [
        "import zipfile, csv, os, io, string, pickle, math\n",
        "import numpy as np\n",
        "import matplotlib.pyplot as plt\n",
        "import urllib.request as urllib\n",
        "import pandas as pd\n",
        "from tqdm import tqdm\n",
        "from sklearn.metrics import confusion_matrix"
      ]
    },
    {
      "cell_type": "markdown",
      "metadata": {
        "id": "g46rbwsv4z_l"
      },
      "source": [
        "# **Constants**"
      ]
    },
    {
      "cell_type": "code",
      "execution_count": 43,
      "metadata": {
        "id": "WHMUjOsQ4yp9"
      },
      "outputs": [],
      "source": [
        "GLOVE_URL = \"http://nlp.stanford.edu/data/glove.6B.zip\"\n",
        "SENTENCES_URL = 'https://archive.ics.uci.edu/ml/machine-learning-databases/00331/sentiment%20labelled%20sentences.zip'\n",
        "\n",
        "TEST_RATIO = 0.15\n",
        "VALIDATION_RATIO = 0.1\n",
        "MAX_DIM = 300\n",
        "MAX_LENGTH = 50\n",
        "NUM_OF_CLASSES = 2\n",
        "LR = 0.001\n",
        "LR_DECAY = 0.95\n",
        "BETA1 = 0.9\n",
        "BETA2 = 0.999\n",
        "NUM_OF_EPOCHS = 8\n",
        "BATCH_SIZE = 100\n",
        "GAMMA = 0.9\n",
        "SAVE_PATH_cost = '/content/gdrive/My Drive/cost_neuron_64.plk'\n",
        "SAVE_PATH_Network = '/content/gdrive/My Drive/Net_neruon_64.plk'\n",
        "SAVE_PATH_ACC_valid = '/content/gdrive/My Drive/acc_valid_neuron_64.plk'\n",
        "SAVE_PATH_ACC_train = '/content/gdrive/My Drive/acc_train_neuron_64.plk'"
      ]
    },
    {
      "cell_type": "markdown",
      "metadata": {
        "id": "KhrWNkJqFRj0"
      },
      "source": [
        "# **GloVe Dictionary**"
      ]
    },
    {
      "cell_type": "code",
      "execution_count": 4,
      "metadata": {
        "colab": {
          "base_uri": "https://localhost:8080/"
        },
        "id": "lxUwo122p85N",
        "outputId": "e19151dc-8ccc-48a6-ac79-b9fb6d9a6bc7"
      },
      "outputs": [
        {
          "output_type": "stream",
          "name": "stdout",
          "text": [
            "['glove.6B.50d.txt', 'glove.6B.100d.txt', 'glove.6B.200d.txt', 'glove.6B.300d.txt']\n"
          ]
        }
      ],
      "source": [
        "embedded_dict = {}\n",
        "filehandle, _ = urllib.urlretrieve(GLOVE_URL)\n",
        "zip_file_object = zipfile.ZipFile(filehandle, 'r')\n",
        "print(zip_file_object.namelist())\n",
        "f = zip_file_object.open('glove.6B.'+str(MAX_DIM)+'d.txt')\n",
        "with io.TextIOWrapper(f) as file:\n",
        "  for line in file:\n",
        "      values = line.split()\n",
        "      word = values[0]\n",
        "      vectors = np.asarray(values[1:],\"float32\")\n",
        "      embedded_dict[word] = vectors\n",
        "file.close()"
      ]
    },
    {
      "cell_type": "markdown",
      "source": [
        "# **Reading dataset**"
      ],
      "metadata": {
        "id": "LxW77jEY7Hk4"
      }
    },
    {
      "cell_type": "code",
      "execution_count": 5,
      "metadata": {
        "id": "y61G_1ruqusf"
      },
      "outputs": [],
      "source": [
        "filehandle, _ = urllib.urlretrieve(SENTENCES_URL)\n",
        "zip_file_object = zipfile.ZipFile(filehandle, 'r')\n",
        "files = ['amazon_cells_labelled.txt', 'imdb_labelled.txt', 'yelp_labelled.txt']\n",
        "fileName = [os.path.join('sentiment labelled sentences', f) for f in files]\n",
        "labelledData = []\n",
        "for i in range(len(fileName)):\n",
        "  file = zip_file_object.open(fileName[i])\n",
        "  with io.TextIOWrapper(file) as f:\n",
        "    reader = csv.reader(f, delimiter='\\t')\n",
        "    for row in reader:\n",
        "      row[0] = row[0].strip()\n",
        "      labelledData.append((row[0],row[1]))\n",
        "labelledData = np.array(labelledData)"
      ]
    },
    {
      "cell_type": "code",
      "source": [
        "from google.colab import drive\n",
        "drive.mount('/content/gdrive')\n"
      ],
      "metadata": {
        "colab": {
          "base_uri": "https://localhost:8080/"
        },
        "id": "-7cBs2BUM97G",
        "outputId": "b9016d0f-8d53-461e-b339-ad5432a8ca0a"
      },
      "execution_count": 6,
      "outputs": [
        {
          "output_type": "stream",
          "name": "stdout",
          "text": [
            "Mounted at /content/gdrive\n"
          ]
        }
      ]
    },
    {
      "cell_type": "markdown",
      "metadata": {
        "id": "YQC32e_dUoh1"
      },
      "source": [
        "# **Dataset Split**"
      ]
    },
    {
      "cell_type": "code",
      "execution_count": 7,
      "metadata": {
        "id": "I6z1IrvAUpRr"
      },
      "outputs": [],
      "source": [
        "np.random.shuffle(labelledData)\n",
        "testSize = int(len(labelledData)*TEST_RATIO)\n",
        "trainSize = int(len(labelledData)*(1-TEST_RATIO))\n",
        "validSize = int(trainSize*VALIDATION_RATIO)\n",
        "testData = labelledData[:testSize]\n",
        "validData = labelledData[testSize : testSize+validSize]\n",
        "trainData = labelledData[validSize+testSize:]\n",
        "trainSet = trainData[:, 0]\n",
        "validSet = validData[:, 0]\n",
        "testSet = testData[:, 0]\n",
        "trainLabel = trainData[:, 1]\n",
        "validLabel = validData[:, 1]\n",
        "testLabel = testData[:, 1]"
      ]
    },
    {
      "cell_type": "markdown",
      "metadata": {
        "id": "PH0284DtEpy4"
      },
      "source": [
        "# **Preparing Dataset**"
      ]
    },
    {
      "cell_type": "code",
      "execution_count": 8,
      "metadata": {
        "id": "6cyUf5t07MlC"
      },
      "outputs": [],
      "source": [
        "def data_coding(data):\n",
        "   punctuations = string.punctuation\n",
        "   sentence = data.lower()\n",
        "   new_sentence = \"\"\n",
        "   for char in sentence:\n",
        "     if char in punctuations:\n",
        "       new_sentence += \" \" + char\n",
        "     else:\n",
        "       new_sentence += char\n",
        "   sentence_arr = new_sentence.split()\n",
        "   sentence_arr = sentence_arr[:min(len(sentence_arr), MAX_LENGTH)]\n",
        "   dict_values = np.zeros((len(sentence_arr), MAX_DIM))\n",
        "   sum_dict = np.zeros((MAX_DIM, 1))\n",
        "   sum_sqr_dict = np.zeros((MAX_DIM, 1))\n",
        "   for i, word in enumerate(sentence_arr):\n",
        "     if word in embedded_dict:\n",
        "       dict_val = embedded_dict[word]\n",
        "       dict_values[i, :] = list(dict_val)\n",
        "       dict_val = np.reshape(dict_val, (MAX_DIM, 1))\n",
        "       sum_dict = np.add(sum_dict, dict_val)\n",
        "       sum_sqr_dict = np.add(sum_sqr_dict, np.square(dict_val))\n",
        "   sentence_code = dict_values\n",
        "   return sentence_code, sum_dict, sum_sqr_dict, len(sentence_arr)"
      ]
    },
    {
      "cell_type": "code",
      "source": [
        "def calc_code_mean_std (data):\n",
        "    X = data[:,0]\n",
        "    Y = data[:,1]\n",
        "    sum_dict = np.zeros((MAX_DIM, 1))\n",
        "    sum_sqr_dict = np.zeros((MAX_DIM, 1))\n",
        "    cnt = 0\n",
        "    batch_code = []\n",
        "    for i in range(len(X)):\n",
        "      row_data, new_sum, new_sqr, new_len = data_coding(X[i])\n",
        "      sum_dict = np.add(sum_dict, new_sum)\n",
        "      sum_sqr_dict = np.add(sum_sqr_dict, new_sqr)\n",
        "      cnt += new_len\n",
        "      batch_code.append((row_data, int(Y[i])))\n",
        "    mean_dict = np.divide(sum_dict, cnt)\n",
        "    var_dict = np.subtract(np.divide(sum_sqr_dict, cnt), np.square(np.divide(sum_dict, cnt)))\n",
        "    std_dict = np.sqrt(var_dict)\n",
        "    return batch_code, mean_dict, std_dict\n",
        "def calc_code_mean_std2 (data):\n",
        "    X = data[:,0]\n",
        "    Y = data[:,1]\n",
        "    sum_dict = np.zeros((MAX_DIM, 1))\n",
        "    sum_sqr_dict = np.zeros((MAX_DIM, 1))\n",
        "    cnt = 0\n",
        "    batch_code = []\n",
        "    for i in range(len(X)):\n",
        "      row_data, new_sum, new_sqr, new_len = data_coding(X[i])\n",
        "      sum_dict = np.add(sum_dict, new_sum)\n",
        "      sum_sqr_dict = np.add(sum_sqr_dict, new_sqr)\n",
        "      cnt += MAX_LENGTH\n",
        "      batch_code.append((row_data, int(Y[i])))\n",
        "    mean_dict = np.divide(sum_dict, cnt)\n",
        "    var_dict = np.subtract(np.divide(sum_sqr_dict, cnt), np.square(np.divide(sum_dict, cnt)))\n",
        "    std_dict = np.sqrt(var_dict)\n",
        "    return batch_code, mean_dict, std_dict\n",
        "def calc_code_mean_std3 (data):\n",
        "    X = data[:,0]\n",
        "    Y = data[:,1]\n",
        "    sum_dict = np.zeros((MAX_DIM, 1))\n",
        "    sum_sqr_dict = np.zeros((MAX_DIM, 1))\n",
        "    cnt = 0\n",
        "    batch_code = []\n",
        "    for i in range(len(X)):\n",
        "      row_data, new_sum, new_sqr, new_len = data_coding2(X[i])\n",
        "      sum_dict = np.add(sum_dict, new_sum)\n",
        "      sum_sqr_dict = np.add(sum_sqr_dict, new_sqr)\n",
        "      cnt += new_len\n",
        "      batch_code.append((row_data, int(Y[i])))\n",
        "    mean_dict = np.divide(sum_dict, cnt)\n",
        "    var_dict = np.subtract(np.divide(sum_sqr_dict, cnt), np.square(np.divide(sum_dict, cnt)))\n",
        "    std_dict = np.sqrt(var_dict)\n",
        "    return batch_code, mean_dict, std_dict"
      ],
      "metadata": {
        "id": "pzxnqE_tLmL-"
      },
      "execution_count": 9,
      "outputs": []
    },
    {
      "cell_type": "code",
      "source": [
        "def data_normalization(batch_code, mean, std):\n",
        "    result = []\n",
        "    for i in range(len(batch_code)):\n",
        "      sentence_code = np.zeros((MAX_LENGTH, 1, MAX_DIM))\n",
        "      \n",
        "      sentence_code[:np.shape(batch_code[i][0])[0], 0, :] = np.divide(np.subtract(batch_code[i][0], np.transpose(mean)), np.transpose(std))\n",
        "      \n",
        "      result.append((sentence_code, batch_code[i][1]))\n",
        "\n",
        "    return np.array(result)\n",
        "\n",
        "def data_normalization2(batch_code, mean, std):\n",
        "    result = []\n",
        "    for i in range(len(batch_code)):\n",
        "      sentence_code = np.zeros((MAX_LENGTH, 1, MAX_DIM))\n",
        "      \n",
        "      #sentence_code[:np.shape(batch_code[i][0])[0], 0, :] = np.divide(np.subtract(batch_code[i][0], np.transpose(mean)), np.transpose(std))\n",
        "      \n",
        "      sentence_code[:np.shape(batch_code[i][0])[0], 0, :] = batch_code[i][0]\n",
        "      sentence_code = np.divide(np.subtract(sentence_code,np.transpose(mean)), np.transpose(std))\n",
        "      result.append((sentence_code, batch_code[i][1]))\n",
        "\n",
        "    return np.array(result)"
      ],
      "metadata": {
        "id": "pMWMGP7J9OD_"
      },
      "execution_count": 10,
      "outputs": []
    },
    {
      "cell_type": "markdown",
      "source": [
        "# **Some Functions**"
      ],
      "metadata": {
        "id": "DFxBn6tbnzSx"
      }
    },
    {
      "cell_type": "code",
      "source": [
        "def function_builder(name, alpha=1, bias=0):\n",
        "  def func(X):\n",
        "    if name == 'Relu':\n",
        "      X[X<=0] = 0\n",
        "    elif name == 'LeakyRelu':\n",
        "      X = np.max(alpha * X, X)\n",
        "    elif name == 'ELU':\n",
        "      X = alpha*(np.exp(X[X<=0])-1)\n",
        "    elif name == 'Tanh':\n",
        "      X = np.tanh(X)\n",
        "    elif name == 'Linear':\n",
        "      X = alpha*X + bias\n",
        "    return X\n",
        "  return func"
      ],
      "metadata": {
        "id": "c4WrQMBB2WWE"
      },
      "execution_count": 11,
      "outputs": []
    },
    {
      "cell_type": "code",
      "source": [
        "def initializeFilter(size, scale = 1.0):\n",
        "    stddev = scale/np.sqrt(np.prod(size))\n",
        "    return np.random.normal(loc = 0, scale = stddev, size = size)\n",
        "\n",
        "def initializeWeight(size):\n",
        "    return np.random.standard_normal(size=size) * 0.01\n",
        "\n",
        "def initializeParams ():\n",
        "  m = [None]*len(Network)\n",
        "  v = [None]*len(Network)\n",
        "  mb = [None]*len(Network)\n",
        "  vb = [None]*len(Network)\n",
        "\n",
        "  for i, layer in enumerate(Network):\n",
        "    if layer[0] == 'maxpool' or layer[0] == 'flatten':\n",
        "      continue\n",
        "    m[i] = np.zeros(layer[1].shape)\n",
        "    v[i] = np.zeros(layer[1].shape)\n",
        "    mb[i] = np.zeros(layer[2].shape)\n",
        "    vb[i] = np.zeros(layer[2].shape)\n",
        "\n",
        "  return [m, v, mb, vb]\n"
      ],
      "metadata": {
        "id": "1je9I6RG7WlP"
      },
      "execution_count": 12,
      "outputs": []
    },
    {
      "cell_type": "code",
      "source": [
        "def categoricalCrossEntropy(probs, label):\n",
        "    return -np.sum(label * np.log(probs)) "
      ],
      "metadata": {
        "id": "K3trbUwM7ysU"
      },
      "execution_count": 13,
      "outputs": []
    },
    {
      "cell_type": "code",
      "source": [
        "def nanargmax(arr):\n",
        "    idx = np.nanargmax(arr)\n",
        "    idxs = np.unravel_index(idx, arr.shape)\n",
        "    return idxs"
      ],
      "metadata": {
        "id": "Y8beFVm2g2M-"
      },
      "execution_count": 14,
      "outputs": []
    },
    {
      "cell_type": "code",
      "source": [
        "def calc_accuracy (data):\n",
        "  X_test = data[:, 0]\n",
        "  Y_true = data[:, 1]\n",
        "  Y_pred = np.empty((np.shape(Y_true)))\n",
        "  Y_probs = np.empty((np.shape(Y_true)))\n",
        "  for i in range(len(data)):\n",
        "    Y_pred[i], Y_probs[i] = predict(X_test[i])\n",
        "  Y_pred = np.array(Y_pred).astype(int)\n",
        "  return np.sum((Y_pred==Y_true).astype(int))/len(Y_true)*100, Y_pred"
      ],
      "metadata": {
        "id": "zPAPNSUKUU3w"
      },
      "execution_count": 15,
      "outputs": []
    },
    {
      "cell_type": "markdown",
      "source": [
        "# **Layer Builders**"
      ],
      "metadata": {
        "id": "qT-mDwpgn30T"
      }
    },
    {
      "cell_type": "code",
      "source": [
        "def convolution(data, weights, bias, stride):\n",
        "    filter_x, filter_y, filter_depth, filter_num = np.shape(weights)\n",
        "    data_x, data_y, data_depth = np.shape(data)\n",
        "    result = np.zeros((data_x, data_y, filter_num))\n",
        "    pad_size_x = filter_x // 2\n",
        "    pad_size_y = filter_y // 2\n",
        "    padded_data = np.pad(data, ((pad_size_x, pad_size_x), (pad_size_y, pad_size_y), (0, 0)), 'constant', constant_values=0)\n",
        "    for n in range(filter_num):\n",
        "        kernel_dy = pad_size_y\n",
        "        result_y = 0\n",
        "        while kernel_dy < data_y:\n",
        "            kernel_dx = pad_size_x\n",
        "            result_x  = 0\n",
        "            while kernel_dx < data_x:\n",
        "                result[result_x, result_y, n] = np.sum(np.multiply(weights[:, :, :, n], padded_data[kernel_dx:kernel_dx+filter_x, kernel_dy:kernel_dy+filter_y, :])) + bias[n]\n",
        "                kernel_dx += stride\n",
        "                result_x += 1\n",
        "            kernel_dy += stride\n",
        "            result_y += 1\n",
        "    return result"
      ],
      "metadata": {
        "id": "CVZ55RXh7WoF"
      },
      "execution_count": 16,
      "outputs": []
    },
    {
      "cell_type": "code",
      "source": [
        "def maxpool(data, pool_f): #pool_f is tuple (2, 1), pool_stride\n",
        "    (data_x, data_y, data_depth) = np.shape(data)\n",
        "    dim_x = math.ceil(data_x / pool_f[0])\n",
        "    dim_y = math.ceil(data_y / pool_f[1])\n",
        "    downsampled = np.zeros((dim_x, dim_y, data_depth))\n",
        "    pad_size_x = pool_f[0] - data_x % pool_f[0]\n",
        "    pad_size_y = pool_f[1] - data_y % pool_f[1]\n",
        "    padded_data = np.pad(data, ((0, pad_size_x), (0, pad_size_y), (0, 0)), 'constant', constant_values=0)\n",
        "    for i in range(data_depth):\n",
        "        kernel_dy = 0\n",
        "        result_y = 0\n",
        "        while kernel_dy + pool_f[1] < np.shape(padded_data)[1]:\n",
        "            kernel_dx   = 0\n",
        "            result_x = 0\n",
        "            while kernel_dx + pool_f[0] < np.shape(padded_data)[0]:\n",
        "                downsampled[result_x, result_y, i] = np.max(padded_data[kernel_dx:kernel_dx+pool_f[0], kernel_dy:kernel_dy+pool_f[1], i])\n",
        "                kernel_dx += pool_f[0]\n",
        "                result_x += 1\n",
        "            kernel_dy += pool_f[1]\n",
        "            result_y += 1\n",
        "    return downsampled"
      ],
      "metadata": {
        "id": "VNIZi6Xm7Wq6"
      },
      "execution_count": 17,
      "outputs": []
    },
    {
      "cell_type": "code",
      "source": [
        "def convolutionBackward(dconv_prev, conv_in, filt, s):\n",
        "   \n",
        "    (f_dim_x, f_dim_y, f_depth, num_f) = filt.shape\n",
        "    (orig_dim_x,orig_dim_y , _) = conv_in.shape\n",
        "   \n",
        "    dout = np.zeros(conv_in.shape) \n",
        "    dfilt = np.zeros(filt.shape)\n",
        "    dbias = np.zeros((num_f,1))\n",
        "\n",
        "    for curr_f in range(num_f):\n",
        "      \n",
        "        curr_y = out_y = 0\n",
        "        while curr_y + f_dim_y <= orig_dim_y:\n",
        "            curr_x = out_x = 0\n",
        "            while curr_x + f_dim_x <= orig_dim_x:\n",
        "                dfilt[: , : , : ,curr_f] += dconv_prev[out_x, out_y,curr_f] * conv_in[curr_x:curr_x + f_dim_x, curr_y:curr_y + f_dim_y,:]  ###########################         \n",
        "                dout[curr_x:curr_x + f_dim_x, curr_y:curr_y + f_dim_y,:] += dconv_prev[out_x, out_y,curr_f] * filt[: , : , : ,curr_f] \n",
        "                curr_x += s\n",
        "                out_x += 1\n",
        "            curr_y += s\n",
        "            out_y += 1\n",
        "       \n",
        "        dbias[curr_f] = np.sum(dconv_prev[: , : ,curr_f])\n",
        "    \n",
        "    return dout, dfilt, dbias"
      ],
      "metadata": {
        "id": "i2rSSY-i7277"
      },
      "execution_count": 18,
      "outputs": []
    },
    {
      "cell_type": "code",
      "source": [
        "def maxpoolBackward(dpool, orig, pool_f):\n",
        "   \n",
        "    (orig_dim_x, orig_dim_y, orig_depth) = orig.shape\n",
        "    \n",
        "    dout = np.zeros(orig.shape)\n",
        "    \n",
        "    for curr_c in range(orig_depth):\n",
        "        curr_y = out_y = 0\n",
        "        while curr_y + pool_f[1] <= orig_dim_y:\n",
        "            curr_x = out_x = 0\n",
        "            while curr_x + pool_f[0] <= orig_dim_x:\n",
        "                \n",
        "                (a, b) = nanargmax(orig[curr_x:curr_x+ pool_f[0] , curr_y:curr_y + pool_f[1], curr_c])\n",
        "                dout[ curr_x+a, curr_y+b, curr_c] = dpool[out_x, out_y, curr_c]\n",
        "                \n",
        "                curr_x += pool_f[0]\n",
        "                out_x += 1\n",
        "            curr_y += pool_f[1]\n",
        "            out_y += 1\n",
        "        \n",
        "    return dout"
      ],
      "metadata": {
        "id": "HOk9o_2tgvJE"
      },
      "execution_count": 19,
      "outputs": []
    },
    {
      "cell_type": "code",
      "source": [
        "def softmax(raw_preds):\n",
        "    out = np.exp(raw_preds) \n",
        "    return out/np.sum(out) "
      ],
      "metadata": {
        "id": "uJELk7jo7Wte"
      },
      "execution_count": 20,
      "outputs": []
    },
    {
      "cell_type": "markdown",
      "source": [
        "# **Design Network**"
      ],
      "metadata": {
        "id": "fK0Ihzdahqjd"
      }
    },
    {
      "cell_type": "code",
      "source": [
        "# conv, maxpool, fullyconn, flatten, softmax\n",
        "Network = []\n",
        "Network.append(['conv', initializeFilter((3, 1, MAX_DIM, 64)), np.zeros((64,1)), 'Relu'])\n",
        "Network.append(['conv', initializeFilter((3, 1, 64, 64)), np.zeros((64,1)), 'Relu'])\n",
        "Network.append(['maxpool', (2, 1)])\n",
        "\n",
        "#Network.append(['conv', initializeFilter((3, 1, 128, 64)), np.zeros((64,1)), 'Relu'])\n",
        "#Network.append(['conv', initializeFilter((3, 1, 64, 64)), np.zeros((64,1)), 'Relu'])\n",
        "#Network.append(['maxpool', (2, 1)])\n",
        "\n",
        "Network.append(['flatten',])\n",
        "Network.append(['fullyconn', initializeWeight((64, 1600)), np.zeros((64,1)), 'Relu'])\n",
        "Network.append(['fullyconn', initializeWeight((2,64)), np.zeros((2,1)), 'Softmax'])"
      ],
      "metadata": {
        "id": "S_56sqfyhqHB"
      },
      "execution_count": 46,
      "outputs": []
    },
    {
      "cell_type": "code",
      "source": [
        "data_dim_x = MAX_LENGTH\n",
        "data_dim_y = 1\n",
        "data_depth = MAX_DIM\n",
        "f_dim1 = 3\n",
        "f_dim2 = 1\n",
        "num_filt1 = 64\n",
        "num_filt2 = 64\n",
        "num_neurons = 128\n",
        "flatten_size = 1600"
      ],
      "metadata": {
        "id": "R-XggJmdYebG"
      },
      "execution_count": 22,
      "outputs": []
    },
    {
      "cell_type": "markdown",
      "source": [
        "# **Implement Network**"
      ],
      "metadata": {
        "id": "c7eV_mFsoA-o"
      }
    },
    {
      "cell_type": "code",
      "source": [
        "def CNN_forward (data):\n",
        "    results = [None]*(len(Network)+1)\n",
        "    results[0] = data\n",
        "    for i, layer in enumerate(Network):\n",
        "      if (layer[0] == 'conv'):\n",
        "        results[i+1] = convolution(results[i], layer[1], layer[2], 1)\n",
        "        results[i+1] = function_builder(layer[3])(results[i+1])\n",
        "      elif (layer[0] == 'maxpool'):\n",
        "        results[i+1] = maxpool(results[i], layer[1])\n",
        "      elif (layer[0] == 'flatten'):\n",
        "        dim1, dim2, dim3 = np.shape(results[i])\n",
        "        results[i+1] = results[i].reshape((dim1*dim2*dim3, 1))\n",
        "      elif (layer[0] == 'fullyconn'):\n",
        "        results[i+1] = layer[1].dot(results[i]) + layer[2]\n",
        "        if layer[3] == 'Softmax':\n",
        "          results[i+1] = softmax(results[i+1])\n",
        "          break\n",
        "        results[i+1] = function_builder(layer[3])(results[i+1])\n",
        "    return results"
      ],
      "metadata": {
        "id": "o5-cJsZUvOQT"
      },
      "execution_count": 23,
      "outputs": []
    },
    {
      "cell_type": "code",
      "source": [
        "def CNN_backward (results, label):\n",
        "    dNetwork = [[None, None]]*len(Network)\n",
        "    dresults = [None]*(len(Network)+1)\n",
        "    dresults[-1] = results[-1] - label\n",
        "    for i, layer in reversed(list(enumerate(Network))):\n",
        "      if (layer[0] == 'conv'):\n",
        "        dresults[i], df, db = convolutionBackward(dresults[i+1], results[i], layer[1], 1)\n",
        "        dNetwork[i] = [df, db]\n",
        "        if i != 0 and Network[i-1][0] == 'conv':\n",
        "          dresults[i][results[i]<=0] = 0\n",
        "      elif (layer[0] == 'maxpool'):\n",
        "        dresults[i] = maxpoolBackward(dresults[i+1], results[i], layer[1])\n",
        "        dresults[i][results[i]<=0] = 0\n",
        "      elif (layer[0] == 'flatten'):\n",
        "        dresults[i] = dresults[i+1].reshape(np.shape(results[i]))\n",
        "      elif (layer[0] == 'fullyconn'):\n",
        "        dw = dresults[i+1].dot(results[i].T)\n",
        "        db = np.sum(dresults[i+1], axis=1).reshape(layer[2].shape)\n",
        "        dNetwork[i] = [dw, db]\n",
        "        dresults[i] = layer[1].T.dot(dresults[i+1])\n",
        "        if Network[i-1][0] == 'flatten':\n",
        "          continue\n",
        "        dresults[i][results[i]<=0] = 0\n",
        "    return dNetwork #, dresults[0]"
      ],
      "metadata": {
        "id": "xiERxckZvn_W"
      },
      "execution_count": 24,
      "outputs": []
    },
    {
      "cell_type": "code",
      "source": [
        "def CNN (data, label):\n",
        "    \n",
        "    results = CNN_forward (data)\n",
        "    dNetwork = CNN_backward(results, label)\n",
        "\n",
        "    loss = categoricalCrossEntropy(results[-1], label)\n",
        "    grads = dNetwork\n",
        "\n",
        "    return grads, loss"
      ],
      "metadata": {
        "id": "-0pmlEwN7642"
      },
      "execution_count": 25,
      "outputs": []
    },
    {
      "cell_type": "markdown",
      "source": [
        "# **Solver**"
      ],
      "metadata": {
        "id": "4Z6UEFOUnYIa"
      }
    },
    {
      "cell_type": "code",
      "source": [
        "def momentumGD(dNetwork, lr, params):\n",
        "    [m, v, mb, vb] = params\n",
        "    for i, layer in enumerate(Network):\n",
        "\n",
        "      if layer[0] == 'maxpool' or layer[0] == 'flatten':\n",
        "        continue\n",
        "      v[i] = GAMMA*v[i] + lr*(dNetwork[i][0]/BATCH_SIZE)\n",
        "      layer[1] -= v[i]\n",
        "\n",
        "      vb[i] = GAMMA*vb[i] + lr*(dNetwork[i][1]/BATCH_SIZE)\n",
        "      layer[2] -= vb[i]\n",
        "\n",
        "    return [m, v, mb, vb]"
      ],
      "metadata": {
        "id": "GCvBhbjL7cF6"
      },
      "execution_count": 26,
      "outputs": []
    },
    {
      "cell_type": "code",
      "source": [
        "def adamGD (dNetwork, lr, params):\n",
        "    [m, v, mb, vb] = params\n",
        "    for i, layer in enumerate(Network):\n",
        "\n",
        "      if layer[0] == 'maxpool' or layer[0] == 'flatten':\n",
        "        continue\n",
        "      m[i] = BETA1*m[i] + (1-BETA1)*dNetwork[i][0]/BATCH_SIZE \n",
        "      v[i] = BETA2*v[i] + (1-BETA2)*(dNetwork[i][0]/BATCH_SIZE)**2 \n",
        "      m_hat = m[i]/(1-BETA1)\n",
        "      v_hat = v[i]/(1-BETA2)\n",
        "      layer[1] -= lr * m_hat/(np.sqrt(v_hat)+1e-7)\n",
        "\n",
        "      mb[i] = BETA1*mb[i] + (1-BETA1)*dNetwork[i][1]/BATCH_SIZE\n",
        "      vb[i] = BETA2*vb[i] + (1-BETA2)*(dNetwork[i][1]/BATCH_SIZE)**2\n",
        "      mb_hat = mb[i]/(1-BETA1)\n",
        "      vb_hat = vb[i]/(1-BETA2)\n",
        "      layer[2] -= lr * mb_hat/(np.sqrt(vb_hat)+1e-7)\n",
        "\n",
        "    return [m, v, mb, vb]"
      ],
      "metadata": {
        "id": "N54QISRb8loR"
      },
      "execution_count": 27,
      "outputs": []
    },
    {
      "cell_type": "code",
      "source": [
        "def solver(batch, lr, params, cost, optimizer):\n",
        "    \n",
        "    X = batch[:,0] \n",
        "    Y = batch[:,1] \n",
        "    cost_ = 0\n",
        "    \n",
        "    dNetwork = [[0, 0]]*len(Network)\n",
        "    \n",
        "    for i in range(len(X)):\n",
        "        \n",
        "        x = X[i]\n",
        "        y = np.eye(NUM_OF_CLASSES)[int(Y[i])].reshape(NUM_OF_CLASSES, 1) \n",
        "\n",
        "        grads, loss = CNN(x, y)\n",
        "        for j, grad in enumerate(grads):\n",
        "          if grad[0] is None:\n",
        "            continue\n",
        "          if i == 0:\n",
        "            dNetwork[j] = [np.zeros(grad[0].shape), np.zeros(grad[1].shape)]\n",
        "          dNetwork[j][0] += grad[0]\n",
        "          dNetwork[j][1] += grad[1]\n",
        "        cost_+= loss/len(X)\n",
        "\n",
        "    if optimizer == 'ADAM':\n",
        "      new_params = adamGD(dNetwork, lr, params)\n",
        "    elif optimizer == 'MOMENTUM':\n",
        "      new_params = momentumGD(dNetwork, lr, params)\n",
        "\n",
        "    #cost_ = cost_/BATCH_SIZE\n",
        "    cost.append(cost_)\n",
        "\n",
        "    return new_params, cost"
      ],
      "metadata": {
        "id": "FdcMUfoq7_nf"
      },
      "execution_count": 37,
      "outputs": []
    },
    {
      "cell_type": "markdown",
      "source": [
        "# **Predictor**"
      ],
      "metadata": {
        "id": "Yr2SzVxAoltS"
      }
    },
    {
      "cell_type": "code",
      "source": [
        "def predict(data):\n",
        "    results = CNN_forward(data)\n",
        "    return np.argmax(results[-1]), np.max(results[-1])"
      ],
      "metadata": {
        "id": "lEpPFXME8QmH"
      },
      "execution_count": 29,
      "outputs": []
    },
    {
      "cell_type": "code",
      "source": [
        "params = initializeParams()\n",
        "\n",
        "train_coded, mean_all, std_all = calc_code_mean_std2(trainData)\n",
        "train_coded = data_normalization2(train_coded,mean_all,std_all)\n",
        "valid_coded, _, _ = calc_code_mean_std2(validData)\n",
        "valid_coded = data_normalization2(valid_coded, mean_all, std_all)\n",
        "\n",
        "cost = []\n",
        "accuracy_train = []\n",
        "accuracy_valid = []\n",
        "\n",
        "print(\"LR:\"+str(LR)+\", Batch Size:\"+str(BATCH_SIZE))\n",
        "for epoch in range(NUM_OF_EPOCHS):\n",
        "    np.random.shuffle(trainData)\n",
        "    batches = np.array([trainData[k:k + BATCH_SIZE] for k in range(0, trainData.shape[0], BATCH_SIZE)])\n",
        "    t = tqdm(batches)\n",
        "    for x,batch in enumerate(t):\n",
        "        batch, mean_batch, std_batch = calc_code_mean_std2(batch)\n",
        "        batch = data_normalization2(batch, mean_batch, std_batch)\n",
        "\n",
        "        params, cost = solver(batch, LR*(LR_DECAY**x), params, cost, 'ADAM')\n",
        "        t.set_description(\"Cost: %.6f\" % (cost[-1]))    \n",
        "    acc_train,_ = calc_accuracy(train_coded)\n",
        "    accuracy_train.append(acc_train)\n",
        "    acc_valid,_ = calc_accuracy(valid_coded)\n",
        "    print(acc_valid)\n",
        "    accuracy_valid.append(acc_valid)\n",
        "\n",
        "\n",
        "with open(SAVE_PATH_cost, 'wb') as file:\n",
        "    pickle.dump(cost, file)\n",
        "with open(SAVE_PATH_Network, 'wb') as file:\n",
        "    pickle.dump(Network, file)\n",
        "with open(SAVE_PATH_ACC_valid,'wb') as file:\n",
        "    pickle.dump(accuracy_valid,file)\n",
        "with open(SAVE_PATH_ACC_train,'wb') as file:\n",
        "    pickle.dump(accuracy_train,file)"
      ],
      "metadata": {
        "id": "dtWnChcx8IhK",
        "colab": {
          "base_uri": "https://localhost:8080/"
        },
        "outputId": "554fe5f5-bea9-49a5-be03-f5a6ab4973a7"
      },
      "execution_count": 47,
      "outputs": [
        {
          "output_type": "stream",
          "name": "stderr",
          "text": [
            "/usr/local/lib/python3.7/dist-packages/ipykernel_launcher.py:23: VisibleDeprecationWarning: Creating an ndarray from ragged nested sequences (which is a list-or-tuple of lists-or-tuples-or ndarrays with different lengths or shapes) is deprecated. If you meant to do this, you must specify 'dtype=object' when creating the ndarray\n",
            "/usr/local/lib/python3.7/dist-packages/ipykernel_launcher.py:15: VisibleDeprecationWarning: Creating an ndarray from ragged nested sequences (which is a list-or-tuple of lists-or-tuples-or ndarrays with different lengths or shapes) is deprecated. If you meant to do this, you must specify 'dtype=object' when creating the ndarray\n",
            "  from ipykernel import kernelapp as app\n"
          ]
        },
        {
          "output_type": "stream",
          "name": "stdout",
          "text": [
            "LR:0.001, Batch Size:100\n"
          ]
        },
        {
          "output_type": "stream",
          "name": "stderr",
          "text": [
            "Cost: 0.717913: 100%|██████████| 22/22 [10:22<00:00, 28.28s/it]\n"
          ]
        },
        {
          "output_type": "stream",
          "name": "stdout",
          "text": [
            "72.96137339055794\n"
          ]
        },
        {
          "output_type": "stream",
          "name": "stderr",
          "text": [
            "Cost: 0.174768: 100%|██████████| 22/22 [10:20<00:00, 28.23s/it]\n"
          ]
        },
        {
          "output_type": "stream",
          "name": "stdout",
          "text": [
            "75.53648068669528\n"
          ]
        },
        {
          "output_type": "stream",
          "name": "stderr",
          "text": [
            "Cost: 0.071974: 100%|██████████| 22/22 [10:19<00:00, 28.17s/it]\n"
          ]
        },
        {
          "output_type": "stream",
          "name": "stdout",
          "text": [
            "77.25321888412017\n"
          ]
        },
        {
          "output_type": "stream",
          "name": "stderr",
          "text": [
            "Cost: 0.722991: 100%|██████████| 22/22 [10:29<00:00, 28.61s/it]\n"
          ]
        },
        {
          "output_type": "stream",
          "name": "stdout",
          "text": [
            "80.68669527896995\n"
          ]
        },
        {
          "output_type": "stream",
          "name": "stderr",
          "text": [
            "Cost: 0.120475: 100%|██████████| 22/22 [10:33<00:00, 28.78s/it]\n"
          ]
        },
        {
          "output_type": "stream",
          "name": "stdout",
          "text": [
            "81.97424892703863\n"
          ]
        },
        {
          "output_type": "stream",
          "name": "stderr",
          "text": [
            "Cost: 0.428749: 100%|██████████| 22/22 [10:26<00:00, 28.49s/it]\n"
          ]
        },
        {
          "output_type": "stream",
          "name": "stdout",
          "text": [
            "83.2618025751073\n"
          ]
        },
        {
          "output_type": "stream",
          "name": "stderr",
          "text": [
            "Cost: 0.526849: 100%|██████████| 22/22 [10:25<00:00, 28.42s/it]\n"
          ]
        },
        {
          "output_type": "stream",
          "name": "stdout",
          "text": [
            "81.54506437768241\n"
          ]
        },
        {
          "output_type": "stream",
          "name": "stderr",
          "text": [
            "Cost: 0.012877: 100%|██████████| 22/22 [10:36<00:00, 28.93s/it]\n"
          ]
        },
        {
          "output_type": "stream",
          "name": "stdout",
          "text": [
            "83.2618025751073\n"
          ]
        }
      ]
    },
    {
      "cell_type": "code",
      "source": [
        "plt.subplot(2, 1, 1)\n",
        "plt.title(\"neuron = 64 \")\n",
        "plt.plot(range(1, len(accuracy_train)+1), accuracy_train, color='blue', label='train')\n",
        "plt.plot(range(1, len(accuracy_valid)+1), accuracy_valid, color='red', label='validation')\n",
        "plt.legend()\n",
        "plt.xlabel(\"EPOCHS\")\n",
        "plt.ylabel(\"ACCURACY (%)\")\n",
        "plt.subplots_adjust(hspace=1)\n",
        "plt.subplot(2, 1, 2)\n",
        "plt.title('Cost')\n",
        "plt.plot(range(1, len(cost)+1), cost, color='yellow', label='cost')\n",
        "plt.legend()\n",
        "plt.xticks(range(0, len(cost)+1, 22), list(range(9)))\n",
        "plt.xlabel(\"EPOCHS\")\n",
        "plt.ylabel(\"COST\")\n",
        "plt.show()"
      ],
      "metadata": {
        "colab": {
          "base_uri": "https://localhost:8080/",
          "height": 295
        },
        "id": "x-5hZUqJ6qf3",
        "outputId": "bff43653-a155-4eb9-ff56-11c08fe32139"
      },
      "execution_count": 50,
      "outputs": [
        {
          "output_type": "display_data",
          "data": {
            "image/png": "[encoded data removed]",
            "text/plain": [
              "<Figure size 432x288 with 2 Axes>"
            ]
          },
          "metadata": {
            "needs_background": "light"
          }
        }
      ]
    },
    {
      "cell_type": "markdown",
      "source": [
        "# **Loading Parameters from Directory**"
      ],
      "metadata": {
        "id": "YaL2q3mR8cE1"
      }
    },
    {
      "cell_type": "code",
      "source": [
        "Network = pickle.load(open(SAVE_PATH_Network, 'rb'))"
      ],
      "metadata": {
        "id": "4Lf24LqI8eca"
      },
      "execution_count": 48,
      "outputs": []
    },
    {
      "cell_type": "markdown",
      "source": [
        "# **Testing**"
      ],
      "metadata": {
        "id": "DgCb1rBkXb1s"
      }
    },
    {
      "cell_type": "code",
      "source": [
        "test_coded, _, _ = calc_code_mean_std2(testData)\n",
        "test_coded = data_normalization2(test_coded, mean_all, std_all)\n",
        "acc,_ = calc_accuracy(test_coded)\n",
        "print(\"Accuracy on test data for 64 neurons is \"  + str(acc) + \" %\")"
      ],
      "metadata": {
        "colab": {
          "base_uri": "https://localhost:8080/"
        },
        "id": "7TpefL0aXjed",
        "outputId": "9cf08376-4f56-449d-f1cc-436915ef2e9a"
      },
      "execution_count": 49,
      "outputs": [
        {
          "output_type": "stream",
          "name": "stderr",
          "text": [
            "/usr/local/lib/python3.7/dist-packages/ipykernel_launcher.py:23: VisibleDeprecationWarning: Creating an ndarray from ragged nested sequences (which is a list-or-tuple of lists-or-tuples-or ndarrays with different lengths or shapes) is deprecated. If you meant to do this, you must specify 'dtype=object' when creating the ndarray\n"
          ]
        },
        {
          "output_type": "stream",
          "name": "stdout",
          "text": [
            "Accuracy on test data for 64 neurons is 85.19417475728154 %\n"
          ]
        }
      ]
    },
    {
      "cell_type": "code",
      "source": [
        ""
      ],
      "metadata": {
        "colab": {
          "base_uri": "https://localhost:8080/"
        },
        "id": "w7tYhaR4WPVs",
        "outputId": "91a5be62-922f-4059-a8f4-46a578a7de39"
      },
      "execution_count": null,
      "outputs": [
        {
          "output_type": "stream",
          "name": "stdout",
          "text": [
            "Accuracy for zero padding is : 81.79611650485437%\n"
          ]
        }
      ]
    }
  ],
  "metadata": {
    "colab": {
      "collapsed_sections": [],
      "name": "finalproject_part2_neuron64.ipynb",
      "provenance": []
    },
    "kernelspec": {
      "display_name": "Python 3",
      "name": "python3"
    },
    "language_info": {
      "name": "python"
    }
  },
  "nbformat": 4,
  "nbformat_minor": 0
}