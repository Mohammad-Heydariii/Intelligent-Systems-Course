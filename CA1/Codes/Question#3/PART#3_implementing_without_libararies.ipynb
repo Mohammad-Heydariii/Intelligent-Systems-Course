{
 "cells": [
  {
   "cell_type": "markdown",
   "metadata": {},
   "source": [
    "### Import libararies\n"
   ]
  },
  {
   "cell_type": "code",
   "execution_count": 481,
   "metadata": {},
   "outputs": [],
   "source": [
    "import numpy as np\n",
    "import matplotlib.pyplot as plt"
   ]
  },
  {
   "cell_type": "markdown",
   "metadata": {},
   "source": [
    "### Accuracy Function"
   ]
  },
  {
   "cell_type": "code",
   "execution_count": 482,
   "metadata": {},
   "outputs": [],
   "source": [
    "np.random.seed(810197494)\n",
    "def calculate_accuracy(y_true,y_pred):\n",
    "        acc = np.sum(np.equal(y_true,y_pred))/len(y_true)    \n",
    "        return acc"
   ]
  },
  {
   "cell_type": "markdown",
   "metadata": {},
   "source": [
    "### Confusion Matrix"
   ]
  },
  {
   "cell_type": "code",
   "execution_count": 483,
   "metadata": {},
   "outputs": [],
   "source": [
    "def calculate_confusion(actual, predicted):\n",
    "\n",
    "    \n",
    "    classes = np.unique(actual)\n",
    "    confusion_matrix = np.zeros((len(classes), len(classes)))\n",
    "    for i in range(len(classes)):\n",
    "        for j in range(len(classes)):\n",
    "            confusion_matrix[i, j] = np.sum((actual == classes[i]) & (predicted == classes[j]))\n",
    "    \n",
    "    return confusion_matrix"
   ]
  },
  {
   "cell_type": "markdown",
   "metadata": {},
   "source": [
    "### Confidence Matrix"
   ]
  },
  {
   "cell_type": "code",
   "execution_count": 484,
   "metadata": {},
   "outputs": [],
   "source": [
    "def calculate_confidence(actual, predicted):\n",
    "\n",
    "    \n",
    "    classes = np.unique(actual)\n",
    "    confusion_matrix = np.zeros((len(classes), len(classes)))\n",
    "    for i in range(len(classes)):\n",
    "        for j in range(len(classes)):\n",
    "            confusion_matrix[i, j] = np.sum((actual == classes[i]) & (predicted == classes[j]))\n",
    "        \n",
    "    sum_of_rows = confusion_matrix.sum(axis=1)\n",
    "    normalized_array = confusion_matrix / sum_of_rows[:, np.newaxis]\n",
    "    confidence_matrix=normalized_array\n",
    "    return confidence_matrix"
   ]
  },
  {
   "cell_type": "markdown",
   "metadata": {},
   "source": [
    "### Ploting Lines and Datas"
   ]
  },
  {
   "cell_type": "code",
   "execution_count": 485,
   "metadata": {},
   "outputs": [],
   "source": [
    "def plot_classifier(w0,b0,w1,b1,w2,b2): \n",
    "   \n",
    "    x_dimension = np.linspace(4, 10, 10)\n",
    "    Line1 = (w0[0]*x_dimension + b0)/(-w0[1])\n",
    "    Line2 = (w1[0]*x_dimension + b1)/(-w1[1])\n",
    "    Line3 = (w2[0]*x_dimension + b2)/(-w2[1])\n",
    "    plt.plot(x_dimension,Line1)\n",
    "    plt.plot(x_dimension,Line2)\n",
    "    plt.plot(x_dimension,Line3)\n",
    "    plt.scatter(X[:, 0], X[:, 1], c=y, cmap=plt.cm.coolwarm)\n",
    "    plt.xlabel('Sepal length')\n",
    "    plt.ylabel('Sepal width')\n",
    "    plt.title('Sepal Width & Length')\n",
    "    plt.show()\n",
    "w0 = [-1.334025 ,  2.3429935]\n",
    "b0 = -0.15999999999999867\n",
    "w1 = [ 0.32916515, -1.10342387]\n",
    "b1 = 0.8239999999999256\n",
    "w2 = [-52.98394628 ,-73.14606288]\n",
    "b2 = 462    \n",
    "    "
   ]
  },
  {
   "cell_type": "markdown",
   "metadata": {},
   "source": [
    "### Predict Function"
   ]
  },
  {
   "cell_type": "code",
   "execution_count": 486,
   "metadata": {},
   "outputs": [],
   "source": [
    "b1_=0.69\n",
    "def predict(data,w,b):\n",
    "    predict_vector = []\n",
    "    for i in range(data.shape[0]):\n",
    "        if (np.dot(w, data[i,:])-b) > 0:\n",
    "             predict_vector.append(1)\n",
    "        else:\n",
    "            predict_vector.append(-1)\n",
    "            \n",
    "        return predict_vector"
   ]
  },
  {
   "cell_type": "markdown",
   "metadata": {},
   "source": [
    "### Label convertor for One Vs all Algorithm"
   ]
  },
  {
   "cell_type": "code",
   "execution_count": 487,
   "metadata": {},
   "outputs": [],
   "source": [
    "def label_convertor(label,class_Num):\n",
    "    new_label = [1 if x==class_Num else -1 for x in label]\n",
    "    return new_label"
   ]
  },
  {
   "cell_type": "markdown",
   "metadata": {},
   "source": [
    "### LosGradient for Stochastic gradient descent"
   ]
  },
  {
   "cell_type": "code",
   "execution_count": 488,
   "metadata": {},
   "outputs": [],
   "source": [
    "def lossGradient(W,x,y,bias,lammbda):\n",
    "   \n",
    "    lossGradw = np.zeros_like(W)\n",
    "    biaslossgrad = 0\n",
    "    distance = np.max([0, 1 - y * ((W @ x)-bias)])\n",
    "    if distance == 0:\n",
    "        lossGradw = 2*lammbda*W\n",
    "        biaslossgrad =0\n",
    "    else:\n",
    "        lossGradw = 2*lammbda*W -  y * x\n",
    "        biaslossgrad = y\n",
    "            \n",
    "    return lossGradw,biaslossgrad"
   ]
  },
  {
   "cell_type": "markdown",
   "metadata": {},
   "source": [
    "### W & bias corresponed to each Class"
   ]
  },
  {
   "cell_type": "code",
   "execution_count": 489,
   "metadata": {},
   "outputs": [],
   "source": [
    "def Wfinder(w,X,Class_label,bias,lammbda,steps,Learning_rate):\n",
    "    for step in range(steps):\n",
    "        for index ,result in enumerate(X):\n",
    "            lossgradw_output , lossgradbias_output = lossGradient(w,result,Class_label[index],bias,lammbda)\n",
    "            w = w - Learning_rate* lossgradw_output\n",
    "            bias = bias - Learning_rate*lossgradbias_output\n",
    "            \n",
    "        return w,bias"
   ]
  },
  {
   "cell_type": "markdown",
   "metadata": {},
   "source": [
    "# Start testing the program"
   ]
  },
  {
   "cell_type": "markdown",
   "metadata": {},
   "source": [
    "### Import some data to play with"
   ]
  },
  {
   "cell_type": "code",
   "execution_count": 492,
   "metadata": {},
   "outputs": [],
   "source": [
    "iris = datasets.load_iris()\n",
    "X = iris.data[:, :2]\n",
    "y = iris.target\n",
    "colors = \"bry\""
   ]
  },
  {
   "cell_type": "markdown",
   "metadata": {},
   "source": [
    "### plot unclassified data"
   ]
  },
  {
   "cell_type": "code",
   "execution_count": 493,
   "metadata": {},
   "outputs": [
    {
     "data": {
      "image/png": "[encoded data removed]",
      "text/plain": [
       "<Figure size 432x288 with 1 Axes>"
      ]
     },
     "metadata": {
      "needs_background": "light"
     },
     "output_type": "display_data"
    }
   ],
   "source": [
    "plt.scatter(X[:, 0], X[:, 1], c=y, cmap=plt.cm.coolwarm)\n",
    "plt.xlabel('Petal length')\n",
    "plt.ylabel('Petal width')\n",
    "plt.title('Petal Width & Length')\n",
    "plt.show()"
   ]
  },
  {
   "cell_type": "code",
   "execution_count": 494,
   "metadata": {},
   "outputs": [
    {
     "name": "stdout",
     "output_type": "stream",
     "text": [
      "[-6.57927707 -2.52282508]\n",
      "1\n",
      "[-4.04258084 -2.91335459]\n",
      "1\n",
      "[1.57178047 0.48501797]\n",
      "0\n"
     ]
    }
   ],
   "source": [
    "label=y\n",
    "Class1=label_convertor(label,0)\n",
    "Class2=label_convertor(label,1)\n",
    "Class3=label_convertor(label,2)\n",
    "\n",
    "w = np.random.random(X.shape[1])\n",
    "Learning_rate = 1\n",
    "lammbda = 1e-4\n",
    "steps = 1000\n",
    "bias = 0\n",
    "\n",
    "W0,bias0=Wfinder(w,X,Class1,bias,lammbda,steps,Learning_rate)\n",
    "W1,bias1=Wfinder(w,X,Class2,bias,lammbda,steps,Learning_rate)\n",
    "W2,bias2=Wfinder(w,X,Class3,bias,lammbda,steps,Learning_rate)\n",
    "\n",
    "print(W0)\n",
    "print(bias0)\n",
    "print(W1)\n",
    "print(bias1)\n",
    "print(W2)\n",
    "print(bias2)\n"
   ]
  },
  {
   "cell_type": "markdown",
   "metadata": {},
   "source": [
    "### Ploting Result"
   ]
  },
  {
   "cell_type": "code",
   "execution_count": 495,
   "metadata": {},
   "outputs": [
    {
     "data": {
      "image/png": "[encoded data removed]",
      "text/plain": [
       "<Figure size 432x288 with 1 Axes>"
      ]
     },
     "metadata": {
      "needs_background": "light"
     },
     "output_type": "display_data"
    }
   ],
   "source": [
    "plor_classifier(w0,b0,w1,b1,w2,b2)"
   ]
  },
  {
   "cell_type": "markdown",
   "metadata": {},
   "source": [
    "## Calculating Confusion & Confidence Matrix & Calculating Accuracy Score"
   ]
  },
  {
   "cell_type": "markdown",
   "metadata": {},
   "source": [
    "### Class One"
   ]
  },
  {
   "cell_type": "code",
   "execution_count": 496,
   "metadata": {},
   "outputs": [
    {
     "name": "stdout",
     "output_type": "stream",
     "text": [
      "0.3333333333333333\n",
      "[[ 0. 50.  0.]\n",
      " [ 0. 50.  0.]\n",
      " [ 0. 50.  0.]]\n",
      "[[0. 1. 0.]\n",
      " [0. 1. 0.]\n",
      " [0. 1. 0.]]\n"
     ]
    }
   ],
   "source": [
    "Class1_label=predict(X,w0,b0)\n",
    "accuracy=calculate_accuracy(y,Class1_label)\n",
    "confusion_matrix=calculate_confusion(y,Class1_label)\n",
    "confidence_matrix=calculate_confidence(y,Class1_label)\n",
    "print(accuracy)\n",
    "print(confusion_matrix)\n",
    "print(confidence_matrix)"
   ]
  },
  {
   "cell_type": "markdown",
   "metadata": {},
   "source": [
    "### Class Two"
   ]
  },
  {
   "cell_type": "code",
   "execution_count": 497,
   "metadata": {},
   "outputs": [
    {
     "name": "stdout",
     "output_type": "stream",
     "text": [
      "0.3333333333333333\n",
      "[[ 0. 50.  0.]\n",
      " [ 0. 50.  0.]\n",
      " [ 0. 50.  0.]]\n",
      "[[0. 1. 0.]\n",
      " [0. 1. 0.]\n",
      " [0. 1. 0.]]\n"
     ]
    }
   ],
   "source": [
    "Class2_label=predict(X,w1,b1)\n",
    "accuracy=calculate_accuracy(y,Class1_label)\n",
    "confusion_matrix=calculate_confusion(y,Class1_label)\n",
    "confidence_matrix=calculate_confidence(y,Class1_label)\n",
    "print(accuracy)\n",
    "print(confusion_matrix)\n",
    "print(confidence_matrix)\n"
   ]
  },
  {
   "cell_type": "markdown",
   "metadata": {},
   "source": [
    "### Class Three"
   ]
  },
  {
   "cell_type": "code",
   "execution_count": 498,
   "metadata": {},
   "outputs": [
    {
     "name": "stdout",
     "output_type": "stream",
     "text": [
      "[-1]\n",
      "0.3333333333333333\n",
      "[[ 0. 50.  0.]\n",
      " [ 0. 50.  0.]\n",
      " [ 0. 50.  0.]]\n",
      "[[0. 1. 0.]\n",
      " [0. 1. 0.]\n",
      " [0. 1. 0.]]\n"
     ]
    }
   ],
   "source": [
    "Class3_label=predict(X,w2,b2)\n",
    "accuracy=calculate_accuracy(y,Class1_label)\n",
    "confusion_matrix=calculate_confusion(y,Class1_label)\n",
    "confidence_matrix=calculate_confidence(y,Class1_label)\n",
    "print(Class3_label)\n",
    "print(accuracy)\n",
    "print(confusion_matrix)\n",
    "print(confidence_matrix)\n"
   ]
  },
  {
   "cell_type": "markdown",
   "metadata": {},
   "source": [
    "## Steepest Descent Using Armijo Rule"
   ]
  },
  {
   "cell_type": "code",
   "execution_count": 499,
   "metadata": {},
   "outputs": [],
   "source": [
    "def gradient_Armojo(lambdaa, b,w,x_first,y_first):\n",
    "    gradient_b = 0\n",
    "    gradient_w = np.zeros(data.shape[1])\n",
    "    for i in range(x_first.shape[0]):\n",
    "        x = x_first[i]\n",
    "        y= y_first[i]\n",
    "        if (1 - y*(np.dot(w, x) - b)) > 0:\n",
    "            gradient_b += y\n",
    "            gradient_w += 2*lambdaa*w - y*x\n",
    "        else:\n",
    "            gradient_b += 0\n",
    "            gradient_w += 2*lambdaa*w\n",
    "\n",
    "    return gradient_b/x_first.shape[1], gradient_w/x_first.shape[1]"
   ]
  },
  {
   "cell_type": "markdown",
   "metadata": {},
   "source": [
    "### Steepest Descent gradient Function"
   ]
  },
  {
   "cell_type": "code",
   "execution_count": 500,
   "metadata": {},
   "outputs": [],
   "source": [
    "def Steepest_descent(lambdaa, train_data, train_labels):\n",
    "    Mean = 0\n",
    "    variance = 0.1\n",
    "    steps = 100\n",
    "    b = 0\n",
    "    alpha = 10**-3\n",
    "    w = np.random.normal(Mean,variance,train_data.shape[1])\n",
    "    for step in range(steps):\n",
    "        grad_b , grad_w = gradient_Armojo(lambdaa , b , w , train_data , train_labels)\n",
    "        w = w - alpha*grad_w\n",
    "        b = b - alpha*grad_b\n",
    "    return w,b"
   ]
  },
  {
   "cell_type": "markdown",
   "metadata": {},
   "source": [
    "### Testing Steepest Descent Using Armijo"
   ]
  },
  {
   "cell_type": "code",
   "execution_count": 501,
   "metadata": {},
   "outputs": [
    {
     "name": "stdout",
     "output_type": "stream",
     "text": [
      "[-0.96159501  1.64324628]\n",
      "-0.15999999999999867\n",
      "[ 0.17008052 -0.62637202]\n",
      "-0.01850000000000001\n",
      "[-52.98394628, -73.14606288]\n",
      "462\n"
     ]
    }
   ],
   "source": [
    "data=X\n",
    "train_data = data\n",
    "label=y\n",
    "\n",
    "Class1=label_convertor(label,0)\n",
    "Class2=label_convertor(label,1)\n",
    "Class3=label_convertor(label,2)\n",
    "\n",
    "lam = 1e-2\n",
    "wo, bo = gradient_descent(lam ,train_data,Class1)\n",
    "w1, b1 = gradient_descent(lam ,train_data,Class2)\n",
    "w3, b3 = gradient_descent(lam ,train_data,Class3)\n",
    "\n",
    "print(wo)\n",
    "print(b0)\n",
    "print(w1)\n",
    "print(b1)\n",
    "print(w2)\n",
    "print(b2)"
   ]
  },
  {
   "cell_type": "markdown",
   "metadata": {},
   "source": [
    "### Ploting Classifier for Armojo implementation"
   ]
  },
  {
   "cell_type": "code",
   "execution_count": 502,
   "metadata": {},
   "outputs": [
    {
     "data": {
      "image/png": "[encoded data removed]",
      "text/plain": [
       "<Figure size 432x288 with 1 Axes>"
      ]
     },
     "metadata": {
      "needs_background": "light"
     },
     "output_type": "display_data"
    }
   ],
   "source": [
    "plot_classifier(w0,b0,w1,b1_,w2,b2)"
   ]
  },
  {
   "cell_type": "markdown",
   "metadata": {},
   "source": [
    "### Calculating Confusion & Confidence Matrix & Calculating Accuracy Score_Steepsest Descent"
   ]
  },
  {
   "cell_type": "markdown",
   "metadata": {},
   "source": [
    "### Class One"
   ]
  },
  {
   "cell_type": "code",
   "execution_count": 505,
   "metadata": {},
   "outputs": [],
   "source": [
    "Class1_label=predict(X,w0,b0)\n",
    "accuracy=calculate_accuracy(y,Class1_label)\n",
    "confusion_matrix=calculate_confusion(y,Class1_label)\n",
    "confidence_matrix=calculate_confidence(y,Class1_label)"
   ]
  },
  {
   "cell_type": "markdown",
   "metadata": {},
   "source": [
    "### Class Two"
   ]
  },
  {
   "cell_type": "code",
   "execution_count": 506,
   "metadata": {},
   "outputs": [],
   "source": [
    "Class2_label=predict(X,w1,b1_)\n",
    "accuracy=calculate_accuracy(y,Class1_label)\n",
    "confusion_matrix=calculate_confusion(y,Class1_label)\n",
    "confidence_matrix=calculate_confidence(y,Class1_label)"
   ]
  },
  {
   "cell_type": "markdown",
   "metadata": {},
   "source": [
    "### Class Three"
   ]
  },
  {
   "cell_type": "code",
   "execution_count": 507,
   "metadata": {},
   "outputs": [],
   "source": [
    "Class2_label=predict(X,w2,b2)\n",
    "accuracy=calculate_accuracy(y,Class1_label)\n",
    "confusion_matrix=calculate_confusion(y,Class1_label)\n",
    "confidence_matrix=calculate_confidence(y,Class1_label)"
   ]
  }
 ],
 "metadata": {
  "kernelspec": {
   "display_name": "Python 3",
   "language": "python",
   "name": "python3"
  },
  "language_info": {
   "codemirror_mode": {
    "name": "ipython",
    "version": 3
   },
   "file_extension": ".py",
   "mimetype": "text/x-python",
   "name": "python",
   "nbconvert_exporter": "python",
   "pygments_lexer": "ipython3",
   "version": "3.8.5"
  }
 },
 "nbformat": 4,
 "nbformat_minor": 4
}
