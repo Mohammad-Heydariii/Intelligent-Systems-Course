{
 "cells": [
  {
   "cell_type": "code",
   "execution_count": 1,
   "metadata": {},
   "outputs": [],
   "source": [
    "import numpy as np\n",
    "import pandas as pd\n",
    "import matplotlib.pyplot as plt\n",
    "import random\n",
    "np.random.seed(1000)\n",
    "n=10000\n",
    "y=np.zeros(n)\n",
    "\n",
    "x1=np.random.uniform(0,2*(np.pi),n)\n",
    "x2=np.random.uniform(0,2*(np.pi),n)\n",
    "\n",
    "\n",
    "for i in range(n):\n",
    "    y[i] = np.sin(x1[i]+x2[i])\n",
    "    \n",
    "x1_mean = sum(x1)/len(x1)\n",
    "x2_mean = sum(x2)/len(x2)\n",
    "x1_variance = np.std(x1)\n",
    "x2_variance = np.std(x2)\n",
    "\n",
    "x1_normalize = (x1-x1_mean)/x1_variance\n",
    "x2_normalize = (x2-x2_mean)/x2_variance\n",
    "\n",
    "data = np.array([x1_normalize,x2_normalize,y])\n",
    "train_data = data[:,:int(0.6*n)]\n",
    "validation_data = data[:,int(0.6*n):int(0.8*n)]\n",
    "test_data = data[:,int(0.8*n):n]"
   ]
  },
  {
   "cell_type": "code",
   "execution_count": 2,
   "metadata": {},
   "outputs": [],
   "source": [
    "def ReLU(x):\n",
    "    data=np.zeros(np.size(x))\n",
    "    for i in range(np.size(x)):\n",
    "        data[i]=max(0,x[i])\n",
    "   \n",
    "    return data\n",
    "\n",
    "def der_ReLU(x):\n",
    "    data=np.zeros(np.size(x))\n",
    "    for i in range(np.size(x)):\n",
    "        data[i] = 1 if x[i]>0 else 0 \n",
    "   \n",
    "    return data\n",
    "\n",
    "def Sine_train(train_data):\n",
    "    \n",
    "    epoch=30\n",
    "    hidden_layer=150\n",
    "    input_neurons=2\n",
    "    output_neurons=1\n",
    "    learning_rate=0.08\n",
    "\n",
    "    \n",
    "    weights_in=  0.001 * np.random.randn(input_neurons,hidden_layer)\n",
    "    bias_in=np.zeros(hidden_layer)\n",
    "\n",
    "    weights_out= 0.001 * np.random.randn(hidden_layer)\n",
    "    for i in range(epoch):\n",
    "        for j in range(np.size(train_data[0,:])):\n",
    "            \n",
    "            x1_train=train_data[0,j]\n",
    "            x2_train=train_data[1,j]\n",
    "            y_train= train_data[2,j]\n",
    "            #forward propogation\n",
    "    \n",
    "            hidden_layer_input= weights_in[0]*x1_train+weights_in[1]*x2_train+bias_in\n",
    "    \n",
    "            hidden_layer_output=ReLU(hidden_layer_input)\n",
    "\n",
    "            predicted_output=np.dot(hidden_layer_output,weights_out)\n",
    "        \n",
    "            # #backward propogation \n",
    "    \n",
    "            Error=(predicted_output-y_train)  \n",
    "\n",
    "   \n",
    "            delta_w2=hidden_layer_output*Error\n",
    "            delta_w1_1=weights_out*Error * der_ReLU(hidden_layer_input)*x1_train\n",
    "            delta_w1_2=weights_out*Error * der_ReLU(hidden_layer_input)*x2_train\n",
    "\n",
    "            delta_b1=weights_out*Error * der_ReLU(hidden_layer_input)\n",
    "\n",
    "            delta_w1=np.zeros((2,hidden_layer))\n",
    "            delta_w1[0]=delta_w1_1\n",
    "            delta_w1[1]=delta_w1_2\n",
    "\n",
    "            weights_out-=delta_w2*learning_rate\n",
    "            weights_in-=delta_w1*learning_rate\n",
    "            bias_in-=delta_b1*learning_rate\n",
    "    \n",
    "\n",
    "    return weights_out,weights_in,bias_in\n"
   ]
  },
  {
   "cell_type": "code",
   "execution_count": 3,
   "metadata": {},
   "outputs": [],
   "source": [
    "weights_out,weights_in,bias_in=Sine_train(train_data)"
   ]
  },
  {
   "cell_type": "code",
   "execution_count": 8,
   "metadata": {},
   "outputs": [
    {
     "data": {
      "text/plain": [
       "array([ 0.01207362,  0.01088042,  0.00328276, ..., -0.00167516,\n",
       "       -0.00545   , -0.01071805])"
      ]
     },
     "execution_count": 8,
     "metadata": {},
     "output_type": "execute_result"
    }
   ],
   "source": [
    "data_plot = np.array([x2[int(0.8*np.size(x1)):np.size(x1)],x2_normalize[int(0.8*np.size(x2)):np.size(x2)]])\n",
    "data_plot_sort = data_plot[:, data_plot[0].argsort()]\n",
    "\n",
    "test_data=np.array([data_plot_sort[1,:],np.zeros(2000)])\n",
    "\n",
    "x1_test=test_data[0,:]\n",
    "x2_test=test_data[1,:]\n",
    "p=np.size(x1_test)\n",
    "sin_value_vector=np.zeros(p)\n",
    "f_test=np.zeros(p)\n",
    "for i in range(p):\n",
    "    \n",
    "    x1_test=test_data[0,i]\n",
    "    x2_test=test_data[1,i]\n",
    "    \n",
    "    hidden_layer_input= weights_in[0]*x1_test+weights_in[1]*x2_test+bias_in\n",
    "    \n",
    "    hidden_layer_output=ReLU(hidden_layer_input)\n",
    "\n",
    "    sin_value_vector[i]=np.dot(hidden_layer_output,weights_out)\n",
    "    f_test[i] = np.sin(data_plot_sort[0,i])\n",
    "    \n",
    "sin_value_vector\n",
    "\n"
   ]
  },
  {
   "cell_type": "code",
   "execution_count": 10,
   "metadata": {},
   "outputs": [
    {
     "data": {
      "image/png": "[encoded data removed]",
      "text/plain": [
       "<Figure size 432x288 with 1 Axes>"
      ]
     },
     "metadata": {
      "needs_background": "light"
     },
     "output_type": "display_data"
    }
   ],
   "source": [
    "plt.plot(data_plot_sort[0,:],f_test)\n",
    "plt.plot(data_plot_sort[0,:],-sin_value_vector)\n",
    "plt.legend([\"sin(x)\", \"Model Prediction\"])\n",
    "plt.show()"
   ]
  }
 ],
 "metadata": {
  "kernelspec": {
   "display_name": "Python 3",
   "language": "python",
   "name": "python3"
  },
  "language_info": {
   "codemirror_mode": {
    "name": "ipython",
    "version": 3
   },
   "file_extension": ".py",
   "mimetype": "text/x-python",
   "name": "python",
   "nbconvert_exporter": "python",
   "pygments_lexer": "ipython3",
   "version": "3.8.5"
  }
 },
 "nbformat": 4,
 "nbformat_minor": 4
}
