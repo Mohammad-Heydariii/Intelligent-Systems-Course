{
 "cells": [
  {
   "cell_type": "markdown",
   "metadata": {},
   "source": [
    "## Simulation questions"
   ]
  },
  {
   "cell_type": "markdown",
   "metadata": {},
   "source": [
    "### Birthday Problem"
   ]
  },
  {
   "cell_type": "code",
   "execution_count": 1,
   "metadata": {},
   "outputs": [],
   "source": [
    "import random\n",
    "import numpy as np\n",
    "import matplotlib.pyplot as plt"
   ]
  },
  {
   "cell_type": "code",
   "execution_count": 2,
   "metadata": {},
   "outputs": [],
   "source": [
    "def Birthday_problem(n):\n",
    "    flag_same_birthday=1\n",
    "    flag_unsame_birthday=0\n",
    "    prob_data=[]\n",
    "    experiment_number=10000\n",
    "    for i in range(experiment_number):\n",
    "        random_people_birthday = []\n",
    "        for j in range(n):\n",
    "            rnd_data = random.randint(0, 365)\n",
    "            random_people_birthday.append(rnd_data)\n",
    "\n",
    "        if len(random_people_birthday) == len(set(random_people_birthday)):\n",
    "            prob_data.append(flag_unsame_birthday)\n",
    "        else:\n",
    "            prob_data.append(flag_same_birthday)\n",
    "        \n",
    "    probability=np.sum(prob_data)/(np.size(prob_data))\n",
    "    \n",
    "    return probability "
   ]
  },
  {
   "cell_type": "markdown",
   "metadata": {},
   "source": [
    "### Plotting Results"
   ]
  },
  {
   "cell_type": "code",
   "execution_count": 3,
   "metadata": {},
   "outputs": [
    {
     "data": {
      "image/png": "[encoded data removed]",
      "text/plain": [
       "<Figure size 432x288 with 1 Axes>"
      ]
     },
     "metadata": {
      "needs_background": "light"
     },
     "output_type": "display_data"
    }
   ],
   "source": [
    "data_saver=[]\n",
    "people=[]\n",
    "for i in range(100):\n",
    "    prob=Birthday_problem(i)\n",
    "    people.append(i)\n",
    "    data_saver.append(prob)\n",
    "    \n",
    "plt.plot(people,data_saver,'red') \n",
    "plt.xlabel(\"Number of people\")\n",
    "plt.ylabel(\"Probability of Prodox birthday\")\n",
    "plt.title('Probability during Number of people')\n",
    "plt.show()\n",
    "    "
   ]
  },
  {
   "cell_type": "markdown",
   "metadata": {},
   "source": [
    "## Central Limit Theorem"
   ]
  },
  {
   "cell_type": "markdown",
   "metadata": {},
   "source": [
    "### Exponentially Distributed Population"
   ]
  },
  {
   "cell_type": "code",
   "execution_count": 171,
   "metadata": {},
   "outputs": [],
   "source": [
    "import numpy as np\n",
    "import pandas as pd\n",
    "import matplotlib.pyplot as plt\n",
    "import seaborn as sns"
   ]
  },
  {
   "cell_type": "code",
   "execution_count": 172,
   "metadata": {},
   "outputs": [
    {
     "name": "stdout",
     "output_type": "stream",
     "text": [
      "mean: 0.5\n",
      "standard deviation: 0.5\n"
     ]
    }
   ],
   "source": [
    "landa=2\n",
    "n=1200\n",
    "s=100000\n",
    "data_collection=np.zeros(s)\n",
    "for i in range(s):\n",
    "    sampling = np.random.exponential((1/landa),n)\n",
    "    data_collection[i]=sampling.mean()\n",
    "    \n",
    "    \n",
    "print('mean:',1/landa)\n",
    "print('standard deviation:',np.sqrt(1/(landa**2)))"
   ]
  },
  {
   "cell_type": "code",
   "execution_count": 173,
   "metadata": {},
   "outputs": [
    {
     "data": {
      "image/png": "[encoded data removed]",
      "text/plain": [
       "<Figure size 432x288 with 1 Axes>"
      ]
     },
     "metadata": {
      "needs_background": "light"
     },
     "output_type": "display_data"
    }
   ],
   "source": [
    "sns.distplot(data_collection);"
   ]
  },
  {
   "cell_type": "code",
   "execution_count": 174,
   "metadata": {},
   "outputs": [
    {
     "data": {
      "text/plain": [
       "array([0.48982496, 0.49533005, 0.50128748, ..., 0.50583853, 0.5008476 ,\n",
       "       0.50293664])"
      ]
     },
     "execution_count": 174,
     "metadata": {},
     "output_type": "execute_result"
    }
   ],
   "source": [
    "data_collection"
   ]
  },
  {
   "cell_type": "code",
   "execution_count": 175,
   "metadata": {},
   "outputs": [
    {
     "name": "stdout",
     "output_type": "stream",
     "text": [
      "0.5000101775894811\n",
      "0.5\n"
     ]
    }
   ],
   "source": [
    "print(data_collection.mean())\n",
    "print(1/landa)"
   ]
  },
  {
   "cell_type": "code",
   "execution_count": 176,
   "metadata": {},
   "outputs": [
    {
     "name": "stdout",
     "output_type": "stream",
     "text": [
      "0.014433756729740642\n"
     ]
    },
    {
     "data": {
      "text/plain": [
       "0.014465507419749677"
      ]
     },
     "execution_count": 176,
     "metadata": {},
     "output_type": "execute_result"
    }
   ],
   "source": [
    "print((1/(landa))/ np.sqrt(n))\n",
    "data_collection.std()"
   ]
  },
  {
   "cell_type": "markdown",
   "metadata": {},
   "source": [
    "### Binomially Distributed Population"
   ]
  },
  {
   "cell_type": "code",
   "execution_count": 177,
   "metadata": {},
   "outputs": [
    {
     "name": "stdout",
     "output_type": "stream",
     "text": [
      "mean: 16.0\n",
      "standard deviation: 1.7888543819998317\n"
     ]
    }
   ],
   "source": [
    "n=1200\n",
    "s=200000\n",
    "data_collection1=np.zeros(s)\n",
    "for i in range(s):\n",
    "    sampling = np.random.binomial(20,0.8,n)\n",
    "    data_collection1[i]=sampling.mean()\n",
    "    \n",
    "    \n",
    "print('mean:',20*0.8)\n",
    "print('standard deviation:',np.sqrt(20*0.8*0.2))"
   ]
  },
  {
   "cell_type": "code",
   "execution_count": 178,
   "metadata": {},
   "outputs": [
    {
     "data": {
      "image/png": "[encoded data removed]",
      "text/plain": [
       "<Figure size 432x288 with 1 Axes>"
      ]
     },
     "metadata": {
      "needs_background": "light"
     },
     "output_type": "display_data"
    }
   ],
   "source": [
    "sns.distplot(data_collection1);"
   ]
  },
  {
   "cell_type": "code",
   "execution_count": 179,
   "metadata": {},
   "outputs": [
    {
     "name": "stdout",
     "output_type": "stream",
     "text": [
      "15.999900379166666\n",
      "16.0\n"
     ]
    }
   ],
   "source": [
    "print(data_collection1.mean())\n",
    "print(20*0.8)"
   ]
  },
  {
   "cell_type": "code",
   "execution_count": 180,
   "metadata": {},
   "outputs": [
    {
     "name": "stdout",
     "output_type": "stream",
     "text": [
      "0.0516064486710679\n",
      "0.05163977794943222\n"
     ]
    }
   ],
   "source": [
    "print(data_collection1.std())\n",
    "print((np.sqrt(20*0.8*0.2))/ np.sqrt(n))"
   ]
  }
 ],
 "metadata": {
  "kernelspec": {
   "display_name": "Python 3",
   "language": "python",
   "name": "python3"
  },
  "language_info": {
   "codemirror_mode": {
    "name": "ipython",
    "version": 3
   },
   "file_extension": ".py",
   "mimetype": "text/x-python",
   "name": "python",
   "nbconvert_exporter": "python",
   "pygments_lexer": "ipython3",
   "version": "3.8.5"
  }
 },
 "nbformat": 4,
 "nbformat_minor": 4
}
