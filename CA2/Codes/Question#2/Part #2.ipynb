{
 "cells": [
  {
   "cell_type": "markdown",
   "metadata": {},
   "source": [
    "## Import libararies"
   ]
  },
  {
   "cell_type": "code",
   "execution_count": 1193,
   "metadata": {},
   "outputs": [],
   "source": [
    "import pandas as pd\n",
    "import random\n",
    "import numpy as np\n",
    "import itertools\n",
    "import matplotlib.pyplot as plt\n",
    "import matplotlib\n",
    "import pandas as pd \n",
    "import numpy as np\n",
    "import math\n",
    "import random\n",
    "import matplotlib.pyplot as plt\n",
    "import os\n",
    "from numpy import linalg\n",
    "\n",
    "from sklearn import preprocessing\n",
    "from sklearn import tree\n",
    "from sklearn.metrics import plot_confusion_matrix as plotConfustionMatrix\n",
    "from sklearn.ensemble import RandomForestClassifier\n",
    "from sklearn.preprocessing import StandardScaler"
   ]
  },
  {
   "cell_type": "markdown",
   "metadata": {},
   "source": [
    "## Required Functions"
   ]
  },
  {
   "cell_type": "code",
   "execution_count": 1194,
   "metadata": {},
   "outputs": [],
   "source": [
    "class Node:\n",
    "    def __init__(self, child = np.array([]), data = None, label = None, attributes = None):\n",
    "        self.child = child\n",
    "        self.data = data\n",
    "        self.label = label\n",
    "        self.attributes = attributes"
   ]
  },
  {
   "cell_type": "code",
   "execution_count": 1195,
   "metadata": {},
   "outputs": [],
   "source": [
    "def grow_node(root, attribute, threshold):\n",
    "  if(len(threshold[attribute]) == 2):\n",
    "    root.child = np.append(root.child, [Node(data = np.array([data for data in root.data if data[attribute] ==  threshold[attribute][0]]))], axis = 0)\n",
    "    root.child = np.append(root.child, [Node(data = np.array([data for data in root.data if data[attribute] == threshold[attribute][1]]))], axis = 0)\n",
    "    \n",
    "  else:\n",
    "    root.child = np.append(root.child, [Node(data = np.array([data for data in root.data if data[attribute] ==  threshold[attribute][0]]))], axis = 0)\n",
    "    root.child = np.append(root.child, [Node(data = np.array([data for data in root.data if data[attribute] ==  threshold[attribute][1]]))], axis = 0)\n",
    "    root.child = np.append(root.child, [Node(data = np.array([data for data in root.data if data[attribute] ==  threshold[attribute][2]]))], axis = 0)"
   ]
  },
  {
   "cell_type": "code",
   "execution_count": 1196,
   "metadata": {},
   "outputs": [],
   "source": [
    "def encode_data(data, flag = 'library'):\n",
    "  encoded_data = []\n",
    "  for i in range(FEATURE):\n",
    "    if flag == 'library':\n",
    "      label_encoder = preprocessing.LabelEncoder()\n",
    "      label_encoder.fit(train_data.T[i])\n",
    "      encoded_data.append(label_encoder.transform(train_data.T[i]))\n",
    "    else:\n",
    "      encoded_data.append([dict([(y, x) for x, y in enumerate(sorted(set(train_data.T[i])))])[x] for x in train_data.T[i]])\n",
    "\n",
    "  return encoded_data"
   ]
  },
  {
   "cell_type": "code",
   "execution_count": 1197,
   "metadata": {},
   "outputs": [],
   "source": [
    "def split_data(data,size_percent,label_column):\n",
    "  train_data_size = int(np.floor(data.shape[0]*size_percent))\n",
    "  indexes = random.sample(range(0, data.shape[0]), train_data_size)\n",
    "  indexes.sort()\n",
    "\n",
    "  train = data[indexes]\n",
    "  train_data, train_label = train[:, :], train[:,label_column]\n",
    "  listed_data = data.tolist()\n",
    "  for i in range(train_data_size): listed_data.pop(indexes[i] - i)\n",
    "  test = np.array(listed_data)\n",
    "  test_data, test_label = test[:, :], test[:,label_column]\n",
    "  return train_data, test_data, train_label, test_label"
   ]
  },
  {
   "cell_type": "code",
   "execution_count": 1198,
   "metadata": {},
   "outputs": [],
   "source": [
    "def entropy(target_node):\n",
    "    elements, counts = np.unique(target_node, return_counts = True)\n",
    "    entropy = np.sum([(-counts[i]/np.sum(counts)) * np.log2(counts[i]/np.sum(counts)) for i in range(len(elements))])\n",
    "    return entropy"
   ]
  },
  {
   "cell_type": "code",
   "execution_count": 1199,
   "metadata": {},
   "outputs": [],
   "source": [
    "def information_gain(root):\n",
    "  total_entropy = entropy(root.data.T[-1])\n",
    "  reduction = np.sum([(child.data.shape[0] / root.data.shape[0]) * entropy(child.data.T[-1]) for child in root.child if not child.data.shape[0] == 0], axis = 0)\n",
    "  gain = total_entropy - reduction\n",
    "  return gain"
   ]
  },
  {
   "cell_type": "code",
   "execution_count": 1200,
   "metadata": {},
   "outputs": [],
   "source": [
    "def find_best_attribute(root, threshold):\n",
    "  information = np.array([])\n",
    "  for attr in range(len(root.data[0]) - 1):\n",
    "      temp_node = Node(data = root.data, label = root.label, attributes = root.attributes)\n",
    "      grow_node(temp_node, attr, threshold)\n",
    "      information = np.append(information, [information_gain(temp_node)], axis=0)\n",
    "      best_attibute = np.argmax(information)\n",
    "  return best_attibute"
   ]
  },
  {
   "cell_type": "code",
   "execution_count": 1201,
   "metadata": {},
   "outputs": [],
   "source": [
    "def calculate_threshold(train_data):\n",
    "  threshold = []\n",
    "  for i in range(train_data.shape[1]):\n",
    "      unique_attribute = np.unique(train_data[:, i])\n",
    "      threshold.append(unique_attribute)\n",
    "  return threshold"
   ]
  },
  {
   "cell_type": "code",
   "execution_count": 1202,
   "metadata": {},
   "outputs": [],
   "source": [
    "def confusion_matrix(actual, predicted):\n",
    "    classes = np.unique(actual)\n",
    "    confmat = np.zeros((len(classes), len(classes)))\n",
    "    for i in range(len(classes)):\n",
    "        for j in range(len(classes)):\n",
    "           confmat[i, j] = np.sum((actual == classes[i]) & (predicted == classes[j]))\n",
    "    return confmat"
   ]
  },
  {
   "cell_type": "markdown",
   "metadata": {},
   "source": [
    "## Implementing ID3 algorithm"
   ]
  },
  {
   "cell_type": "code",
   "execution_count": 1203,
   "metadata": {},
   "outputs": [],
   "source": [
    "def ID3(train_data, max_depth, threshold):\n",
    "        root = Node(data = train_data)\n",
    "        if (root.data.T[-1].all() == True):\n",
    "            root.label = 1\n",
    "            return root\n",
    "        if (root.data.T[-1].any() == False):\n",
    "            root.label = 0\n",
    "            return root\n",
    "        if(max_depth == 0):\n",
    "            root.label = 1*((root.data.T[-1] == 1).sum() > (root.data.T[-1] == 0).sum())\n",
    "            return root\n",
    "        attribute = find_best_attribute(root, threshold)\n",
    "        root.attributes = attribute\n",
    "        if(len(threshold[attribute]) == 2):\n",
    "            root.child = np.append(root.child, [ID3(np.array([data for data in train_data if data[attribute] == threshold[attribute][0]]), max_depth-1, threshold)], axis = 0)\n",
    "            root.child = np.append(root.child, [ID3(np.array([data for data in train_data if data[attribute] == threshold[attribute][1]]), max_depth-1, threshold)], axis = 0)\n",
    "        else:\n",
    "            root.child = np.append(root.child, [ID3(np.array([data for data in train_data if data[attribute] == threshold[attribute][0]]), max_depth-1, threshold)], axis = 0)\n",
    "            root.child = np.append(root.child, [ID3(np.array([data for data in train_data if data[attribute] == threshold[attribute][1]]), max_depth-1, threshold)], axis = 0)\n",
    "            root.child = np.append(root.child, [ID3(np.array([data for data in train_data if data[attribute] == threshold[attribute][2]]), max_depth-1, threshold)], axis = 0)\n",
    "        return root"
   ]
  },
  {
   "cell_type": "code",
   "execution_count": 1204,
   "metadata": {},
   "outputs": [],
   "source": [
    "def move_along_tree(test_data, tree, threshold):\n",
    "  if tree.label != None : return tree.label\n",
    "  else:\n",
    "    if len(threshold[tree.attributes]) == 2 :\n",
    "      return move_along_tree(test_data, tree.child[0], threshold) if test_data[tree.attributes] == threshold[tree.attributes][0] else move_along_tree(test_data, tree.child[1], threshold)\n",
    "    else:\n",
    "        if test_data[tree.attributes] == threshold[tree.attributes][0]: return move_along_tree(test_data, tree.child[0], threshold)\n",
    "        elif test_data[tree.attributes] == threshold[tree.attributes][1]: return move_along_tree(test_data, tree.child[1], threshold)\n",
    "        else: return move_along_tree(test_data, tree.child[2], threshold)\n",
    "        "
   ]
  },
  {
   "cell_type": "code",
   "execution_count": 1205,
   "metadata": {},
   "outputs": [],
   "source": [
    "def test_trained_tree(train_data, test_data, final_tree):\n",
    "  return [move_along_tree(test_data[i], final_tree, threshold) for i in range(len(test_data))]"
   ]
  },
  {
   "cell_type": "code",
   "execution_count": 1206,
   "metadata": {},
   "outputs": [],
   "source": [
    "def getAccuracy(predicts_label,test_data):\n",
    "    return (predicts_label == test_data[:, -1].astype(int)).mean()*100"
   ]
  },
  {
   "cell_type": "markdown",
   "metadata": {},
   "source": [
    "## Reading Data & Shuffling"
   ]
  },
  {
   "cell_type": "code",
   "execution_count": 1207,
   "metadata": {},
   "outputs": [],
   "source": [
    "data = pd.read_csv('prison_dataset.csv')\n",
    "data = data.to_numpy()\n",
    "np.random.shuffle(data)\n",
    "train_data, test_data, train_label, test_label = split_data(data,0.8,10)\n",
    "encoded_train_data = np.array(encode_data(train_data)).T\n",
    "encoded_test_data = np.array(encode_data(test_data)).T\n",
    "FEATURE = 11\n",
    "K = 3\n",
    "SIZE = 11/K"
   ]
  },
  {
   "cell_type": "code",
   "execution_count": 1208,
   "metadata": {},
   "outputs": [],
   "source": [
    "threshold = calculate_threshold(encoded_train_data)\n",
    "max_depth = 3\n",
    "final_tree = ID3(encoded_train_data, max_depth, threshold)"
   ]
  },
  {
   "cell_type": "code",
   "execution_count": 1209,
   "metadata": {},
   "outputs": [
    {
     "name": "stdout",
     "output_type": "stream",
     "text": [
      "Accuracy of Decision Tree is: % 72.36\n"
     ]
    }
   ],
   "source": [
    "predicted_labels = test_trained_tree(encoded_train_data, encoded_test_data, final_tree)\n",
    "\n",
    "print('Accuracy of Decision Tree is: %% %1.2f' %(getAccuracy(predicted_labels, encoded_test_data)))"
   ]
  },
  {
   "cell_type": "code",
   "execution_count": 1210,
   "metadata": {},
   "outputs": [],
   "source": [
    "def make_confusion_matrix(test_labels, predicted_labels):\n",
    "  class_labels = np.unique(test_labels)  \n",
    "  return np.array([[np.sum((test_labels == class_labels[i]) & (predicted_labels == class_labels[j])) for j in range(len(class_labels))] for i in  range(len(class_labels))]) "
   ]
  },
  {
   "cell_type": "code",
   "execution_count": 1211,
   "metadata": {},
   "outputs": [],
   "source": [
    "def plot_confusion_matrix(matrix, classes, normalize=False, title='Confusion matrix', cmap = plt.cm.Purples):\n",
    "    plt.figure(figsize = (6,6))\n",
    "    plt.imshow(matrix, interpolation = 'nearest', cmap = cmap)\n",
    "    plt.title(title, fontsize = 10, fontweight = 'bold')\n",
    "    tick_marks = np.arange(len(classes))\n",
    "    plt.xticks(tick_marks, classes)\n",
    "    plt.yticks(tick_marks, classes)\n",
    "    thresh = matrix.max() / 2.\n",
    "    for i, j in itertools.product(range(matrix.shape[0]), range(matrix.shape[1])):\n",
    "        plt.text(j, i, matrix[i, j], ha='center', va='center', color='lavender' if matrix[i,j]>thresh else 'mediumpurple')\n",
    "    plt.ylabel('True predictions', fontsize = 10, fontweight = 'bold')\n",
    "    plt.xlabel('Predicted Lables', fontsize = 10, fontweight = 'bold')\n",
    "    plt.show()"
   ]
  },
  {
   "cell_type": "code",
   "execution_count": 1212,
   "metadata": {},
   "outputs": [
    {
     "data": {
      "image/png": "[encoded data removed]",
      "text/plain": [
       "<Figure size 432x432 with 1 Axes>"
      ]
     },
     "metadata": {
      "needs_background": "light"
     },
     "output_type": "display_data"
    }
   ],
   "source": [
    "confusion_matrix = make_confusion_matrix(encoded_test_data[:,-1], predicted_labels)\n",
    "plot_confusion_matrix(confusion_matrix, ['Return to Prison', 'Staying out of Prison'], title = 'Confusion Matrix(Desicion tree)')"
   ]
  },
  {
   "cell_type": "markdown",
   "metadata": {},
   "source": [
    "## Part 2: Random Forest without libararies"
   ]
  },
  {
   "cell_type": "code",
   "execution_count": 1213,
   "metadata": {},
   "outputs": [],
   "source": [
    "def ID3_random_forest(train_data, max_depth, threshold, k):\n",
    "    \n",
    "    root = Node(data = train_data)\n",
    "    if not len(np.array(root.data)) == 0:\n",
    "      if (root.data.T[-1].all() == True):\n",
    "        root.label = 1\n",
    "        return root\n",
    "      if (root.data[-1].any() == False):\n",
    "        root.label = 0\n",
    "        return root\n",
    "      if(max_depth == 0):\n",
    "        root.label = 1*((root.data[-1] == 1).sum() > (root.data.T[-1] == 0).sum())\n",
    "        return root\n",
    "    else : return root\n",
    "    attribute = find_best_attribute(root, threshold)\n",
    "    new_attribute = attribute + int(k*SIZE)\n",
    "    root.attributes = new_attribute\n",
    "    if(len(threshold[new_attribute]) == 2):\n",
    "      root.child = np.append(root.child, [ID3_random_forest(np.array([data for data in train_data if data[attribute] == threshold[new_attribute][0]]), max_depth-1, threshold, k)], axis = 0)\n",
    "      root.child = np.append(root.child, [ID3_random_forest(np.array([data for data in train_data if data[attribute] == threshold[new_attribute][1]]), max_depth-1, threshold, k)], axis = 0)\n",
    "    else:\n",
    "      root.child = np.append(root.child, [ID3_random_forest(np.array([data for data in train_data if data[attribute] == threshold[new_attribute][0]]), max_depth-1, threshold, k)], axis = 0)\n",
    "      root.child = np.append(root.child, [ID3_random_forest(np.array([data for data in train_data if data[attribute] == threshold[new_attribute][1]]), max_depth-1, threshold, k)], axis = 0)\n",
    "      root.child = np.append(root.child, [ID3_random_forest(np.array([data for data in train_data if data[attribute] == threshold[new_attribute][2]]), max_depth-1, threshold, k)], axis = 0)\n",
    "    return root"
   ]
  },
  {
   "cell_type": "code",
   "execution_count": 1214,
   "metadata": {},
   "outputs": [],
   "source": [
    "K = 3\n",
    "SIZE = 11/K\n",
    "final_tree = [ID3_random_forest(np.column_stack((encoded_train_data[:, int(K*SIZE):int((K+1)*SIZE)], encoded_train_data[:,-1])), 3, threshold, k) for k in range(K)]\n",
    "final_predictions = []\n",
    "for en in range(len(encoded_test_data)):\n",
    "  predictions = [(move_along_tree(encoded_train_data[en], final_tree[k], threshold)) for k in range(K)]\n",
    "  final_predictions.append(1*((np.array(predictions) == 1).sum() > (np.array(predictions) == 0).sum()))\n"
   ]
  },
  {
   "cell_type": "code",
   "execution_count": 1215,
   "metadata": {},
   "outputs": [
    {
     "name": "stdout",
     "output_type": "stream",
     "text": [
      "Accuracy of Random Forest with k =  3 is: % 43.99\n"
     ]
    }
   ],
   "source": [
    "print('Accuracy of Random Forest with k = ', K , 'is: %% %1.2f' %(getAccuracy(final_predictions, encoded_test_data)))"
   ]
  },
  {
   "cell_type": "code",
   "execution_count": 1216,
   "metadata": {},
   "outputs": [
    {
     "data": {
      "image/png": "[encoded data removed]",
      "text/plain": [
       "<Figure size 432x432 with 1 Axes>"
      ]
     },
     "metadata": {
      "needs_background": "light"
     },
     "output_type": "display_data"
    }
   ],
   "source": [
    "confusion_matrix = make_confusion_matrix(encoded_test_data[:,-1], final_predictions)\n",
    "plot_confusion_matrix(confusion_matrix, ['Return to Prison', 'Staying out of Prison'], title = 'Confusion Matrix(Radom forest)')"
   ]
  },
  {
   "cell_type": "markdown",
   "metadata": {},
   "source": [
    "## Part 3: Random Forest with libararies"
   ]
  },
  {
   "cell_type": "code",
   "execution_count": 1217,
   "metadata": {},
   "outputs": [
    {
     "data": {
      "image/png": "[encoded data removed]",
      "text/plain": [
       "<Figure size 432x288 with 1 Axes>"
      ]
     },
     "metadata": {
      "needs_background": "light"
     },
     "output_type": "display_data"
    }
   ],
   "source": [
    "clf = tree.DecisionTreeClassifier(criterion = \"entropy\", random_state = 0, max_depth = 3)\n",
    "clf = clf.fit(encoded_train_data[:,:-1], encoded_test_data[:,-1])\n",
    "tree.plot_tree(clf);"
   ]
  },
  {
   "cell_type": "code",
   "execution_count": 1218,
   "metadata": {},
   "outputs": [
    {
     "name": "stdout",
     "output_type": "stream",
     "text": [
      "Accuracy of Decision Tree using sklearn is: % 72.34\n"
     ]
    }
   ],
   "source": [
    "y_pred = clf.predict(encoded_test_data[:,:-1])\n",
    "accuracy = (y_pred == encoded_test_data[:, -1].astype(int)).mean()\n",
    "print('Accuracy of Decision Tree using sklearn is: %% %1.2f' %(accuracy*100))"
   ]
  },
  {
   "cell_type": "code",
   "execution_count": 1219,
   "metadata": {},
   "outputs": [],
   "source": [
    "def plot_confusion_matrix_sk(clf, test_data, test_label, matrix_labels, matrix_title):\n",
    "  disp = plotConfustionMatrix(clf, test_data, test_label, display_labels = matrix_labels, cmap=plt.cm.Purples)\n",
    "  disp.ax_.set_title(matrix_title)\n",
    "  plt.show()"
   ]
  },
  {
   "cell_type": "code",
   "execution_count": 1220,
   "metadata": {},
   "outputs": [
    {
     "data": {
      "image/png": "[encoded data removed]",
      "text/plain": [
       "<Figure size 432x288 with 2 Axes>"
      ]
     },
     "metadata": {
      "needs_background": "light"
     },
     "output_type": "display_data"
    }
   ],
   "source": [
    "plot_confusion_matrix_sk(clf, encoded_train_data[:,:-1], encoded_test_data[:,-1], ['Return to Prison', 'Staying out of Prison'],  'Confusion Matrix(Decision tree) \\n with skLearn')"
   ]
  },
  {
   "cell_type": "code",
   "execution_count": 1221,
   "metadata": {},
   "outputs": [],
   "source": [
    "clf_rf = RandomForestClassifier(random_state = 0, max_depth = 3)\n",
    "clf_rf = clf_rf.fit(encoded_train_data[:,:-1], encoded_test_data[:,-1])"
   ]
  },
  {
   "cell_type": "code",
   "execution_count": 1222,
   "metadata": {},
   "outputs": [
    {
     "name": "stdout",
     "output_type": "stream",
     "text": [
      "Accuracy of Random Forest using sklearn is: % 72.35\n"
     ]
    }
   ],
   "source": [
    "y_pred = clf_rf.predict(encoded_test_data[:,:-1])\n",
    "accuracy_rf = (y_pred == encoded_test_data[:, -1]).mean()\n",
    "print('Accuracy of Random Forest using sklearn is: %% %1.2f' %(accuracy_rf*100))"
   ]
  },
  {
   "cell_type": "code",
   "execution_count": 1223,
   "metadata": {},
   "outputs": [
    {
     "data": {
      "image/png": "[encoded data removed]",
      "text/plain": [
       "<Figure size 432x288 with 2 Axes>"
      ]
     },
     "metadata": {
      "needs_background": "light"
     },
     "output_type": "display_data"
    }
   ],
   "source": [
    "plot_confusion_matrix_sk(clf_rf, encoded_train_data[:,:-1], encoded_test_data[:,-1], ['Return to Prison', 'Staying out of Prison'],  'Confusion Matrix(Random Forest) \\n with skLearn')"
   ]
  }
 ],
 "metadata": {
  "kernelspec": {
   "display_name": "Python 3",
   "language": "python",
   "name": "python3"
  },
  "language_info": {
   "codemirror_mode": {
    "name": "ipython",
    "version": 3
   },
   "file_extension": ".py",
   "mimetype": "text/x-python",
   "name": "python",
   "nbconvert_exporter": "python",
   "pygments_lexer": "ipython3",
   "version": "3.8.5"
  }
 },
 "nbformat": 4,
 "nbformat_minor": 4
}
