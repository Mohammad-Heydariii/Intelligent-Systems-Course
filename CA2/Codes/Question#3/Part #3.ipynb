{
 "cells": [
  {
   "cell_type": "markdown",
   "metadata": {},
   "source": [
    "### Import libararies"
   ]
  },
  {
   "cell_type": "code",
   "execution_count": 227,
   "metadata": {},
   "outputs": [],
   "source": [
    "import pandas as pd \n",
    "import numpy as np\n",
    "import math\n",
    "import random\n",
    "import matplotlib.pyplot as plt\n",
    "import os\n",
    "from numpy import linalg\n",
    "from metric_learn import LMNN\n",
    "from metric_learn import NCA"
   ]
  },
  {
   "cell_type": "markdown",
   "metadata": {},
   "source": [
    "### Import data"
   ]
  },
  {
   "cell_type": "code",
   "execution_count": 182,
   "metadata": {},
   "outputs": [],
   "source": [
    "z=pd.read_csv('wine.csv').to_numpy()"
   ]
  },
  {
   "cell_type": "markdown",
   "metadata": {},
   "source": [
    "### Required Functions"
   ]
  },
  {
   "cell_type": "code",
   "execution_count": 183,
   "metadata": {},
   "outputs": [],
   "source": [
    "def getAccuracy(predicts_label,train_label):\n",
    "    correct = 0\n",
    "    for x in range(len(predicts_label)):\n",
    "        if predicts_label[x] == train_label[x]:\n",
    "            correct += 1\n",
    "    return (correct/float(len(predicts_label))) * 100.0\n",
    "def calculate_accuracy(predict, test):\n",
    "    return ((predict == test).mean())*100"
   ]
  },
  {
   "cell_type": "code",
   "execution_count": 184,
   "metadata": {},
   "outputs": [],
   "source": [
    "def confusion_matrix(actual, predicted):\n",
    "\n",
    "    # extract the different classes\n",
    "    classes = np.unique(actual)\n",
    "\n",
    "    # initialize the confusion matrix\n",
    "    confmat = np.zeros((len(classes), len(classes)))\n",
    "\n",
    "    # loop across the different combinations of actual / predicted classes\n",
    "    for i in range(len(classes)):\n",
    "        for j in range(len(classes)):\n",
    "\n",
    "           # count the number of instances in each combination of actual / predicted classes\n",
    "           confmat[i, j] = np.sum((actual == classes[i]) & (predicted == classes[j]))\n",
    "    \n",
    "    return confmat"
   ]
  },
  {
   "cell_type": "code",
   "execution_count": 185,
   "metadata": {},
   "outputs": [],
   "source": [
    "def Euclidian_Distance(instance1, instance2):\n",
    "    distance = 0\n",
    "    distance += pow((instance1 - instance2), 2)\n",
    "    return math.sqrt(distance)"
   ]
  },
  {
   "cell_type": "code",
   "execution_count": 186,
   "metadata": {},
   "outputs": [],
   "source": [
    "def split_data(data):\n",
    "  train_data_size = int(np.floor(data.shape[0]*0.8))\n",
    "  indexes = random.sample(range(0, data.shape[0]), train_data_size)\n",
    "  indexes.sort()\n",
    "\n",
    "  train = data[indexes]\n",
    "  train_data, train_label = train[:, :], train[:, 0]\n",
    "  listed_data = data.tolist()\n",
    "  for i in range(train_data_size): listed_data.pop(indexes[i] - i)\n",
    "  test = np.array(listed_data)\n",
    "  test_data, test_label = test[:, :], test[:, 0]\n",
    "  return train_data, test_data, train_label, test_label\n"
   ]
  },
  {
   "cell_type": "code",
   "execution_count": 187,
   "metadata": {},
   "outputs": [],
   "source": [
    "def KNN(train_data, train_label, test_data, k):\n",
    "\n",
    "    train_data, test_data = train_data.astype(float), test_data.astype(float)\n",
    "\n",
    "    predicts = []\n",
    "    length = len(test_data)-1\n",
    "    for i in range(len(test_data)):\n",
    "        distances = np.linalg.norm(test_data[i] - train_data, axis = 1)\n",
    "        neighbors_index = np.argsort(distances)[0:k]\n",
    "        predicts.append(np.bincount(train_label[neighbors_index].flatten().astype(int)).argmax())\n",
    "    return predicts\n"
   ]
  },
  {
   "cell_type": "code",
   "execution_count": 188,
   "metadata": {},
   "outputs": [],
   "source": [
    "def Metric_learn(train_data,train_label,test_data,k0,algorithm_type):\n",
    "    \n",
    "    train_data, test_data = train_data.astype(float), test_data.astype(float)\n",
    "    lmnn = LMNN(k=k0, learn_rate=1e-7)\n",
    "    nca  = NCA(max_iter=1000)\n",
    "    lmnn.fit(train_data,train_label)\n",
    "    nca.fit(train_data,train_label)\n",
    "\n",
    "    if algorithm_type == 'LMNN':\n",
    "        train_data_new_space =lmnn.transform(train_data)\n",
    "        test_data_new_space=lmnn.transform(test_data)\n",
    "    elif algorithm_type == 'NCA':\n",
    "        train_data_new_space =nca.transform(train_data)\n",
    "        test_data_new_space=nca.transform(test_data)\n",
    "    \n",
    "    predicts = []\n",
    "    length = len(test_data_new_space)-1\n",
    "    for i in range(len(test_data_new_space)):\n",
    "        distances = np.linalg.norm(test_data_new_space[i] - train_data_new_space, axis = 1)\n",
    "      ##  distances = Euclidian_Distance(test_data_new_space[i],train_data_new_space)\n",
    "        neighbors_index = np.argsort(distances)[0:k0]\n",
    "        predicts.append(np.bincount(train_label[neighbors_index].flatten().astype(int)).argmax())\n",
    "    return predicts"
   ]
  },
  {
   "cell_type": "markdown",
   "metadata": {},
   "source": [
    "### Reading Data & Shuffle"
   ]
  },
  {
   "cell_type": "code",
   "execution_count": 189,
   "metadata": {},
   "outputs": [],
   "source": [
    "\n",
    "k = [3, 5,9,11,13,15]\n",
    "\n",
    "\n",
    "training_data,testing_data,training_Label,testing_Label=split_data(z)"
   ]
  },
  {
   "cell_type": "markdown",
   "metadata": {},
   "source": [
    "### Testing Performance K=3"
   ]
  },
  {
   "cell_type": "code",
   "execution_count": 211,
   "metadata": {},
   "outputs": [
    {
     "name": "stdout",
     "output_type": "stream",
     "text": [
      "Accuracy of KNN is: % 69.44\n",
      "[[14.  5.]\n",
      " [ 0. 13.]]\n",
      "Accuracy of LMNN is: % 97.22\n",
      "[[ 9.  0.  0.]\n",
      " [ 0. 13.  0.]\n",
      " [ 0.  1. 13.]]\n",
      "Accuracy of NCA is: % 72.22\n",
      "[[ 7.  0.  1.]\n",
      " [ 0. 11.  4.]\n",
      " [ 2.  3.  8.]]\n"
     ]
    }
   ],
   "source": [
    "#k = 3\n",
    "predictions_KNN =  KNN(training_data,training_Label,testing_data,k[0])\n",
    "predictions_LMNN=  Metric_learn(training_data,training_Label,testing_data,k[0],'LMNN')\n",
    "predictions_NCA =  Metric_learn(training_data,training_Label,testing_data,k[0],'NCA')\n",
    "\n",
    "\n",
    "Accuracy_KNN  = getAccuracy(predictions_KNN, testing_Label)\n",
    "confusion_matrix_LMNN=confusion_matrix(predictions_KNN, testing_Label)\n",
    "\n",
    "\n",
    "Accuracy_LMNN = getAccuracy(predictions_LMNN,testing_Label)\n",
    "confusion_matrix_LMNN=confusion_matrix(predictions_LMNN, testing_Label)\n",
    "\n",
    "\n",
    "Accuracy_NCA  = getAccuracy(predictions_NCA, testing_Label)\n",
    "confusion_matrix_NCA=confusion_matrix(predictions_NCA, testing_Label)\n",
    "\n",
    "print('Accuracy of KNN is: %% %1.2f' %(Accuracy_KNN))\n",
    "print(confusion_matrix_KNN)\n",
    "\n",
    "\n",
    "print('Accuracy of LMNN is: %% %1.2f' %(Accuracy_LMNN))\n",
    "print(confusion_matrix_LMNN)\n",
    "\n",
    "\n",
    "print('Accuracy of NCA is: %% %1.2f' %(Accuracy_NCA))\n",
    "print(confusion_matrix_NCA)\n",
    "\n",
    "\n"
   ]
  },
  {
   "cell_type": "markdown",
   "metadata": {},
   "source": [
    "### Testing Performance K=5"
   ]
  },
  {
   "cell_type": "code",
   "execution_count": 212,
   "metadata": {},
   "outputs": [
    {
     "name": "stdout",
     "output_type": "stream",
     "text": [
      "Accuracy of KNN is: % 72.22\n",
      "[[14.  5.]\n",
      " [ 0. 13.]]\n",
      "Accuracy of LMNN is: % 97.22\n",
      "[[ 9.  0.  0.]\n",
      " [ 0. 13.  0.]\n",
      " [ 0.  1. 13.]]\n",
      "Accuracy of NCA is: % 80.56\n",
      "[[ 7.  0.  0.]\n",
      " [ 0. 11.  2.]\n",
      " [ 2.  3. 11.]]\n"
     ]
    }
   ],
   "source": [
    "#k = 5\n",
    "predictions_KNN =  KNN(training_data,training_Label,testing_data,k[1])\n",
    "predictions_LMNN=  Metric_learn(training_data,training_Label,testing_data,k[1],'LMNN')\n",
    "predictions_NCA =  Metric_learn(training_data,training_Label,testing_data,k[1],'NCA')\n",
    "\n",
    "\n",
    "Accuracy_KNN  = getAccuracy(predictions_KNN, testing_Label)\n",
    "confusion_matrix_LMNN=confusion_matrix(predictions_KNN, testing_Label)\n",
    "\n",
    "\n",
    "Accuracy_LMNN = getAccuracy(predictions_LMNN,testing_Label)\n",
    "confusion_matrix_LMNN=confusion_matrix(predictions_LMNN, testing_Label)\n",
    "\n",
    "\n",
    "Accuracy_NCA  = getAccuracy(predictions_NCA, testing_Label)\n",
    "confusion_matrix_NCA=confusion_matrix(predictions_NCA, testing_Label)\n",
    "\n",
    "\n",
    "print('Accuracy of KNN is: %% %1.2f' %(Accuracy_KNN))\n",
    "print(confusion_matrix_KNN)\n",
    "\n",
    "\n",
    "print('Accuracy of LMNN is: %% %1.2f' %(Accuracy_LMNN))\n",
    "print(confusion_matrix_LMNN)\n",
    "\n",
    "\n",
    "print('Accuracy of NCA is: %% %1.2f' %(Accuracy_NCA))\n",
    "print(confusion_matrix_NCA)\n",
    "\n",
    "\n",
    "\n",
    "\n"
   ]
  },
  {
   "cell_type": "markdown",
   "metadata": {},
   "source": [
    "### Testing Performance K=9"
   ]
  },
  {
   "cell_type": "code",
   "execution_count": 213,
   "metadata": {},
   "outputs": [
    {
     "name": "stdout",
     "output_type": "stream",
     "text": [
      "Accuracy of KNN is: % 69.44\n",
      "[[14.  5.]\n",
      " [ 0. 13.]]\n",
      "Accuracy of LMNN is: % 94.44\n",
      "[[ 8.  0.  0.]\n",
      " [ 1. 13.  0.]\n",
      " [ 0.  1. 13.]]\n",
      "Accuracy of NCA is: % 72.22\n",
      "[[ 7.  1.  1.]\n",
      " [ 0. 11.  4.]\n",
      " [ 2.  2.  8.]]\n"
     ]
    }
   ],
   "source": [
    "#k = 9\n",
    "predictions_KNN =  KNN(training_data,training_Label,testing_data,k[2])\n",
    "predictions_LMNN=  Metric_learn(training_data,training_Label,testing_data,k[2],'LMNN')\n",
    "predictions_NCA =  Metric_learn(training_data,training_Label,testing_data,k[2],'NCA')\n",
    "\n",
    "\n",
    "Accuracy_KNN  = getAccuracy(predictions_KNN, testing_Label)\n",
    "confusion_matrix_LMNN=confusion_matrix(predictions_KNN, testing_Label)\n",
    "\n",
    "\n",
    "Accuracy_LMNN = getAccuracy(predictions_LMNN,testing_Label)\n",
    "confusion_matrix_LMNN=confusion_matrix(predictions_LMNN, testing_Label)\n",
    "\n",
    "\n",
    "Accuracy_NCA  = getAccuracy(predictions_NCA, testing_Label)\n",
    "confusion_matrix_NCA=confusion_matrix(predictions_NCA, testing_Label)\n",
    "\n",
    "\n",
    "print('Accuracy of KNN is: %% %1.2f' %(Accuracy_KNN))\n",
    "print(confusion_matrix_KNN)\n",
    "\n",
    "\n",
    "print('Accuracy of LMNN is: %% %1.2f' %(Accuracy_LMNN))\n",
    "print(confusion_matrix_LMNN)\n",
    "\n",
    "\n",
    "print('Accuracy of NCA is: %% %1.2f' %(Accuracy_NCA))\n",
    "print(confusion_matrix_NCA)\n",
    "\n",
    "\n",
    "\n"
   ]
  },
  {
   "cell_type": "markdown",
   "metadata": {},
   "source": [
    "### Testing Performance K=11"
   ]
  },
  {
   "cell_type": "code",
   "execution_count": 214,
   "metadata": {},
   "outputs": [
    {
     "name": "stdout",
     "output_type": "stream",
     "text": [
      "Accuracy of KNN is: % 66.67\n",
      "[[14.  5.]\n",
      " [ 0. 13.]]\n",
      "Accuracy of LMNN is: % 94.44\n",
      "[[ 8.  0.  0.]\n",
      " [ 1. 13.  0.]\n",
      " [ 0.  1. 13.]]\n",
      "Accuracy of NCA is: % 63.89\n",
      "[[ 6.  0.  1.]\n",
      " [ 0. 10.  5.]\n",
      " [ 3.  4.  7.]]\n"
     ]
    }
   ],
   "source": [
    "#k = 11\n",
    "predictions_KNN =  KNN(training_data,training_Label,testing_data,k[3])\n",
    "predictions_LMNN=  Metric_learn(training_data,training_Label,testing_data,k[3],'LMNN')\n",
    "predictions_NCA =  Metric_learn(training_data,training_Label,testing_data,k[3],'NCA')\n",
    "\n",
    "\n",
    "Accuracy_KNN  = getAccuracy(predictions_KNN, testing_Label)\n",
    "confusion_matrix_LMNN=confusion_matrix(predictions_KNN, testing_Label)\n",
    "\n",
    "\n",
    "Accuracy_LMNN = getAccuracy(predictions_LMNN,testing_Label)\n",
    "confusion_matrix_LMNN=confusion_matrix(predictions_LMNN, testing_Label)\n",
    "\n",
    "\n",
    "Accuracy_NCA  = getAccuracy(predictions_NCA, testing_Label)\n",
    "confusion_matrix_NCA=confusion_matrix(predictions_NCA, testing_Label)\n",
    "\n",
    "\n",
    "print('Accuracy of KNN is: %% %1.2f' %(Accuracy_KNN))\n",
    "print(confusion_matrix_KNN)\n",
    "\n",
    "\n",
    "print('Accuracy of LMNN is: %% %1.2f' %(Accuracy_LMNN))\n",
    "print(confusion_matrix_LMNN)\n",
    "\n",
    "\n",
    "print('Accuracy of NCA is: %% %1.2f' %(Accuracy_NCA))\n",
    "print(confusion_matrix_NCA)\n",
    "\n",
    "\n"
   ]
  },
  {
   "cell_type": "markdown",
   "metadata": {},
   "source": [
    "### Testing Performance K=13"
   ]
  },
  {
   "cell_type": "code",
   "execution_count": 215,
   "metadata": {},
   "outputs": [
    {
     "name": "stdout",
     "output_type": "stream",
     "text": [
      "Accuracy of KNN is: % 69.44\n",
      "[[14.  5.]\n",
      " [ 0. 13.]]\n",
      "Accuracy of LMNN is: % 94.44\n",
      "[[ 8.  0.  0.]\n",
      " [ 1. 13.  0.]\n",
      " [ 0.  1. 13.]]\n",
      "Accuracy of NCA is: % 66.67\n",
      "[[ 7.  0.  0.]\n",
      " [ 0. 10.  6.]\n",
      " [ 2.  4.  7.]]\n"
     ]
    }
   ],
   "source": [
    "#k = 13\n",
    "predictions_KNN =  KNN(training_data,training_Label,testing_data,k[4])\n",
    "predictions_LMNN=  Metric_learn(training_data,training_Label,testing_data,k[4],'LMNN')\n",
    "predictions_NCA =  Metric_learn(training_data,training_Label,testing_data,k[4],'NCA')\n",
    "\n",
    "\n",
    "Accuracy_KNN  = getAccuracy(predictions_KNN, testing_Label)\n",
    "confusion_matrix_LMNN=confusion_matrix(predictions_KNN, testing_Label)\n",
    "\n",
    "\n",
    "Accuracy_LMNN = getAccuracy(predictions_LMNN,testing_Label)\n",
    "confusion_matrix_LMNN=confusion_matrix(predictions_LMNN, testing_Label)\n",
    "\n",
    "\n",
    "Accuracy_NCA  = getAccuracy(predictions_NCA, testing_Label)\n",
    "confusion_matrix_NCA=confusion_matrix(predictions_NCA, testing_Label)\n",
    "\n",
    "\n",
    "print('Accuracy of KNN is: %% %1.2f' %(Accuracy_KNN))\n",
    "print(confusion_matrix_KNN)\n",
    "\n",
    "\n",
    "print('Accuracy of LMNN is: %% %1.2f' %(Accuracy_LMNN))\n",
    "print(confusion_matrix_LMNN)\n",
    "\n",
    "\n",
    "print('Accuracy of NCA is: %% %1.2f' %(Accuracy_NCA))\n",
    "print(confusion_matrix_NCA)\n",
    "\n",
    "\n"
   ]
  },
  {
   "cell_type": "markdown",
   "metadata": {},
   "source": [
    "### Testing Performance K=15"
   ]
  },
  {
   "cell_type": "code",
   "execution_count": 216,
   "metadata": {},
   "outputs": [
    {
     "name": "stdout",
     "output_type": "stream",
     "text": [
      "Accuracy of KNN is: % 72.22\n",
      "[[14.  5.]\n",
      " [ 0. 13.]]\n",
      "Accuracy of LMNN is: % 91.67\n",
      "[[ 8.  0.  0.]\n",
      " [ 1. 13.  1.]\n",
      " [ 0.  1. 12.]]\n",
      "Accuracy of NCA is: % 75.00\n",
      "[[ 6.  0.  0.]\n",
      " [ 0. 11.  3.]\n",
      " [ 3.  3. 10.]]\n"
     ]
    }
   ],
   "source": [
    "#k = 15\n",
    "predictions_KNN =  KNN(training_data,training_Label,testing_data,k[5])\n",
    "predictions_LMNN=  Metric_learn(training_data,training_Label,testing_data,k[5],'LMNN')\n",
    "predictions_NCA =  Metric_learn(training_data,training_Label,testing_data,k[5],'NCA')\n",
    "\n",
    "\n",
    "Accuracy_KNN  = getAccuracy(predictions_KNN, testing_Label)\n",
    "confusion_matrix_LMNN=confusion_matrix(predictions_KNN, testing_Label)\n",
    "\n",
    "\n",
    "Accuracy_LMNN = getAccuracy(predictions_LMNN,testing_Label)\n",
    "confusion_matrix_LMNN=confusion_matrix(predictions_LMNN, testing_Label)\n",
    "\n",
    "\n",
    "Accuracy_NCA  = getAccuracy(predictions_NCA, testing_Label)\n",
    "confusion_matrix_NCA=confusion_matrix(predictions_NCA, testing_Label)\n",
    "\n",
    "\n",
    "print('Accuracy of KNN is: %% %1.2f' %(Accuracy_KNN))\n",
    "print(confusion_matrix_KNN)\n",
    "\n",
    "\n",
    "print('Accuracy of LMNN is: %% %1.2f' %(Accuracy_LMNN))\n",
    "print(confusion_matrix_LMNN)\n",
    "\n",
    "\n",
    "print('Accuracy of NCA is: %% %1.2f' %(Accuracy_NCA))\n",
    "print(confusion_matrix_NCA)\n",
    "\n",
    "\n",
    "\n",
    "\n"
   ]
  },
  {
   "cell_type": "markdown",
   "metadata": {},
   "source": [
    "### Finding The best K value \n"
   ]
  },
  {
   "cell_type": "code",
   "execution_count": 221,
   "metadata": {},
   "outputs": [],
   "source": [
    "k_values = [3,5,7,9,11,13,15,17,19,21,23,25,27,29,31]\n",
    "k_dimansion=np.size(k_values)"
   ]
  },
  {
   "cell_type": "code",
   "execution_count": 222,
   "metadata": {},
   "outputs": [],
   "source": [
    "vector_accuracy_LMNN=np.zeros(k_dimansion)\n",
    "vector_accuracy_NCA =np.zeros(k_dimansion)"
   ]
  },
  {
   "cell_type": "code",
   "execution_count": 223,
   "metadata": {},
   "outputs": [],
   "source": [
    "for i in range(k_dimansion):\n",
    "    predictions_LMNN=  Metric_learn(training_data,training_Label,testing_data,k_values[i],'LMNN')\n",
    "    predictions_NCA =  Metric_learn(training_data,training_Label,testing_data,k_values[i],'NCA')\n",
    "    vector_accuracy_LMNN[i]=getAccuracy(predictions_LMNN, testing_Label)\n",
    "    vector_accuracy_NCA[i] =getAccuracy(predictions_NCA, testing_Label)\n",
    "    \n"
   ]
  },
  {
   "cell_type": "code",
   "execution_count": 228,
   "metadata": {},
   "outputs": [
    {
     "data": {
      "text/plain": [
       "Text(0.5, 1.0, 'LMNN Accuracy based on k values')"
      ]
     },
     "execution_count": 228,
     "metadata": {},
     "output_type": "execute_result"
    },
    {
     "data": {
      "image/png": "[encoded data removed]",
      "text/plain": [
       "<Figure size 432x288 with 1 Axes>"
      ]
     },
     "metadata": {
      "needs_background": "light"
     },
     "output_type": "display_data"
    }
   ],
   "source": [
    "plt.plot(k_values,vector_accuracy_LMNN)\n",
    "plt.title(\"LMNN Accuracy based on k values\")"
   ]
  },
  {
   "cell_type": "code",
   "execution_count": 229,
   "metadata": {},
   "outputs": [
    {
     "data": {
      "text/plain": [
       "Text(0.5, 1.0, 'NCA Accuracy based on k values')"
      ]
     },
     "execution_count": 229,
     "metadata": {},
     "output_type": "execute_result"
    },
    {
     "data": {
      "image/png": "[encoded data removed]",
      "text/plain": [
       "<Figure size 432x288 with 1 Axes>"
      ]
     },
     "metadata": {
      "needs_background": "light"
     },
     "output_type": "display_data"
    }
   ],
   "source": [
    "plt.plot(k_values,vector_accuracy_NCA)\n",
    "plt.title(\"NCA Accuracy based on k values\")"
   ]
  },
  {
   "cell_type": "code",
   "execution_count": null,
   "metadata": {},
   "outputs": [],
   "source": []
  }
 ],
 "metadata": {
  "kernelspec": {
   "display_name": "Python 3",
   "language": "python",
   "name": "python3"
  },
  "language_info": {
   "codemirror_mode": {
    "name": "ipython",
    "version": 3
   },
   "file_extension": ".py",
   "mimetype": "text/x-python",
   "name": "python",
   "nbconvert_exporter": "python",
   "pygments_lexer": "ipython3",
   "version": "3.8.5"
  }
 },
 "nbformat": 4,
 "nbformat_minor": 4
}
